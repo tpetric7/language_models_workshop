{
  "cells": [
    {
      "cell_type": "markdown",
      "metadata": {
        "id": "k-ml23btIN2t"
      },
      "source": [
        "# Translate Document with Google\n",
        "\n"
      ]
    },
    {
      "cell_type": "code",
      "execution_count": 1,
      "metadata": {
        "id": "dpSZhpgOIN2v",
        "outputId": "26d77562-b8a0-43f6-f896-44d1595f0882",
        "colab": {
          "base_uri": "https://localhost:8080/"
        }
      },
      "outputs": [
        {
          "output_type": "stream",
          "name": "stdout",
          "text": [
            "Collecting python-docx\n",
            "  Downloading python_docx-1.1.2-py3-none-any.whl.metadata (2.0 kB)\n",
            "Collecting deep-translator\n",
            "  Downloading deep_translator-1.11.4-py3-none-any.whl.metadata (30 kB)\n",
            "Requirement already satisfied: lxml>=3.1.0 in /usr/local/lib/python3.11/dist-packages (from python-docx) (5.3.0)\n",
            "Requirement already satisfied: typing-extensions>=4.9.0 in /usr/local/lib/python3.11/dist-packages (from python-docx) (4.12.2)\n",
            "Requirement already satisfied: beautifulsoup4<5.0.0,>=4.9.1 in /usr/local/lib/python3.11/dist-packages (from deep-translator) (4.12.3)\n",
            "Requirement already satisfied: requests<3.0.0,>=2.23.0 in /usr/local/lib/python3.11/dist-packages (from deep-translator) (2.32.3)\n",
            "Requirement already satisfied: soupsieve>1.2 in /usr/local/lib/python3.11/dist-packages (from beautifulsoup4<5.0.0,>=4.9.1->deep-translator) (2.6)\n",
            "Requirement already satisfied: charset-normalizer<4,>=2 in /usr/local/lib/python3.11/dist-packages (from requests<3.0.0,>=2.23.0->deep-translator) (3.4.1)\n",
            "Requirement already satisfied: idna<4,>=2.5 in /usr/local/lib/python3.11/dist-packages (from requests<3.0.0,>=2.23.0->deep-translator) (3.10)\n",
            "Requirement already satisfied: urllib3<3,>=1.21.1 in /usr/local/lib/python3.11/dist-packages (from requests<3.0.0,>=2.23.0->deep-translator) (2.3.0)\n",
            "Requirement already satisfied: certifi>=2017.4.17 in /usr/local/lib/python3.11/dist-packages (from requests<3.0.0,>=2.23.0->deep-translator) (2024.12.14)\n",
            "Downloading python_docx-1.1.2-py3-none-any.whl (244 kB)\n",
            "\u001b[2K   \u001b[90m━━━━━━━━━━━━━━━━━━━━━━━━━━━━━━━━━━━━━━━━\u001b[0m \u001b[32m244.3/244.3 kB\u001b[0m \u001b[31m6.2 MB/s\u001b[0m eta \u001b[36m0:00:00\u001b[0m\n",
            "\u001b[?25hDownloading deep_translator-1.11.4-py3-none-any.whl (42 kB)\n",
            "\u001b[2K   \u001b[90m━━━━━━━━━━━━━━━━━━━━━━━━━━━━━━━━━━━━━━━━\u001b[0m \u001b[32m42.3/42.3 kB\u001b[0m \u001b[31m3.2 MB/s\u001b[0m eta \u001b[36m0:00:00\u001b[0m\n",
            "\u001b[?25hInstalling collected packages: python-docx, deep-translator\n",
            "Successfully installed deep-translator-1.11.4 python-docx-1.1.2\n"
          ]
        }
      ],
      "source": [
        "!pip install python-docx deep-translator"
      ]
    },
    {
      "cell_type": "code",
      "execution_count": 2,
      "metadata": {
        "id": "Nu6dNh2KIN2v"
      },
      "outputs": [],
      "source": [
        "input_path = \"/content/TESNIER3.docx\"\n",
        "output_path_first_half = \"/content/TESNIER3_First_Half_Translated.docx\"\n",
        "output_path_second_half = \"/content/TESNIER3_Second_Half_Translated.docx\"\n"
      ]
    },
    {
      "cell_type": "code",
      "execution_count": 3,
      "metadata": {
        "id": "vZ66vchGIN2w",
        "outputId": "8b49317e-4574-4b8c-abdd-17b5977cadde",
        "colab": {
          "base_uri": "https://localhost:8080/"
        }
      },
      "outputs": [
        {
          "output_type": "stream",
          "name": "stdout",
          "text": [
            "True\n",
            "False\n",
            "False\n"
          ]
        }
      ],
      "source": [
        "import os\n",
        "print(os.path.exists(input_path))  # Should return True if the file exists\n",
        "print(os.path.exists(output_path_first_half))\n",
        "print(os.path.exists(output_path_second_half))\n"
      ]
    },
    {
      "cell_type": "code",
      "execution_count": 4,
      "metadata": {
        "id": "VIiT8WBKIN2x",
        "outputId": "fcf988a4-2b08-4c3d-8272-0fa8845d195c",
        "colab": {
          "base_uri": "https://localhost:8080/"
        }
      },
      "outputs": [
        {
          "output_type": "stream",
          "name": "stdout",
          "text": [
            "Translation completed. Files saved as:\n",
            "First half: /content/TESNIER3_First_Half_Translated.docx\n",
            "Second half: /content/TESNIER3_Second_Half_Translated.docx\n"
          ]
        }
      ],
      "source": [
        "from docx import Document  # Import the Document class from python-docx\n",
        "from deep_translator import GoogleTranslator  # Import GoogleTranslator for translations\n",
        "\n",
        "# Function to translate text from German to English\n",
        "def translate_text(text, source_lang=\"de\", target_lang=\"en\"):\n",
        "    if text.strip():  # Only translate non-empty paragraphs\n",
        "        return GoogleTranslator(source=source_lang, target=target_lang).translate(text)\n",
        "    return text\n",
        "\n",
        "# Load the input Word document\n",
        "input_path = input_path  # Replace with your file path\n",
        "doc = Document(input_path)\n",
        "\n",
        "# Calculate the number of paragraphs\n",
        "total_paragraphs = len(doc.paragraphs)\n",
        "half_paragraphs = total_paragraphs // 2  # Define half the paragraphs\n",
        "\n",
        "# Translate the first half\n",
        "output_path_first_half = output_path_first_half  # Replace with your desired output path\n",
        "translated_doc = Document()\n",
        "\n",
        "for i in range(half_paragraphs):\n",
        "    paragraph = doc.paragraphs[i].text\n",
        "    translated_paragraph = translate_text(paragraph)  # Translate to English\n",
        "    translated_doc.add_paragraph(translated_paragraph)\n",
        "\n",
        "# Save the translated first half\n",
        "translated_doc.save(output_path_first_half)\n",
        "\n",
        "# Translate the second half\n",
        "output_path_second_half = output_path_second_half  # Replace with your desired output path\n",
        "translated_doc_second_half = Document()\n",
        "\n",
        "for i in range(half_paragraphs, total_paragraphs):\n",
        "    paragraph = doc.paragraphs[i].text\n",
        "    translated_paragraph = translate_text(paragraph)  # Translate to English\n",
        "    translated_doc_second_half.add_paragraph(translated_paragraph)\n",
        "\n",
        "# Save the translated second half\n",
        "translated_doc_second_half.save(output_path_second_half)\n",
        "\n",
        "print(\"Translation completed. Files saved as:\")\n",
        "print(f\"First half: {output_path_first_half}\")\n",
        "print(f\"Second half: {output_path_second_half}\")\n"
      ]
    }
  ],
  "metadata": {
    "kernelspec": {
      "display_name": "classify",
      "language": "python",
      "name": "python3"
    },
    "language_info": {
      "codemirror_mode": {
        "name": "ipython",
        "version": 3
      },
      "file_extension": ".py",
      "mimetype": "text/x-python",
      "name": "python",
      "nbconvert_exporter": "python",
      "pygments_lexer": "ipython3",
      "version": "3.11.9"
    },
    "colab": {
      "provenance": []
    }
  },
  "nbformat": 4,
  "nbformat_minor": 0
}