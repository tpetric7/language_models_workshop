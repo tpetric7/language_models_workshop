{
  "nbformat": 4,
  "nbformat_minor": 0,
  "metadata": {
    "colab": {
      "provenance": [],
      "gpuType": "T4"
    },
    "kernelspec": {
      "name": "ir",
      "display_name": "R"
    },
    "language_info": {
      "name": "R"
    },
    "accelerator": "GPU"
  },
  "cells": [
    {
      "cell_type": "markdown",
      "source": [
        "# Topic analiza"
      ],
      "metadata": {
        "id": "zFOh4foWI8c3"
      }
    },
    {
      "cell_type": "markdown",
      "source": [
        "## Vzpostavitev Pythonovega okolja"
      ],
      "metadata": {
        "id": "atjKLdUsI65-"
      }
    },
    {
      "cell_type": "code",
      "execution_count": 1,
      "metadata": {
        "id": "5DRK8VQBQkCM"
      },
      "outputs": [],
      "source": [
        "# If needed, run shell commands in R via system()\n",
        "system(\"which python\")\n",
        "system(\"python --version\")\n",
        "system(\"sudo apt-get update -y\")\n",
        "system(\"sudo apt-get install -y python3-dev\")\n",
        "system(\"sudo apt-get install -y python3-venv\")\n"
      ]
    },
    {
      "cell_type": "markdown",
      "source": [
        "## Namestitev vmesnika za Python"
      ],
      "metadata": {
        "id": "IKNSbAPpJGzf"
      }
    },
    {
      "cell_type": "code",
      "source": [
        "install.packages(\"reticulate\")\n",
        "library(reticulate)\n"
      ],
      "metadata": {
        "colab": {
          "base_uri": "https://localhost:8080/"
        },
        "id": "UcRGpu8mRDtK",
        "outputId": "73456105-3933-4e67-f990-2dbf8392736b"
      },
      "execution_count": 2,
      "outputs": [
        {
          "output_type": "stream",
          "name": "stderr",
          "text": [
            "Installing package into ‘/usr/local/lib/R/site-library’\n",
            "(as ‘lib’ is unspecified)\n",
            "\n",
            "also installing the dependencies ‘RcppTOML’, ‘here’, ‘png’\n",
            "\n",
            "\n"
          ]
        }
      ]
    },
    {
      "cell_type": "markdown",
      "source": [
        "## Ustvarjanje Pythonovega virtualnega okolja"
      ],
      "metadata": {
        "id": "0CeOBbAqJNiT"
      }
    },
    {
      "cell_type": "code",
      "source": [
        "# virtualenv_create(\"bertopic\", python = \"/usr/local/bin/python\")\n",
        "system(\"python3 -m venv /root/.virtualenvs/bertopic\")\n",
        "system(\"pip install virtualenv\")\n",
        "system(\"virtualenv /root/.virtualenvs/bertopic\")\n"
      ],
      "metadata": {
        "id": "V0rmbTcEReHT"
      },
      "execution_count": 3,
      "outputs": []
    },
    {
      "cell_type": "markdown",
      "source": [
        "# Namestitev Pythonovih knjižnic"
      ],
      "metadata": {
        "id": "byXI8aquI1Fs"
      }
    },
    {
      "cell_type": "code",
      "source": [
        "library(reticulate)\n",
        "use_virtualenv(\"bertopic\", required = TRUE)\n",
        "py_install(\"pandas\", envname = \"bertopic\")\n",
        "py_install(c(\"numpy\", \"matplotlib\"), envname = \"bertopic\")\n",
        "py_install(\"bertopic\", envname = \"bertopic\")\n",
        "py_install(\"umap-learn\", envname = \"bertopic\")\n",
        "py_install(\"hdbscan\", envname = \"bertopic\")\n",
        "py_install(\"scikit-learn\", envname = \"bertopic\")\n",
        "py_install(\"plotly\", envname = \"bertopic\")"
      ],
      "metadata": {
        "colab": {
          "base_uri": "https://localhost:8080/"
        },
        "id": "XcV2AB-3UphO",
        "outputId": "04760aef-c2a5-4b86-ddab-a6b9c0fbf445"
      },
      "execution_count": 4,
      "outputs": [
        {
          "output_type": "stream",
          "name": "stdout",
          "text": [
            "Using virtual environment 'bertopic' ...\n"
          ]
        },
        {
          "output_type": "stream",
          "name": "stderr",
          "text": [
            "+ /root/.virtualenvs/bertopic/bin/python -m pip install --upgrade --no-user pandas\n",
            "\n"
          ]
        },
        {
          "output_type": "stream",
          "name": "stdout",
          "text": [
            "Using virtual environment 'bertopic' ...\n"
          ]
        },
        {
          "output_type": "stream",
          "name": "stderr",
          "text": [
            "+ /root/.virtualenvs/bertopic/bin/python -m pip install --upgrade --no-user numpy matplotlib\n",
            "\n"
          ]
        },
        {
          "output_type": "stream",
          "name": "stdout",
          "text": [
            "Using virtual environment 'bertopic' ...\n"
          ]
        },
        {
          "output_type": "stream",
          "name": "stderr",
          "text": [
            "+ /root/.virtualenvs/bertopic/bin/python -m pip install --upgrade --no-user bertopic\n",
            "\n"
          ]
        },
        {
          "output_type": "stream",
          "name": "stdout",
          "text": [
            "Using virtual environment 'bertopic' ...\n"
          ]
        },
        {
          "output_type": "stream",
          "name": "stderr",
          "text": [
            "+ /root/.virtualenvs/bertopic/bin/python -m pip install --upgrade --no-user umap-learn\n",
            "\n"
          ]
        },
        {
          "output_type": "stream",
          "name": "stdout",
          "text": [
            "Using virtual environment 'bertopic' ...\n"
          ]
        },
        {
          "output_type": "stream",
          "name": "stderr",
          "text": [
            "+ /root/.virtualenvs/bertopic/bin/python -m pip install --upgrade --no-user hdbscan\n",
            "\n"
          ]
        },
        {
          "output_type": "stream",
          "name": "stdout",
          "text": [
            "Using virtual environment 'bertopic' ...\n"
          ]
        },
        {
          "output_type": "stream",
          "name": "stderr",
          "text": [
            "+ /root/.virtualenvs/bertopic/bin/python -m pip install --upgrade --no-user scikit-learn\n",
            "\n"
          ]
        },
        {
          "output_type": "stream",
          "name": "stdout",
          "text": [
            "Using virtual environment 'bertopic' ...\n"
          ]
        },
        {
          "output_type": "stream",
          "name": "stderr",
          "text": [
            "+ /root/.virtualenvs/bertopic/bin/python -m pip install --upgrade --no-user plotly\n",
            "\n"
          ]
        }
      ]
    },
    {
      "cell_type": "markdown",
      "source": [
        "## Priklic Pythonovih knjižnic"
      ],
      "metadata": {
        "id": "NR3judkqIw5L"
      }
    },
    {
      "cell_type": "code",
      "source": [
        "# Import necessary Python modules\n",
        "np <- import(\"numpy\")\n",
        "umap <- import(\"umap\")\n",
        "UMAP <- umap$UMAP\n",
        "hdbscan <- import(\"hdbscan\")\n",
        "HDBSCAN <- hdbscan$HDBSCAN\n",
        "sklearn <- import(\"sklearn\")\n",
        "CountVectorizer <- sklearn$feature_extraction$text$CountVectorizer\n",
        "bertopic <- import(\"bertopic\")\n",
        "plotly <- import(\"plotly\")\n",
        "datetime <- import(\"datetime\")\n"
      ],
      "metadata": {
        "id": "hYD4on-yWHrI"
      },
      "execution_count": 5,
      "outputs": []
    },
    {
      "cell_type": "markdown",
      "source": [
        "## Namestitev knjižnic R"
      ],
      "metadata": {
        "id": "WB0yhLLmIsLW"
      }
    },
    {
      "cell_type": "code",
      "source": [
        "install.packages(c(\"dplyr\", \"tidyr\", \"tictoc\", \"htmltools\", \"htmlwidgets\"))"
      ],
      "metadata": {
        "colab": {
          "base_uri": "https://localhost:8080/"
        },
        "id": "KwHLlG05XrRe",
        "outputId": "b49c12fc-2003-4a23-cd26-f742e4a5c8c5"
      },
      "execution_count": 6,
      "outputs": [
        {
          "output_type": "stream",
          "name": "stderr",
          "text": [
            "Installing packages into ‘/usr/local/lib/R/site-library’\n",
            "(as ‘lib’ is unspecified)\n",
            "\n"
          ]
        }
      ]
    },
    {
      "cell_type": "code",
      "source": [
        "install.packages(\"devtools\")"
      ],
      "metadata": {
        "colab": {
          "base_uri": "https://localhost:8080/"
        },
        "id": "T5e9sM_2bVQe",
        "outputId": "0a326117-4398-40a5-91c1-28fca0cfd7d3"
      },
      "execution_count": 7,
      "outputs": [
        {
          "output_type": "stream",
          "name": "stderr",
          "text": [
            "Installing package into ‘/usr/local/lib/R/site-library’\n",
            "(as ‘lib’ is unspecified)\n",
            "\n"
          ]
        }
      ]
    },
    {
      "cell_type": "code",
      "source": [
        "devtools::install_github(\"tpetric7/bertopicr\")"
      ],
      "metadata": {
        "colab": {
          "base_uri": "https://localhost:8080/"
        },
        "id": "5t3DDt-DbcSA",
        "outputId": "d6219757-91ed-4b4a-bc83-517199f7e6a6"
      },
      "execution_count": 8,
      "outputs": [
        {
          "output_type": "stream",
          "name": "stderr",
          "text": [
            "Downloading GitHub repo tpetric7/bertopicr@HEAD\n",
            "\n"
          ]
        },
        {
          "output_type": "stream",
          "name": "stdout",
          "text": [
            "\n",
            "\u001b[36m──\u001b[39m \u001b[36mR CMD build\u001b[39m \u001b[36m─────────────────────────────────────────────────────────────────\u001b[39m\n",
            "* checking for file ‘/tmp/RtmpVbLflT/remotes276144083e8/tpetric7-bertopicr-fee33d5/DESCRIPTION’ ... OK\n",
            "* preparing ‘bertopicr’:\n",
            "* checking DESCRIPTION meta-information ... OK\n",
            "* checking for LF line-endings in source and make files and shell scripts\n",
            "* checking for empty or unneeded directories\n",
            "* building ‘bertopicr_0.3.0.tar.gz’\n",
            "\n"
          ]
        },
        {
          "output_type": "stream",
          "name": "stderr",
          "text": [
            "Installing package into ‘/usr/local/lib/R/site-library’\n",
            "(as ‘lib’ is unspecified)\n",
            "\n"
          ]
        }
      ]
    },
    {
      "cell_type": "markdown",
      "source": [
        "## Priklic knjižnic R"
      ],
      "metadata": {
        "id": "K72cj1bYLEqi"
      }
    },
    {
      "cell_type": "code",
      "source": [
        "library(dplyr)\n",
        "library(tidyr)\n",
        "# library(quanteda)\n",
        "library(tictoc)\n",
        "library(htmltools)\n",
        "library(htmlwidgets)\n",
        "# library(arrow)\n",
        "library(bertopicr)"
      ],
      "metadata": {
        "id": "D6AtOcQ3XU19"
      },
      "execution_count": 10,
      "outputs": []
    },
    {
      "cell_type": "markdown",
      "source": [
        "## Branje podatkovnega niza"
      ],
      "metadata": {
        "id": "szbG9pe4LJDS"
      }
    },
    {
      "cell_type": "code",
      "source": [
        "input_folder <- \"/content/\"\n",
        "input_file <- \"ucb_uni_cleaned.rds\"\n",
        "dataset <- readRDS(file.path(input_folder, input_file))\n",
        "names(dataset)\n",
        "dim(dataset)"
      ],
      "metadata": {
        "colab": {
          "base_uri": "https://localhost:8080/",
          "height": 52
        },
        "id": "qU5hXT-CdB59",
        "outputId": "f3ec5aa1-8cc8-45cd-838e-11364a65d17d"
      },
      "execution_count": 11,
      "outputs": [
        {
          "output_type": "display_data",
          "data": {
            "text/html": [
              "<style>\n",
              ".list-inline {list-style: none; margin:0; padding: 0}\n",
              ".list-inline>li {display: inline-block}\n",
              ".list-inline>li:not(:last-child)::after {content: \"\\00b7\"; padding: 0 .5ex}\n",
              "</style>\n",
              "<ol class=list-inline><li>'Doc_ID'</li><li>'School'</li><li>'veda'</li><li>'program'</li><li>'book_number'</li><li>'year'</li><li>'Text'</li><li>'sentence_id'</li><li>'sent_length'</li><li>'seq_id'</li><li>'text_clean'</li><li>'sentence_length'</li></ol>\n"
            ],
            "text/markdown": "1. 'Doc_ID'\n2. 'School'\n3. 'veda'\n4. 'program'\n5. 'book_number'\n6. 'year'\n7. 'Text'\n8. 'sentence_id'\n9. 'sent_length'\n10. 'seq_id'\n11. 'text_clean'\n12. 'sentence_length'\n\n\n",
            "text/latex": "\\begin{enumerate*}\n\\item 'Doc\\_ID'\n\\item 'School'\n\\item 'veda'\n\\item 'program'\n\\item 'book\\_number'\n\\item 'year'\n\\item 'Text'\n\\item 'sentence\\_id'\n\\item 'sent\\_length'\n\\item 'seq\\_id'\n\\item 'text\\_clean'\n\\item 'sentence\\_length'\n\\end{enumerate*}\n",
            "text/plain": [
              " [1] \"Doc_ID\"          \"School\"          \"veda\"            \"program\"        \n",
              " [5] \"book_number\"     \"year\"            \"Text\"            \"sentence_id\"    \n",
              " [9] \"sent_length\"     \"seq_id\"          \"text_clean\"      \"sentence_length\""
            ]
          },
          "metadata": {}
        },
        {
          "output_type": "display_data",
          "data": {
            "text/html": [
              "<style>\n",
              ".list-inline {list-style: none; margin:0; padding: 0}\n",
              ".list-inline>li {display: inline-block}\n",
              ".list-inline>li:not(:last-child)::after {content: \"\\00b7\"; padding: 0 .5ex}\n",
              "</style>\n",
              "<ol class=list-inline><li>76642</li><li>12</li></ol>\n"
            ],
            "text/markdown": "1. 76642\n2. 12\n\n\n",
            "text/latex": "\\begin{enumerate*}\n\\item 76642\n\\item 12\n\\end{enumerate*}\n",
            "text/plain": [
              "[1] 76642    12"
            ]
          },
          "metadata": {}
        }
      ]
    },
    {
      "cell_type": "markdown",
      "source": [
        "## Branje nezaželenih besed"
      ],
      "metadata": {
        "id": "_f9FKuyxLp6D"
      }
    },
    {
      "cell_type": "code",
      "source": [
        "input_folder <- \"/content/\"\n",
        "input_file <- \"all_stopwords.txt\"\n",
        "all_stopwords <- read_lines(file.path(input_folder, input_file))"
      ],
      "metadata": {
        "id": "Qpgr2CaveF--"
      },
      "execution_count": 12,
      "outputs": []
    },
    {
      "cell_type": "markdown",
      "source": [
        "## Izbor besedilnega stolpca"
      ],
      "metadata": {
        "id": "oAppPFT2L0Gx"
      }
    },
    {
      "cell_type": "code",
      "source": [
        "texts_cleaned = dataset$text_clean\n",
        "# titles = dataset$doc_id\n",
        "titles = dataset$Doc_ID\n",
        "# timestamps <- as.list(dataset$date)\n",
        "timestamps <- as.integer(dataset$year)\n",
        "\n",
        "texts_cleaned[[1]]"
      ],
      "metadata": {
        "colab": {
          "base_uri": "https://localhost:8080/",
          "height": 86
        },
        "id": "vgNOKsYAeRJE",
        "outputId": "931deb7f-29ed-427a-88d1-e9fa4c384f2e"
      },
      "execution_count": 13,
      "outputs": [
        {
          "output_type": "display_data",
          "data": {
            "text/html": [
              "'univerza v ljubljani biotehniška fakulteta oddelek za agronomijo prof dr katja vadna čl icz o univerza v ljubljani biotehniška fakulteta cip kataložni zapis o publikaciji narodna in univerzitetna knjižnica ljubljana vadnal katja agrarna ekonomika osnove trg država katja vadnal l izd ljubljana biotehniška fakulteta oddelek za agronomijo isbn recenzija prof dr jernej turk kmetijska fakulteta univerza v mariboru doc dr andrej udovč biotehniška fakulteta univerza v ljubljani lektoriranje prof alenka raič blažič oblikovanje franci'"
            ],
            "text/markdown": "'univerza v ljubljani biotehniška fakulteta oddelek za agronomijo prof dr katja vadna čl icz o univerza v ljubljani biotehniška fakulteta cip kataložni zapis o publikaciji narodna in univerzitetna knjižnica ljubljana vadnal katja agrarna ekonomika osnove trg država katja vadnal l izd ljubljana biotehniška fakulteta oddelek za agronomijo isbn recenzija prof dr jernej turk kmetijska fakulteta univerza v mariboru doc dr andrej udovč biotehniška fakulteta univerza v ljubljani lektoriranje prof alenka raič blažič oblikovanje franci'",
            "text/latex": "'univerza v ljubljani biotehniška fakulteta oddelek za agronomijo prof dr katja vadna čl icz o univerza v ljubljani biotehniška fakulteta cip kataložni zapis o publikaciji narodna in univerzitetna knjižnica ljubljana vadnal katja agrarna ekonomika osnove trg država katja vadnal l izd ljubljana biotehniška fakulteta oddelek za agronomijo isbn recenzija prof dr jernej turk kmetijska fakulteta univerza v mariboru doc dr andrej udovč biotehniška fakulteta univerza v ljubljani lektoriranje prof alenka raič blažič oblikovanje franci'",
            "text/plain": [
              "[1] \"univerza v ljubljani biotehniška fakulteta oddelek za agronomijo prof dr katja vadna čl icz o univerza v ljubljani biotehniška fakulteta cip kataložni zapis o publikaciji narodna in univerzitetna knjižnica ljubljana vadnal katja agrarna ekonomika osnove trg država katja vadnal l izd ljubljana biotehniška fakulteta oddelek za agronomijo isbn recenzija prof dr jernej turk kmetijska fakulteta univerza v mariboru doc dr andrej udovč biotehniška fakulteta univerza v ljubljani lektoriranje prof alenka raič blažič oblikovanje franci\""
            ]
          },
          "metadata": {}
        }
      ]
    },
    {
      "cell_type": "markdown",
      "source": [
        "## Vektorska reprezentacija (embeddings)"
      ],
      "metadata": {
        "id": "Ytma8nWOL931"
      }
    },
    {
      "cell_type": "code",
      "source": [
        "# Embed the sentences\n",
        "py <- import_builtins()\n",
        "sentence_transformers <- import(\"sentence_transformers\")\n",
        "SentenceTransformer <- sentence_transformers$SentenceTransformer\n",
        "# embedding_model = SentenceTransformer(\"BAAI/bge-m3\")\n",
        "embedding_model = SentenceTransformer(\"cjvt/sloberta-trendi-topics\")\n",
        "embeddings = embedding_model$encode(texts_cleaned, show_progress_bar=TRUE)\n"
      ],
      "metadata": {
        "id": "lPZU4jFYee68"
      },
      "execution_count": 14,
      "outputs": []
    },
    {
      "cell_type": "markdown",
      "source": [
        "## Redukcija dimenzij in grozdenje"
      ],
      "metadata": {
        "id": "0xDuo3niMI-v"
      }
    },
    {
      "cell_type": "code",
      "source": [
        "# Initialize UMAP and HDBSCAN models\n",
        "umap_model <- UMAP(n_neighbors=15L, n_components=5L, min_dist=0.0, metric='cosine', random_state=42L)\n"
      ],
      "metadata": {
        "id": "3zHKMCESl1Cq"
      },
      "execution_count": 15,
      "outputs": []
    },
    {
      "cell_type": "code",
      "source": [
        "hdbscan_model <- HDBSCAN(min_cluster_size=50L, min_samples = 20L, metric='euclidean', cluster_selection_method='eom', gen_min_span_tree=TRUE, prediction_data=TRUE)\n"
      ],
      "metadata": {
        "id": "7mfdCmUrl6XL"
      },
      "execution_count": 16,
      "outputs": []
    },
    {
      "cell_type": "code",
      "source": [
        "# Initialize CountVectorizer\n",
        "vectorizer_model <- CountVectorizer(min_df=2L, ngram_range=tuple(1L, 3L),\n",
        "                                    max_features = 10000L, max_df = 50L,\n",
        "                                    stop_words = all_stopwords)\n",
        "sentence_vectors <- vectorizer_model$fit_transform(texts_cleaned)\n",
        "sentence_vectors_dense <- np$array(sentence_vectors)\n",
        "sentence_vectors_dense <- py_to_r(sentence_vectors_dense)\n"
      ],
      "metadata": {
        "id": "ev_c6eBtmBpT"
      },
      "execution_count": 17,
      "outputs": []
    },
    {
      "cell_type": "markdown",
      "source": [
        "## Reprezentacijski modeli"
      ],
      "metadata": {
        "id": "IZHF3ixxMiHz"
      }
    },
    {
      "cell_type": "code",
      "source": [
        "# Initialize representation models\n",
        "keybert_model <- bertopic$representation$KeyBERTInspired()\n",
        "# openai <- import(\"openai\")\n",
        "# OpenAI <- openai$OpenAI\n",
        "# ollama <- import(\"ollama\")\n",
        "\n",
        "# # Point to the local server (ollama or lm-studio)\n",
        "# client <- OpenAI(base_url = 'http://localhost:11434/v1', api_key='ollama')\n",
        "# # client <- OpenAI(base_url = 'http://localhost:1234/v1', api_key='lm-studio')\n",
        "\n",
        "# prompt <- \"\n",
        "# I have a topic that contains the following documents:\n",
        "# [DOCUMENTS]\n",
        "# The topic is described by the following keywords: [KEYWORDS]\n",
        "\n",
        "# Based on the information above, extract a short but highly descriptive topic label of at most 5 words. Make sure it is in the following format:\n",
        "# topic: <topic label>\n",
        "# \"\n",
        "\n",
        "# # download an appropriate local LLM for your computer with ollama/lm-studio\n",
        "# openai_model <- bertopic$representation$OpenAI(client,\n",
        "#                                                model = \"llama3.1:8b-instruct-fp16\",\n",
        "#                                                exponential_backoff = TRUE,\n",
        "#                                                chat = TRUE,\n",
        "#                                                prompt = prompt)\n",
        "\n",
        "# # downlaod a spacy language model from spacy.io before use here\n",
        "# pos_model <- bertopic$representation$PartOfSpeech(\"sl_core_news_trf\")\n",
        "\n",
        "# diversity set relatively high to reduce repetition of keyword word forms\n",
        "mmr_model <- bertopic$representation$MaximalMarginalRelevance(diversity = 0.5)\n",
        "\n",
        "# Combine all representation models\n",
        "representation_model <- list(\n",
        "  \"KeyBERT\" = keybert_model,\n",
        "  # \"OpenAI\" = openai_model,\n",
        "  # \"POS\" = pos_model,\n",
        "  \"MMR\" = mmr_model\n",
        ")\n"
      ],
      "metadata": {
        "id": "KnYrIpUPmXql"
      },
      "execution_count": 18,
      "outputs": []
    },
    {
      "cell_type": "markdown",
      "source": [
        "## Vzpostavitev modela BERTopic"
      ],
      "metadata": {
        "id": "B-tTSszRMvzZ"
      }
    },
    {
      "cell_type": "code",
      "source": [
        "# Initialize BERTopic model with pipeline models and hyperparameters\n",
        "BERTopic <- bertopic$BERTopic\n",
        "topic_model <- BERTopic(\n",
        "  embedding_model = embedding_model,\n",
        "  umap_model = umap_model,\n",
        "  hdbscan_model = hdbscan_model,\n",
        "  vectorizer_model = vectorizer_model,\n",
        "  # zeroshot_topic_list = zeroshot_topic_list,\n",
        "  # zeroshot_min_similarity = 0.6, # 0.85\n",
        "  representation_model = representation_model,\n",
        "  calculate_probabilities = TRUE,\n",
        "  top_n_words = 10L,\n",
        "  verbose = TRUE\n",
        ")\n"
      ],
      "metadata": {
        "id": "WvjQOwPvnFng"
      },
      "execution_count": 19,
      "outputs": []
    },
    {
      "cell_type": "markdown",
      "source": [
        "## Učenje modela BERTopic"
      ],
      "metadata": {
        "id": "rvrewVHEM3Xb"
      }
    },
    {
      "cell_type": "code",
      "source": [
        "tictoc::tic()\n",
        "\n",
        "# Fit the model and transform the texts\n",
        "fit_transform <- topic_model$fit_transform(texts_cleaned, embeddings)\n",
        "topics <- fit_transform[[1]]\n",
        "# probs <- fit_transform[[2]]\n",
        "\n",
        "# Now transform the texts to get the updated probabilities\n",
        "transform_result <- topic_model$transform(texts_cleaned)\n",
        "probs <- transform_result[[2]]  # Extract the updated probabilities\n",
        "\n",
        "tictoc::toc()\n"
      ],
      "metadata": {
        "colab": {
          "base_uri": "https://localhost:8080/"
        },
        "id": "gGIh22ILnPdS",
        "outputId": "d9fd22b5-e378-4d7c-e70b-01772216e9ae"
      },
      "execution_count": 20,
      "outputs": [
        {
          "output_type": "stream",
          "name": "stdout",
          "text": [
            "871.508 sec elapsed\n"
          ]
        }
      ]
    },
    {
      "cell_type": "markdown",
      "source": [
        "## Časovna dimenzija"
      ],
      "metadata": {
        "id": "5tM2A8xxM8Rj"
      }
    },
    {
      "cell_type": "code",
      "source": [
        "# Converting R Date to Python datetime\n",
        "datetime <- import(\"datetime\")\n",
        "\n",
        "# timestamps <- as.list(dataset$date)\n",
        "timestamps <- as.integer(dataset$year)\n",
        "\n",
        "# # Convert each R date object to an ISO 8601 string\n",
        "# timestamps <- lapply(timestamps, function(x) {\n",
        "#   format(x, \"%Y-%m-%dT%H:%M:%S\")  # ISO 8601 format\n",
        "# })\n",
        "\n",
        "# Dynamic topic model\n",
        "topics_over_time  <- topic_model$topics_over_time(texts_cleaned, timestamps, nr_bins=20L, global_tuning=TRUE, evolution_tuning=TRUE)\n"
      ],
      "metadata": {
        "id": "C4ymV0QAneCO"
      },
      "execution_count": 21,
      "outputs": []
    },
    {
      "cell_type": "markdown",
      "source": [
        "## Rezultati topic analize"
      ],
      "metadata": {
        "id": "90-rnT65NHjl"
      }
    },
    {
      "cell_type": "code",
      "source": [
        "# Combine results with additional columns\n",
        "results <- dataset |>\n",
        "  mutate(Topic = topics,\n",
        "         Probability = apply(probs, 1, max))  # Assuming the highest probability for each sentence\n",
        "\n",
        "results <- results |>\n",
        "  mutate(row_id = row_number()) |>\n",
        "  select(row_id, everything())\n",
        "\n",
        "head(results,10)"
      ],
      "metadata": {
        "colab": {
          "base_uri": "https://localhost:8080/",
          "height": 1000
        },
        "id": "3RFi8eGbnoC_",
        "outputId": "ba2c016f-45a8-40ce-d06a-b4f1dfdfef9d"
      },
      "execution_count": 22,
      "outputs": [
        {
          "output_type": "display_data",
          "data": {
            "text/html": [
              "<table class=\"dataframe\">\n",
              "<caption>A tibble: 10 × 15</caption>\n",
              "<thead>\n",
              "\t<tr><th scope=col>row_id</th><th scope=col>Doc_ID</th><th scope=col>School</th><th scope=col>veda</th><th scope=col>program</th><th scope=col>book_number</th><th scope=col>year</th><th scope=col>Text</th><th scope=col>sentence_id</th><th scope=col>sent_length</th><th scope=col>seq_id</th><th scope=col>text_clean</th><th scope=col>sentence_length</th><th scope=col>Topic</th><th scope=col>Probability</th></tr>\n",
              "\t<tr><th scope=col>&lt;int&gt;</th><th scope=col>&lt;chr&gt;</th><th scope=col>&lt;chr&gt;</th><th scope=col>&lt;chr&gt;</th><th scope=col>&lt;chr&gt;</th><th scope=col>&lt;chr&gt;</th><th scope=col>&lt;chr&gt;</th><th scope=col>&lt;chr&gt;</th><th scope=col>&lt;int&gt;</th><th scope=col>&lt;int&gt;</th><th scope=col>&lt;int&gt;</th><th scope=col>&lt;chr&gt;</th><th scope=col>&lt;int&gt;</th><th scope=col>&lt;int&gt;</th><th scope=col>&lt;dbl&gt;</th></tr>\n",
              "</thead>\n",
              "<tbody>\n",
              "\t<tr><td> 1</td><td>UL_AGRARNA EKONOMIKA_B</td><td>UL</td><td>B</td><td>AGRARNA EKONOMIKA</td><td>(1)</td><td>2003</td><td>univerza v ljubljani biotehniška fakulteta oddelek za agronomijo prof , dr . katja vadna čl\\ 'icz^o- univerza v ljubljani biotehniška fakulteta cip-kataložni zapis o publikaciji narodna in univerzitetna knjižnica ljubljana 338.43.01 ( 075.8 ) vadnal , katja agrarna ekonomika : osnove , trg , država / katja vadnal . - l izd . - ljubljana : biotehniška fakulteta , oddelek za agronomijo , 2003 isbn 961-6275-10-0 122001664 recenzija : prof. dr. jernej turk , kmetijska fakulteta , univerza v mariboru doc . dr. andrej udovč , biotehniška fakulteta , univerza v ljubljani lektoriranje : prof. alenka raič-blažič oblikovanje : franci                                                                                                           </td><td> 1</td><td> 86</td><td> 1</td><td>univerza v ljubljani biotehniška fakulteta oddelek za agronomijo prof dr katja vadna čl icz o univerza v ljubljani biotehniška fakulteta cip kataložni zapis o publikaciji narodna in univerzitetna knjižnica ljubljana vadnal katja agrarna ekonomika osnove trg država katja vadnal l izd ljubljana biotehniška fakulteta oddelek za agronomijo isbn recenzija prof dr jernej turk kmetijska fakulteta univerza v mariboru doc dr andrej udovč biotehniška fakulteta univerza v ljubljani lektoriranje prof alenka raič blažič oblikovanje franci                                                                                                                                                                     </td><td>74</td><td>0</td><td>0.9999999</td></tr>\n",
              "\t<tr><td> 2</td><td>UL_AGRARNA EKONOMIKA_B</td><td>UL</td><td>B</td><td>AGRARNA EKONOMIKA</td><td>(1)</td><td>2003</td><td>kramarič tisk : forma 1 , vrhpolje 56 , 1251 mora '' x ~ v skladu s sklepom senata oddelka za agronomijo , z dne 19.2.2003 , se univerzitetni učbenik agrarna ekonomika . osnove , trg , država , katerega avtorica je prof. dr. katja vadnal , na biotehniški fakulteti uporablja kot predpisano učno gradivo . založba : biotehniška fakulteta univerze \\ i naklada : 500 izvodov dekan biotehniške fakultete prof. dr. jože resnik , 1. r. univerza v ljubljani biotehniška fakulteta oddelek za agronomijo katja vadnal agrarna ekonomika osnove , trg , država ljubljana , 2003 vsebina predgovor 9                                                                                                                                                          </td><td> 2</td><td> 83</td><td> 2</td><td>kramarič tisk forma vrhpolje mora x v skladu s sklepom senata oddelka za agronomijo z dne se univerzitetni učbenik agrarna ekonomika osnove trg država katerega avtorica je prof dr katja vadnal na biotehniški fakulteti uporablja kot predpisano učno gradivo založba biotehniška fakulteta univerze i naklada izvodov dekan biotehniške fakultete prof dr jože resnik r univerza v ljubljani biotehniška fakulteta oddelek za agronomijo katja vadnal agrarna ekonomika osnove trg država ljubljana vsebina predgovor                                                                                                                                                                                                </td><td>72</td><td>0</td><td>0.9999810</td></tr>\n",
              "\t<tr><td> 3</td><td>UL_AGRARNA EKONOMIKA_B</td><td>UL</td><td>B</td><td>AGRARNA EKONOMIKA</td><td>(1)</td><td>2003</td><td>prvi del : razvoj in metoda agrarne ekonomike 11 1.1 razvoj agrarne ekonomike kot znanstvene 12 discipline 1.1.1 poreklo imena 12 1.1.2 razvoj agrarne ekonomike 13 1.2 definicija agrarne ekonomike 16 1.3 agrarnoekonomsko raziskovanje 17 drugi del : osnove agrarne ekonomike 23 2.1 kmetijstvo in podeželje 24 2.1.1 kmetijstvo , kajje to ? 24 2.1.2 podeželje 29 2.2 prvine kmetijskega pridelovanja 31 2.2.1 naravni viri 31 2.2.2 delo 32 2.2.3 izdelane prvine pridelovanja 35 2.2.4 proizvodna funkcija 37 2.2.5 biotehiški napredek 40 2.3 zakon redkosti 41 2.3.1 redkost prvin pridelovanja in pridelkov 41 2.3.2 krivulja različnih proizvodnih možnosti 42 2.4                                                                                     </td><td> 3</td><td>125</td><td> 3</td><td>prvi del razvoj in metoda agrarne ekonomike razvoj agrarne ekonomike kot znanstvene discipline poreklo imena razvoj agrarne ekonomike definicija agrarne ekonomike agrarnoekonomsko raziskovanje drugi del osnove agrarne ekonomike kmetijstvo in podeželje kmetijstvo kajje to podeželje prvine kmetijskega pridelovanja naravni viri delo izdelane prvine pridelovanja proizvodna funkcija biotehiški napredek zakon redkosti redkost prvin pridelovanja in pridelkov krivulja različnih proizvodnih možnosti                                                                                                                                                                                                         </td><td>59</td><td>0</td><td>1.0000000</td></tr>\n",
              "\t<tr><td> 4</td><td>UL_AGRARNA EKONOMIKA_B</td><td>UL</td><td>B</td><td>AGRARNA EKONOMIKA</td><td>(1)</td><td>2003</td><td>vrste kmetijskih gospodarstev 46 2.4.1 kmetijsko gospodarstvo 46 2.4.2 kmetijska gospodarska družba 46 2.4.3 zadruga 50 2.4.4 kmetija 53 2.4.5 velikost kmetijskega gospodarstva 55 tretji del : kmetijski trg 59 3.1 vloga trga pri uravnavanju gospodarstva 60 3.1.1 trg 60 3.1.2 sestava trga 61 3.2 ponudba kmetijskega pridelka 65 3.2.1 sprememba obsega ponudbe in sprememba ponudbe kmetijskega pridelka 70 3.2.2 skupna ali agregatna ponudba pridelka 72 3.3 povpraševanje po kmetijskem pridelku 75 6 3.3.1 sprememba obsega povpraševanja in sprememba povpraševanja po kmetijskem pridelku 78 3.3.2 skupno ali agregatno povpraševanje po pridelku 79 3.4 tržno ravnotežje 82 3.4.1 sprememba tržnega ravnotežja                                      </td><td> 4</td><td>127</td><td> 4</td><td>vrste kmetijskih gospodarstev kmetijsko gospodarstvo kmetijska gospodarska družba zadruga kmetija velikost kmetijskega gospodarstva tretji del kmetijski trg vloga trga pri uravnavanju gospodarstva trg sestava trga ponudba kmetijskega pridelka sprememba obsega ponudbe in sprememba ponudbe kmetijskega pridelka skupna ali agregatna ponudba pridelka povpraševanje po kmetijskem pridelku sprememba obsega povpraševanja in sprememba povpraševanja po kmetijskem pridelku skupno ali agregatno povpraševanje po pridelku tržno ravnotežje sprememba tržnega ravnotežja                                                                                                                                          </td><td>65</td><td>0</td><td>1.0000000</td></tr>\n",
              "\t<tr><td> 5</td><td>UL_AGRARNA EKONOMIKA_B</td><td>UL</td><td>B</td><td>AGRARNA EKONOMIKA</td><td>(1)</td><td>2003</td><td>83 3.5 kmetijski problem 85 3.5.1 prilagodljivost pridelovalca na spremembe na trgu 87 3.5.2 cenovna elastičnostponudbe pri rasti in padanju cen pridelka 89 3.5.3 kmetijsko trženje 91 3.5.3.1 sistem kmetijskega trženja 91 3.5.3.2 področja in nosilci kmetijskega trženja 94 3.5.3.3 tržni problem slovenskega kmetijstva 97 3.6 tržna napaka 99 četrti del : država 101 4.1 vloga države pri uravnavanju 102 gospodarstva 4.1.1 kratek pregled razvoja poseganja države v tržno gospodarstvo 102 4.1.2 položaj države v gospodarskih in socialnih razmerjih 102 4.1.3 makroekonomski oziroma narodnogospodarski cilji 104 4.1.4 ukrepi države pri uravnavanju gospodarstva 109 4.1.5 javnefinance 110 4.2 davčni sistem 111                                   </td><td> 5</td><td>128</td><td> 5</td><td>kmetijski problem prilagodljivost pridelovalca na spremembe na trgu cenovna elastičnostponudbe pri rasti in padanju cen pridelka kmetijsko trženje sistem kmetijskega trženja področja in nosilci kmetijskega trženja tržni problem slovenskega kmetijstva tržna napaka četrti del država vloga države pri uravnavanju gospodarstva kratek pregled razvoja poseganja države v tržno gospodarstvo položaj države v gospodarskih in socialnih razmerjih makroekonomski oziroma narodnogospodarski cilji ukrepi države pri uravnavanju gospodarstva javnefinance davčni sistem                                                                                                                                             </td><td>67</td><td>0</td><td>1.0000000</td></tr>\n",
              "\t<tr><td> 6</td><td>UL_AGRARNA EKONOMIKA_B</td><td>UL</td><td>B</td><td>AGRARNA EKONOMIKA</td><td>(1)</td><td>2003</td><td>4.2.1 davek , davčni zavezanec in davčna stopnja 111 4.2.2 vrste davkov 112 4.2.3 davek od kmetijstva 116 4.2.4 davčna politika 118 4.3 denar in denarna politika 118 4.3.1 denar 118 4.3.2 trg denarja 121 4.3.3 denarni ali monetarni sistem 125 4.3.3.1 centralna banka kot denarna ustanova 126 4.3.3.2 denarna politika 127 4.3.3.3 poslovna banka kot denarna ustanova 130 4.4 zunanjetrgovinska politika 133 4.4.1 mednarodna trgovina 133 4.4.2 izvozna ponudba in uvozno povpraševanje 136 4.4.3 pozitivni učinki zunanje trgovine 139 4.4.4 zunanjetrgovinska politika 140 4.4.5 ukrepi zunanjetrgovinske politike 144 4.4.6 svetovna trgovinska organizacija 149 peti del : javno usmerjanje kmetijskega                                                </td><td> 6</td><td>135</td><td> 6</td><td>davek davčni zavezanec in davčna stopnja vrste davkov davek od kmetijstva davčna politika denar in denarna politika denar trg denarja denarni ali monetarni sistem centralna banka kot denarna ustanova denarna politika poslovna banka kot denarna ustanova zunanjetrgovinska politika mednarodna trgovina izvozna ponudba in uvozno povpraševanje pozitivni učinki zunanje trgovine zunanjetrgovinska politika ukrepi zunanjetrgovinske politike svetovna trgovinska organizacija peti del javno usmerjanje kmetijskega                                                                                                                                                                                               </td><td>62</td><td>0</td><td>1.0000000</td></tr>\n",
              "\t<tr><td> 7</td><td>UL_AGRARNA EKONOMIKA_B</td><td>UL</td><td>B</td><td>AGRARNA EKONOMIKA</td><td>(1)</td><td>2003</td><td>1 55 razvoja 5.1 kmetijstvo v gospodarskem razvoju 156 5.1.1 vloga kmetijstva v gospodarstu 156 5 . 1.2 pridelovanje živeža 158 5 . 1.3 pridelovanje surovin 167 5.1.4 delovne moči 167 5.1.4.1 agrarna prenaseljenost v teoriji gospodarskega razvoja 168 5.1.5 zasnova večnamenskega kmetijstva 169 5.2 kmetijska politika 170 5.2.1 tipi kmetijske politike 170 5.2.2 oblikovanje kmetijske politike 171 5.2.3 sestavine kmetijske politike 172 5.3 pregled sistema ukrepov za uravnavanje dohodka kmetijskih gospodarstev 185 5.3.1 primerjalen , tudi primeren oziroma pariteten dohodek 185 5.3.2 neposredna podpora dohodka kmetijskega gospodarstva 186 5.3.2.1 ukrepi za ustalitev cene kmetijskih pridelkov 186 5.3.2.2 ukrepi za                        </td><td> 7</td><td>127</td><td> 7</td><td>razvoja kmetijstvo v gospodarskem razvoju vloga kmetijstva v gospodarstu pridelovanje živeža pridelovanje surovin delovne moči agrarna prenaseljenost v teoriji gospodarskega razvoja zasnova večnamenskega kmetijstva kmetijska politika tipi kmetijske politike oblikovanje kmetijske politike sestavine kmetijske politike pregled sistema ukrepov za uravnavanje dohodka kmetijskih gospodarstev primerjalen tudi primeren oziroma pariteten dohodek neposredna podpora dohodka kmetijskega gospodarstva ukrepi za ustalitev cene kmetijskih pridelkov ukrepi za                                                                                                                                                    </td><td>62</td><td>0</td><td>1.0000000</td></tr>\n",
              "\t<tr><td> 8</td><td>UL_AGRARNA EKONOMIKA_B</td><td>UL</td><td>B</td><td>AGRARNA EKONOMIKA</td><td>(1)</td><td>2003</td><td>podporo tržne cene pridelka 188 5.3.3 posredne podpore dohodka kmetijskega gospodarstva 197 5.3.3.1 ukrepi za zniževanje stroškov pridelovanja in reje 198 5.3.3.2 ukrepi za zmanjšanje tveganj 202 5.3.4 naložbe 206 5.3.5 podpore s ponudbojavnih dobrin 210 5.4 usmerjanje trajnostnega razvoja kmetijstva 212 5.4.1 razmerje med usmerjanjem kmetijstva in varovanjem naravnega okolja 212 5.4.2 ukrepi za varovanje naravnega okolja 216 5.4.3 kazalniki trajnostnega razvoja 221 slovstvo 226 stvarno kazalo 235 8 predgovor učbenik je namenjen študentkam in študentom univerzitetnega študija agronomije in zootehnike , ki se v prvem oziroma drugem letniku študija prvič srečajo s področjem agrarne ekonomike . pri predmetih                         </td><td> 8</td><td>117</td><td> 8</td><td>podporo tržne cene pridelka posredne podpore dohodka kmetijskega gospodarstva ukrepi za zniževanje stroškov pridelovanja in reje ukrepi za zmanjšanje tveganj naložbe podpore s ponudbojavnih dobrin usmerjanje trajnostnega razvoja kmetijstva razmerje med usmerjanjem kmetijstva in varovanjem naravnega okolja ukrepi za varovanje naravnega okolja kazalniki trajnostnega razvoja slovstvo stvarno kazalo predgovor učbenik je namenjen študentkam in študentom univerzitetnega študija agronomije in zootehnike ki se v prvem oziroma drugem letniku študija prvič srečajo s področjem agrarne ekonomike pri predmetih                                                                                            </td><td>76</td><td>0</td><td>1.0000000</td></tr>\n",
              "\t<tr><td> 9</td><td>UL_AGRARNA EKONOMIKA_B</td><td>UL</td><td>B</td><td>AGRARNA EKONOMIKA</td><td>(1)</td><td>2003</td><td>agrarna ekonomika in uvod v agrarno ekonomiko zasledujemo naslednje vzgojno izobraževalne smotre : 1. uvajanje v gospodarske vidike kmetijstva 2. motiviranje in spodbujanje k celovitemu obravnavanju problemov pridelovanja in reje 3. spoznavanje temeljnih ekonomskih pojmov in pojavov 4. razumevanje vzvodov in dejavnikov gospodarskega razvoja ter razvoja kmetijstva 5. uporaba pridobljenih znanj pri analizi kmetijskih gospodarskih značilnosti in gospodarskih razmer v kmetijstvu 6. usposabljanje za iskanje ustreznih ekonomskih in kmetijskopolitičnih rešitev . učbenik je razdeljen na 5 zaključenih , vendar medsebojno povezanih delov : 1. razvoj in metoda agrarne ekonomike 2. osnove agrarne ekonomike 3. kmetijski trg 4. država 5. javno</td><td> 9</td><td> 96</td><td> 9</td><td>agrarna ekonomika in uvod v agrarno ekonomiko zasledujemo naslednje vzgojno izobraževalne smotre uvajanje v gospodarske vidike kmetijstva motiviranje in spodbujanje k celovitemu obravnavanju problemov pridelovanja in reje spoznavanje temeljnih ekonomskih pojmov in pojavov razumevanje vzvodov in dejavnikov gospodarskega razvoja ter razvoja kmetijstva uporaba pridobljenih znanj pri analizi kmetijskih gospodarskih značilnosti in gospodarskih razmer v kmetijstvu usposabljanje za iskanje ustreznih ekonomskih in kmetijskopolitičnih rešitev učbenik je razdeljen na zaključenih vendar medsebojno povezanih delov razvoj in metoda agrarne ekonomike osnove agrarne ekonomike kmetijski trg država javno</td><td>84</td><td>0</td><td>1.0000000</td></tr>\n",
              "\t<tr><td>10</td><td>UL_AGRARNA EKONOMIKA_B</td><td>UL</td><td>B</td><td>AGRARNA EKONOMIKA</td><td>(1)</td><td>2003</td><td>usmerjanje kmetijskega razvoja . učbenik v prvem delu obravnava poreklo imena znanstvene discipline , ki je predmet proučevanja . podaja pregled njenega dosedanjega razvoja in opozori na osebe , ki so ga zaznamovale . opredeli vsebino agrarne ekonomike in ključna področja njenega raziskovanja . seznani s potmi , po katerih lahko pridemo do novih agrarnoekonomskih spoznanj , in načeli , kijih moramo pri tem spoštovati . drugi del je namenjen agrarnoekonomskim osnovam . seznani z različnimi pristopi , ki jih je mogoče uporabiti pri opredeljevanju kmetijstva . poskuša ugotoviti , kakšna je zveza med kmetijstvom in podeželjem . pregleda prvine                                                                                            </td><td>10</td><td> 85</td><td>10</td><td>usmerjanje kmetijskega razvoja učbenik v prvem delu obravnava poreklo imena znanstvene discipline ki je predmet proučevanja podaja pregled njenega dosedanjega razvoja in opozori na osebe ki so ga zaznamovale opredeli vsebino agrarne ekonomike in ključna področja njenega raziskovanja seznani s potmi po katerih lahko pridemo do novih agrarnoekonomskih spoznanj in načeli kijih moramo pri tem spoštovati drugi del je namenjen agrarnoekonomskim osnovam seznani z različnimi pristopi ki jih je mogoče uporabiti pri opredeljevanju kmetijstva poskuša ugotoviti kakšna je zveza med kmetijstvom in podeželjem pregleda prvine                                                                               </td><td>85</td><td>0</td><td>1.0000000</td></tr>\n",
              "</tbody>\n",
              "</table>\n"
            ],
            "text/markdown": "\nA tibble: 10 × 15\n\n| row_id &lt;int&gt; | Doc_ID &lt;chr&gt; | School &lt;chr&gt; | veda &lt;chr&gt; | program &lt;chr&gt; | book_number &lt;chr&gt; | year &lt;chr&gt; | Text &lt;chr&gt; | sentence_id &lt;int&gt; | sent_length &lt;int&gt; | seq_id &lt;int&gt; | text_clean &lt;chr&gt; | sentence_length &lt;int&gt; | Topic &lt;int&gt; | Probability &lt;dbl&gt; |\n|---|---|---|---|---|---|---|---|---|---|---|---|---|---|---|\n|  1 | UL_AGRARNA EKONOMIKA_B | UL | B | AGRARNA EKONOMIKA | (1) | 2003 | univerza v ljubljani biotehniška fakulteta oddelek za agronomijo prof , dr . katja vadna čl\\ 'icz^o- univerza v ljubljani biotehniška fakulteta cip-kataložni zapis o publikaciji narodna in univerzitetna knjižnica ljubljana 338.43.01 ( 075.8 ) vadnal , katja agrarna ekonomika : osnove , trg , država / katja vadnal . - l izd . - ljubljana : biotehniška fakulteta , oddelek za agronomijo , 2003 isbn 961-6275-10-0 122001664 recenzija : prof. dr. jernej turk , kmetijska fakulteta , univerza v mariboru doc . dr. andrej udovč , biotehniška fakulteta , univerza v ljubljani lektoriranje : prof. alenka raič-blažič oblikovanje : franci                                                                                                            |  1 |  86 |  1 | univerza v ljubljani biotehniška fakulteta oddelek za agronomijo prof dr katja vadna čl icz o univerza v ljubljani biotehniška fakulteta cip kataložni zapis o publikaciji narodna in univerzitetna knjižnica ljubljana vadnal katja agrarna ekonomika osnove trg država katja vadnal l izd ljubljana biotehniška fakulteta oddelek za agronomijo isbn recenzija prof dr jernej turk kmetijska fakulteta univerza v mariboru doc dr andrej udovč biotehniška fakulteta univerza v ljubljani lektoriranje prof alenka raič blažič oblikovanje franci                                                                                                                                                                      | 74 | 0 | 0.9999999 |\n|  2 | UL_AGRARNA EKONOMIKA_B | UL | B | AGRARNA EKONOMIKA | (1) | 2003 | kramarič tisk : forma 1 , vrhpolje 56 , 1251 mora '' x ~ v skladu s sklepom senata oddelka za agronomijo , z dne 19.2.2003 , se univerzitetni učbenik agrarna ekonomika . osnove , trg , država , katerega avtorica je prof. dr. katja vadnal , na biotehniški fakulteti uporablja kot predpisano učno gradivo . založba : biotehniška fakulteta univerze \\ i naklada : 500 izvodov dekan biotehniške fakultete prof. dr. jože resnik , 1. r. univerza v ljubljani biotehniška fakulteta oddelek za agronomijo katja vadnal agrarna ekonomika osnove , trg , država ljubljana , 2003 vsebina predgovor 9                                                                                                                                                           |  2 |  83 |  2 | kramarič tisk forma vrhpolje mora x v skladu s sklepom senata oddelka za agronomijo z dne se univerzitetni učbenik agrarna ekonomika osnove trg država katerega avtorica je prof dr katja vadnal na biotehniški fakulteti uporablja kot predpisano učno gradivo založba biotehniška fakulteta univerze i naklada izvodov dekan biotehniške fakultete prof dr jože resnik r univerza v ljubljani biotehniška fakulteta oddelek za agronomijo katja vadnal agrarna ekonomika osnove trg država ljubljana vsebina predgovor                                                                                                                                                                                                 | 72 | 0 | 0.9999810 |\n|  3 | UL_AGRARNA EKONOMIKA_B | UL | B | AGRARNA EKONOMIKA | (1) | 2003 | prvi del : razvoj in metoda agrarne ekonomike 11 1.1 razvoj agrarne ekonomike kot znanstvene 12 discipline 1.1.1 poreklo imena 12 1.1.2 razvoj agrarne ekonomike 13 1.2 definicija agrarne ekonomike 16 1.3 agrarnoekonomsko raziskovanje 17 drugi del : osnove agrarne ekonomike 23 2.1 kmetijstvo in podeželje 24 2.1.1 kmetijstvo , kajje to ? 24 2.1.2 podeželje 29 2.2 prvine kmetijskega pridelovanja 31 2.2.1 naravni viri 31 2.2.2 delo 32 2.2.3 izdelane prvine pridelovanja 35 2.2.4 proizvodna funkcija 37 2.2.5 biotehiški napredek 40 2.3 zakon redkosti 41 2.3.1 redkost prvin pridelovanja in pridelkov 41 2.3.2 krivulja različnih proizvodnih možnosti 42 2.4                                                                                      |  3 | 125 |  3 | prvi del razvoj in metoda agrarne ekonomike razvoj agrarne ekonomike kot znanstvene discipline poreklo imena razvoj agrarne ekonomike definicija agrarne ekonomike agrarnoekonomsko raziskovanje drugi del osnove agrarne ekonomike kmetijstvo in podeželje kmetijstvo kajje to podeželje prvine kmetijskega pridelovanja naravni viri delo izdelane prvine pridelovanja proizvodna funkcija biotehiški napredek zakon redkosti redkost prvin pridelovanja in pridelkov krivulja različnih proizvodnih možnosti                                                                                                                                                                                                          | 59 | 0 | 1.0000000 |\n|  4 | UL_AGRARNA EKONOMIKA_B | UL | B | AGRARNA EKONOMIKA | (1) | 2003 | vrste kmetijskih gospodarstev 46 2.4.1 kmetijsko gospodarstvo 46 2.4.2 kmetijska gospodarska družba 46 2.4.3 zadruga 50 2.4.4 kmetija 53 2.4.5 velikost kmetijskega gospodarstva 55 tretji del : kmetijski trg 59 3.1 vloga trga pri uravnavanju gospodarstva 60 3.1.1 trg 60 3.1.2 sestava trga 61 3.2 ponudba kmetijskega pridelka 65 3.2.1 sprememba obsega ponudbe in sprememba ponudbe kmetijskega pridelka 70 3.2.2 skupna ali agregatna ponudba pridelka 72 3.3 povpraševanje po kmetijskem pridelku 75 6 3.3.1 sprememba obsega povpraševanja in sprememba povpraševanja po kmetijskem pridelku 78 3.3.2 skupno ali agregatno povpraševanje po pridelku 79 3.4 tržno ravnotežje 82 3.4.1 sprememba tržnega ravnotežja                                       |  4 | 127 |  4 | vrste kmetijskih gospodarstev kmetijsko gospodarstvo kmetijska gospodarska družba zadruga kmetija velikost kmetijskega gospodarstva tretji del kmetijski trg vloga trga pri uravnavanju gospodarstva trg sestava trga ponudba kmetijskega pridelka sprememba obsega ponudbe in sprememba ponudbe kmetijskega pridelka skupna ali agregatna ponudba pridelka povpraševanje po kmetijskem pridelku sprememba obsega povpraševanja in sprememba povpraševanja po kmetijskem pridelku skupno ali agregatno povpraševanje po pridelku tržno ravnotežje sprememba tržnega ravnotežja                                                                                                                                           | 65 | 0 | 1.0000000 |\n|  5 | UL_AGRARNA EKONOMIKA_B | UL | B | AGRARNA EKONOMIKA | (1) | 2003 | 83 3.5 kmetijski problem 85 3.5.1 prilagodljivost pridelovalca na spremembe na trgu 87 3.5.2 cenovna elastičnostponudbe pri rasti in padanju cen pridelka 89 3.5.3 kmetijsko trženje 91 3.5.3.1 sistem kmetijskega trženja 91 3.5.3.2 področja in nosilci kmetijskega trženja 94 3.5.3.3 tržni problem slovenskega kmetijstva 97 3.6 tržna napaka 99 četrti del : država 101 4.1 vloga države pri uravnavanju 102 gospodarstva 4.1.1 kratek pregled razvoja poseganja države v tržno gospodarstvo 102 4.1.2 položaj države v gospodarskih in socialnih razmerjih 102 4.1.3 makroekonomski oziroma narodnogospodarski cilji 104 4.1.4 ukrepi države pri uravnavanju gospodarstva 109 4.1.5 javnefinance 110 4.2 davčni sistem 111                                    |  5 | 128 |  5 | kmetijski problem prilagodljivost pridelovalca na spremembe na trgu cenovna elastičnostponudbe pri rasti in padanju cen pridelka kmetijsko trženje sistem kmetijskega trženja področja in nosilci kmetijskega trženja tržni problem slovenskega kmetijstva tržna napaka četrti del država vloga države pri uravnavanju gospodarstva kratek pregled razvoja poseganja države v tržno gospodarstvo položaj države v gospodarskih in socialnih razmerjih makroekonomski oziroma narodnogospodarski cilji ukrepi države pri uravnavanju gospodarstva javnefinance davčni sistem                                                                                                                                              | 67 | 0 | 1.0000000 |\n|  6 | UL_AGRARNA EKONOMIKA_B | UL | B | AGRARNA EKONOMIKA | (1) | 2003 | 4.2.1 davek , davčni zavezanec in davčna stopnja 111 4.2.2 vrste davkov 112 4.2.3 davek od kmetijstva 116 4.2.4 davčna politika 118 4.3 denar in denarna politika 118 4.3.1 denar 118 4.3.2 trg denarja 121 4.3.3 denarni ali monetarni sistem 125 4.3.3.1 centralna banka kot denarna ustanova 126 4.3.3.2 denarna politika 127 4.3.3.3 poslovna banka kot denarna ustanova 130 4.4 zunanjetrgovinska politika 133 4.4.1 mednarodna trgovina 133 4.4.2 izvozna ponudba in uvozno povpraševanje 136 4.4.3 pozitivni učinki zunanje trgovine 139 4.4.4 zunanjetrgovinska politika 140 4.4.5 ukrepi zunanjetrgovinske politike 144 4.4.6 svetovna trgovinska organizacija 149 peti del : javno usmerjanje kmetijskega                                                 |  6 | 135 |  6 | davek davčni zavezanec in davčna stopnja vrste davkov davek od kmetijstva davčna politika denar in denarna politika denar trg denarja denarni ali monetarni sistem centralna banka kot denarna ustanova denarna politika poslovna banka kot denarna ustanova zunanjetrgovinska politika mednarodna trgovina izvozna ponudba in uvozno povpraševanje pozitivni učinki zunanje trgovine zunanjetrgovinska politika ukrepi zunanjetrgovinske politike svetovna trgovinska organizacija peti del javno usmerjanje kmetijskega                                                                                                                                                                                                | 62 | 0 | 1.0000000 |\n|  7 | UL_AGRARNA EKONOMIKA_B | UL | B | AGRARNA EKONOMIKA | (1) | 2003 | 1 55 razvoja 5.1 kmetijstvo v gospodarskem razvoju 156 5.1.1 vloga kmetijstva v gospodarstu 156 5 . 1.2 pridelovanje živeža 158 5 . 1.3 pridelovanje surovin 167 5.1.4 delovne moči 167 5.1.4.1 agrarna prenaseljenost v teoriji gospodarskega razvoja 168 5.1.5 zasnova večnamenskega kmetijstva 169 5.2 kmetijska politika 170 5.2.1 tipi kmetijske politike 170 5.2.2 oblikovanje kmetijske politike 171 5.2.3 sestavine kmetijske politike 172 5.3 pregled sistema ukrepov za uravnavanje dohodka kmetijskih gospodarstev 185 5.3.1 primerjalen , tudi primeren oziroma pariteten dohodek 185 5.3.2 neposredna podpora dohodka kmetijskega gospodarstva 186 5.3.2.1 ukrepi za ustalitev cene kmetijskih pridelkov 186 5.3.2.2 ukrepi za                         |  7 | 127 |  7 | razvoja kmetijstvo v gospodarskem razvoju vloga kmetijstva v gospodarstu pridelovanje živeža pridelovanje surovin delovne moči agrarna prenaseljenost v teoriji gospodarskega razvoja zasnova večnamenskega kmetijstva kmetijska politika tipi kmetijske politike oblikovanje kmetijske politike sestavine kmetijske politike pregled sistema ukrepov za uravnavanje dohodka kmetijskih gospodarstev primerjalen tudi primeren oziroma pariteten dohodek neposredna podpora dohodka kmetijskega gospodarstva ukrepi za ustalitev cene kmetijskih pridelkov ukrepi za                                                                                                                                                     | 62 | 0 | 1.0000000 |\n|  8 | UL_AGRARNA EKONOMIKA_B | UL | B | AGRARNA EKONOMIKA | (1) | 2003 | podporo tržne cene pridelka 188 5.3.3 posredne podpore dohodka kmetijskega gospodarstva 197 5.3.3.1 ukrepi za zniževanje stroškov pridelovanja in reje 198 5.3.3.2 ukrepi za zmanjšanje tveganj 202 5.3.4 naložbe 206 5.3.5 podpore s ponudbojavnih dobrin 210 5.4 usmerjanje trajnostnega razvoja kmetijstva 212 5.4.1 razmerje med usmerjanjem kmetijstva in varovanjem naravnega okolja 212 5.4.2 ukrepi za varovanje naravnega okolja 216 5.4.3 kazalniki trajnostnega razvoja 221 slovstvo 226 stvarno kazalo 235 8 predgovor učbenik je namenjen študentkam in študentom univerzitetnega študija agronomije in zootehnike , ki se v prvem oziroma drugem letniku študija prvič srečajo s področjem agrarne ekonomike . pri predmetih                          |  8 | 117 |  8 | podporo tržne cene pridelka posredne podpore dohodka kmetijskega gospodarstva ukrepi za zniževanje stroškov pridelovanja in reje ukrepi za zmanjšanje tveganj naložbe podpore s ponudbojavnih dobrin usmerjanje trajnostnega razvoja kmetijstva razmerje med usmerjanjem kmetijstva in varovanjem naravnega okolja ukrepi za varovanje naravnega okolja kazalniki trajnostnega razvoja slovstvo stvarno kazalo predgovor učbenik je namenjen študentkam in študentom univerzitetnega študija agronomije in zootehnike ki se v prvem oziroma drugem letniku študija prvič srečajo s področjem agrarne ekonomike pri predmetih                                                                                             | 76 | 0 | 1.0000000 |\n|  9 | UL_AGRARNA EKONOMIKA_B | UL | B | AGRARNA EKONOMIKA | (1) | 2003 | agrarna ekonomika in uvod v agrarno ekonomiko zasledujemo naslednje vzgojno izobraževalne smotre : 1. uvajanje v gospodarske vidike kmetijstva 2. motiviranje in spodbujanje k celovitemu obravnavanju problemov pridelovanja in reje 3. spoznavanje temeljnih ekonomskih pojmov in pojavov 4. razumevanje vzvodov in dejavnikov gospodarskega razvoja ter razvoja kmetijstva 5. uporaba pridobljenih znanj pri analizi kmetijskih gospodarskih značilnosti in gospodarskih razmer v kmetijstvu 6. usposabljanje za iskanje ustreznih ekonomskih in kmetijskopolitičnih rešitev . učbenik je razdeljen na 5 zaključenih , vendar medsebojno povezanih delov : 1. razvoj in metoda agrarne ekonomike 2. osnove agrarne ekonomike 3. kmetijski trg 4. država 5. javno |  9 |  96 |  9 | agrarna ekonomika in uvod v agrarno ekonomiko zasledujemo naslednje vzgojno izobraževalne smotre uvajanje v gospodarske vidike kmetijstva motiviranje in spodbujanje k celovitemu obravnavanju problemov pridelovanja in reje spoznavanje temeljnih ekonomskih pojmov in pojavov razumevanje vzvodov in dejavnikov gospodarskega razvoja ter razvoja kmetijstva uporaba pridobljenih znanj pri analizi kmetijskih gospodarskih značilnosti in gospodarskih razmer v kmetijstvu usposabljanje za iskanje ustreznih ekonomskih in kmetijskopolitičnih rešitev učbenik je razdeljen na zaključenih vendar medsebojno povezanih delov razvoj in metoda agrarne ekonomike osnove agrarne ekonomike kmetijski trg država javno | 84 | 0 | 1.0000000 |\n| 10 | UL_AGRARNA EKONOMIKA_B | UL | B | AGRARNA EKONOMIKA | (1) | 2003 | usmerjanje kmetijskega razvoja . učbenik v prvem delu obravnava poreklo imena znanstvene discipline , ki je predmet proučevanja . podaja pregled njenega dosedanjega razvoja in opozori na osebe , ki so ga zaznamovale . opredeli vsebino agrarne ekonomike in ključna področja njenega raziskovanja . seznani s potmi , po katerih lahko pridemo do novih agrarnoekonomskih spoznanj , in načeli , kijih moramo pri tem spoštovati . drugi del je namenjen agrarnoekonomskim osnovam . seznani z različnimi pristopi , ki jih je mogoče uporabiti pri opredeljevanju kmetijstva . poskuša ugotoviti , kakšna je zveza med kmetijstvom in podeželjem . pregleda prvine                                                                                             | 10 |  85 | 10 | usmerjanje kmetijskega razvoja učbenik v prvem delu obravnava poreklo imena znanstvene discipline ki je predmet proučevanja podaja pregled njenega dosedanjega razvoja in opozori na osebe ki so ga zaznamovale opredeli vsebino agrarne ekonomike in ključna področja njenega raziskovanja seznani s potmi po katerih lahko pridemo do novih agrarnoekonomskih spoznanj in načeli kijih moramo pri tem spoštovati drugi del je namenjen agrarnoekonomskim osnovam seznani z različnimi pristopi ki jih je mogoče uporabiti pri opredeljevanju kmetijstva poskuša ugotoviti kakšna je zveza med kmetijstvom in podeželjem pregleda prvine                                                                                | 85 | 0 | 1.0000000 |\n\n",
            "text/latex": "A tibble: 10 × 15\n\\begin{tabular}{lllllllllllllll}\n row\\_id & Doc\\_ID & School & veda & program & book\\_number & year & Text & sentence\\_id & sent\\_length & seq\\_id & text\\_clean & sentence\\_length & Topic & Probability\\\\\n <int> & <chr> & <chr> & <chr> & <chr> & <chr> & <chr> & <chr> & <int> & <int> & <int> & <chr> & <int> & <int> & <dbl>\\\\\n\\hline\n\t  1 & UL\\_AGRARNA EKONOMIKA\\_B & UL & B & AGRARNA EKONOMIKA & (1) & 2003 & univerza v ljubljani biotehniška fakulteta oddelek za agronomijo prof , dr . katja vadna čl\\textbackslash{} 'icz\\textasciicircum{}o- univerza v ljubljani biotehniška fakulteta cip-kataložni zapis o publikaciji narodna in univerzitetna knjižnica ljubljana 338.43.01 ( 075.8 ) vadnal , katja agrarna ekonomika : osnove , trg , država / katja vadnal . - l izd . - ljubljana : biotehniška fakulteta , oddelek za agronomijo , 2003 isbn 961-6275-10-0 122001664 recenzija : prof. dr. jernej turk , kmetijska fakulteta , univerza v mariboru doc . dr. andrej udovč , biotehniška fakulteta , univerza v ljubljani lektoriranje : prof. alenka raič-blažič oblikovanje : franci                                                                                                            &  1 &  86 &  1 & univerza v ljubljani biotehniška fakulteta oddelek za agronomijo prof dr katja vadna čl icz o univerza v ljubljani biotehniška fakulteta cip kataložni zapis o publikaciji narodna in univerzitetna knjižnica ljubljana vadnal katja agrarna ekonomika osnove trg država katja vadnal l izd ljubljana biotehniška fakulteta oddelek za agronomijo isbn recenzija prof dr jernej turk kmetijska fakulteta univerza v mariboru doc dr andrej udovč biotehniška fakulteta univerza v ljubljani lektoriranje prof alenka raič blažič oblikovanje franci                                                                                                                                                                      & 74 & 0 & 0.9999999\\\\\n\t  2 & UL\\_AGRARNA EKONOMIKA\\_B & UL & B & AGRARNA EKONOMIKA & (1) & 2003 & kramarič tisk : forma 1 , vrhpolje 56 , 1251 mora '' x \\textasciitilde{} v skladu s sklepom senata oddelka za agronomijo , z dne 19.2.2003 , se univerzitetni učbenik agrarna ekonomika . osnove , trg , država , katerega avtorica je prof. dr. katja vadnal , na biotehniški fakulteti uporablja kot predpisano učno gradivo . založba : biotehniška fakulteta univerze \\textbackslash{} i naklada : 500 izvodov dekan biotehniške fakultete prof. dr. jože resnik , 1. r. univerza v ljubljani biotehniška fakulteta oddelek za agronomijo katja vadnal agrarna ekonomika osnove , trg , država ljubljana , 2003 vsebina predgovor 9                                                                                                                                                           &  2 &  83 &  2 & kramarič tisk forma vrhpolje mora x v skladu s sklepom senata oddelka za agronomijo z dne se univerzitetni učbenik agrarna ekonomika osnove trg država katerega avtorica je prof dr katja vadnal na biotehniški fakulteti uporablja kot predpisano učno gradivo založba biotehniška fakulteta univerze i naklada izvodov dekan biotehniške fakultete prof dr jože resnik r univerza v ljubljani biotehniška fakulteta oddelek za agronomijo katja vadnal agrarna ekonomika osnove trg država ljubljana vsebina predgovor                                                                                                                                                                                                 & 72 & 0 & 0.9999810\\\\\n\t  3 & UL\\_AGRARNA EKONOMIKA\\_B & UL & B & AGRARNA EKONOMIKA & (1) & 2003 & prvi del : razvoj in metoda agrarne ekonomike 11 1.1 razvoj agrarne ekonomike kot znanstvene 12 discipline 1.1.1 poreklo imena 12 1.1.2 razvoj agrarne ekonomike 13 1.2 definicija agrarne ekonomike 16 1.3 agrarnoekonomsko raziskovanje 17 drugi del : osnove agrarne ekonomike 23 2.1 kmetijstvo in podeželje 24 2.1.1 kmetijstvo , kajje to ? 24 2.1.2 podeželje 29 2.2 prvine kmetijskega pridelovanja 31 2.2.1 naravni viri 31 2.2.2 delo 32 2.2.3 izdelane prvine pridelovanja 35 2.2.4 proizvodna funkcija 37 2.2.5 biotehiški napredek 40 2.3 zakon redkosti 41 2.3.1 redkost prvin pridelovanja in pridelkov 41 2.3.2 krivulja različnih proizvodnih možnosti 42 2.4                                                                                      &  3 & 125 &  3 & prvi del razvoj in metoda agrarne ekonomike razvoj agrarne ekonomike kot znanstvene discipline poreklo imena razvoj agrarne ekonomike definicija agrarne ekonomike agrarnoekonomsko raziskovanje drugi del osnove agrarne ekonomike kmetijstvo in podeželje kmetijstvo kajje to podeželje prvine kmetijskega pridelovanja naravni viri delo izdelane prvine pridelovanja proizvodna funkcija biotehiški napredek zakon redkosti redkost prvin pridelovanja in pridelkov krivulja različnih proizvodnih možnosti                                                                                                                                                                                                          & 59 & 0 & 1.0000000\\\\\n\t  4 & UL\\_AGRARNA EKONOMIKA\\_B & UL & B & AGRARNA EKONOMIKA & (1) & 2003 & vrste kmetijskih gospodarstev 46 2.4.1 kmetijsko gospodarstvo 46 2.4.2 kmetijska gospodarska družba 46 2.4.3 zadruga 50 2.4.4 kmetija 53 2.4.5 velikost kmetijskega gospodarstva 55 tretji del : kmetijski trg 59 3.1 vloga trga pri uravnavanju gospodarstva 60 3.1.1 trg 60 3.1.2 sestava trga 61 3.2 ponudba kmetijskega pridelka 65 3.2.1 sprememba obsega ponudbe in sprememba ponudbe kmetijskega pridelka 70 3.2.2 skupna ali agregatna ponudba pridelka 72 3.3 povpraševanje po kmetijskem pridelku 75 6 3.3.1 sprememba obsega povpraševanja in sprememba povpraševanja po kmetijskem pridelku 78 3.3.2 skupno ali agregatno povpraševanje po pridelku 79 3.4 tržno ravnotežje 82 3.4.1 sprememba tržnega ravnotežja                                       &  4 & 127 &  4 & vrste kmetijskih gospodarstev kmetijsko gospodarstvo kmetijska gospodarska družba zadruga kmetija velikost kmetijskega gospodarstva tretji del kmetijski trg vloga trga pri uravnavanju gospodarstva trg sestava trga ponudba kmetijskega pridelka sprememba obsega ponudbe in sprememba ponudbe kmetijskega pridelka skupna ali agregatna ponudba pridelka povpraševanje po kmetijskem pridelku sprememba obsega povpraševanja in sprememba povpraševanja po kmetijskem pridelku skupno ali agregatno povpraševanje po pridelku tržno ravnotežje sprememba tržnega ravnotežja                                                                                                                                           & 65 & 0 & 1.0000000\\\\\n\t  5 & UL\\_AGRARNA EKONOMIKA\\_B & UL & B & AGRARNA EKONOMIKA & (1) & 2003 & 83 3.5 kmetijski problem 85 3.5.1 prilagodljivost pridelovalca na spremembe na trgu 87 3.5.2 cenovna elastičnostponudbe pri rasti in padanju cen pridelka 89 3.5.3 kmetijsko trženje 91 3.5.3.1 sistem kmetijskega trženja 91 3.5.3.2 področja in nosilci kmetijskega trženja 94 3.5.3.3 tržni problem slovenskega kmetijstva 97 3.6 tržna napaka 99 četrti del : država 101 4.1 vloga države pri uravnavanju 102 gospodarstva 4.1.1 kratek pregled razvoja poseganja države v tržno gospodarstvo 102 4.1.2 položaj države v gospodarskih in socialnih razmerjih 102 4.1.3 makroekonomski oziroma narodnogospodarski cilji 104 4.1.4 ukrepi države pri uravnavanju gospodarstva 109 4.1.5 javnefinance 110 4.2 davčni sistem 111                                    &  5 & 128 &  5 & kmetijski problem prilagodljivost pridelovalca na spremembe na trgu cenovna elastičnostponudbe pri rasti in padanju cen pridelka kmetijsko trženje sistem kmetijskega trženja področja in nosilci kmetijskega trženja tržni problem slovenskega kmetijstva tržna napaka četrti del država vloga države pri uravnavanju gospodarstva kratek pregled razvoja poseganja države v tržno gospodarstvo položaj države v gospodarskih in socialnih razmerjih makroekonomski oziroma narodnogospodarski cilji ukrepi države pri uravnavanju gospodarstva javnefinance davčni sistem                                                                                                                                              & 67 & 0 & 1.0000000\\\\\n\t  6 & UL\\_AGRARNA EKONOMIKA\\_B & UL & B & AGRARNA EKONOMIKA & (1) & 2003 & 4.2.1 davek , davčni zavezanec in davčna stopnja 111 4.2.2 vrste davkov 112 4.2.3 davek od kmetijstva 116 4.2.4 davčna politika 118 4.3 denar in denarna politika 118 4.3.1 denar 118 4.3.2 trg denarja 121 4.3.3 denarni ali monetarni sistem 125 4.3.3.1 centralna banka kot denarna ustanova 126 4.3.3.2 denarna politika 127 4.3.3.3 poslovna banka kot denarna ustanova 130 4.4 zunanjetrgovinska politika 133 4.4.1 mednarodna trgovina 133 4.4.2 izvozna ponudba in uvozno povpraševanje 136 4.4.3 pozitivni učinki zunanje trgovine 139 4.4.4 zunanjetrgovinska politika 140 4.4.5 ukrepi zunanjetrgovinske politike 144 4.4.6 svetovna trgovinska organizacija 149 peti del : javno usmerjanje kmetijskega                                                 &  6 & 135 &  6 & davek davčni zavezanec in davčna stopnja vrste davkov davek od kmetijstva davčna politika denar in denarna politika denar trg denarja denarni ali monetarni sistem centralna banka kot denarna ustanova denarna politika poslovna banka kot denarna ustanova zunanjetrgovinska politika mednarodna trgovina izvozna ponudba in uvozno povpraševanje pozitivni učinki zunanje trgovine zunanjetrgovinska politika ukrepi zunanjetrgovinske politike svetovna trgovinska organizacija peti del javno usmerjanje kmetijskega                                                                                                                                                                                                & 62 & 0 & 1.0000000\\\\\n\t  7 & UL\\_AGRARNA EKONOMIKA\\_B & UL & B & AGRARNA EKONOMIKA & (1) & 2003 & 1 55 razvoja 5.1 kmetijstvo v gospodarskem razvoju 156 5.1.1 vloga kmetijstva v gospodarstu 156 5 . 1.2 pridelovanje živeža 158 5 . 1.3 pridelovanje surovin 167 5.1.4 delovne moči 167 5.1.4.1 agrarna prenaseljenost v teoriji gospodarskega razvoja 168 5.1.5 zasnova večnamenskega kmetijstva 169 5.2 kmetijska politika 170 5.2.1 tipi kmetijske politike 170 5.2.2 oblikovanje kmetijske politike 171 5.2.3 sestavine kmetijske politike 172 5.3 pregled sistema ukrepov za uravnavanje dohodka kmetijskih gospodarstev 185 5.3.1 primerjalen , tudi primeren oziroma pariteten dohodek 185 5.3.2 neposredna podpora dohodka kmetijskega gospodarstva 186 5.3.2.1 ukrepi za ustalitev cene kmetijskih pridelkov 186 5.3.2.2 ukrepi za                         &  7 & 127 &  7 & razvoja kmetijstvo v gospodarskem razvoju vloga kmetijstva v gospodarstu pridelovanje živeža pridelovanje surovin delovne moči agrarna prenaseljenost v teoriji gospodarskega razvoja zasnova večnamenskega kmetijstva kmetijska politika tipi kmetijske politike oblikovanje kmetijske politike sestavine kmetijske politike pregled sistema ukrepov za uravnavanje dohodka kmetijskih gospodarstev primerjalen tudi primeren oziroma pariteten dohodek neposredna podpora dohodka kmetijskega gospodarstva ukrepi za ustalitev cene kmetijskih pridelkov ukrepi za                                                                                                                                                     & 62 & 0 & 1.0000000\\\\\n\t  8 & UL\\_AGRARNA EKONOMIKA\\_B & UL & B & AGRARNA EKONOMIKA & (1) & 2003 & podporo tržne cene pridelka 188 5.3.3 posredne podpore dohodka kmetijskega gospodarstva 197 5.3.3.1 ukrepi za zniževanje stroškov pridelovanja in reje 198 5.3.3.2 ukrepi za zmanjšanje tveganj 202 5.3.4 naložbe 206 5.3.5 podpore s ponudbojavnih dobrin 210 5.4 usmerjanje trajnostnega razvoja kmetijstva 212 5.4.1 razmerje med usmerjanjem kmetijstva in varovanjem naravnega okolja 212 5.4.2 ukrepi za varovanje naravnega okolja 216 5.4.3 kazalniki trajnostnega razvoja 221 slovstvo 226 stvarno kazalo 235 8 predgovor učbenik je namenjen študentkam in študentom univerzitetnega študija agronomije in zootehnike , ki se v prvem oziroma drugem letniku študija prvič srečajo s področjem agrarne ekonomike . pri predmetih                          &  8 & 117 &  8 & podporo tržne cene pridelka posredne podpore dohodka kmetijskega gospodarstva ukrepi za zniževanje stroškov pridelovanja in reje ukrepi za zmanjšanje tveganj naložbe podpore s ponudbojavnih dobrin usmerjanje trajnostnega razvoja kmetijstva razmerje med usmerjanjem kmetijstva in varovanjem naravnega okolja ukrepi za varovanje naravnega okolja kazalniki trajnostnega razvoja slovstvo stvarno kazalo predgovor učbenik je namenjen študentkam in študentom univerzitetnega študija agronomije in zootehnike ki se v prvem oziroma drugem letniku študija prvič srečajo s področjem agrarne ekonomike pri predmetih                                                                                             & 76 & 0 & 1.0000000\\\\\n\t  9 & UL\\_AGRARNA EKONOMIKA\\_B & UL & B & AGRARNA EKONOMIKA & (1) & 2003 & agrarna ekonomika in uvod v agrarno ekonomiko zasledujemo naslednje vzgojno izobraževalne smotre : 1. uvajanje v gospodarske vidike kmetijstva 2. motiviranje in spodbujanje k celovitemu obravnavanju problemov pridelovanja in reje 3. spoznavanje temeljnih ekonomskih pojmov in pojavov 4. razumevanje vzvodov in dejavnikov gospodarskega razvoja ter razvoja kmetijstva 5. uporaba pridobljenih znanj pri analizi kmetijskih gospodarskih značilnosti in gospodarskih razmer v kmetijstvu 6. usposabljanje za iskanje ustreznih ekonomskih in kmetijskopolitičnih rešitev . učbenik je razdeljen na 5 zaključenih , vendar medsebojno povezanih delov : 1. razvoj in metoda agrarne ekonomike 2. osnove agrarne ekonomike 3. kmetijski trg 4. država 5. javno &  9 &  96 &  9 & agrarna ekonomika in uvod v agrarno ekonomiko zasledujemo naslednje vzgojno izobraževalne smotre uvajanje v gospodarske vidike kmetijstva motiviranje in spodbujanje k celovitemu obravnavanju problemov pridelovanja in reje spoznavanje temeljnih ekonomskih pojmov in pojavov razumevanje vzvodov in dejavnikov gospodarskega razvoja ter razvoja kmetijstva uporaba pridobljenih znanj pri analizi kmetijskih gospodarskih značilnosti in gospodarskih razmer v kmetijstvu usposabljanje za iskanje ustreznih ekonomskih in kmetijskopolitičnih rešitev učbenik je razdeljen na zaključenih vendar medsebojno povezanih delov razvoj in metoda agrarne ekonomike osnove agrarne ekonomike kmetijski trg država javno & 84 & 0 & 1.0000000\\\\\n\t 10 & UL\\_AGRARNA EKONOMIKA\\_B & UL & B & AGRARNA EKONOMIKA & (1) & 2003 & usmerjanje kmetijskega razvoja . učbenik v prvem delu obravnava poreklo imena znanstvene discipline , ki je predmet proučevanja . podaja pregled njenega dosedanjega razvoja in opozori na osebe , ki so ga zaznamovale . opredeli vsebino agrarne ekonomike in ključna področja njenega raziskovanja . seznani s potmi , po katerih lahko pridemo do novih agrarnoekonomskih spoznanj , in načeli , kijih moramo pri tem spoštovati . drugi del je namenjen agrarnoekonomskim osnovam . seznani z različnimi pristopi , ki jih je mogoče uporabiti pri opredeljevanju kmetijstva . poskuša ugotoviti , kakšna je zveza med kmetijstvom in podeželjem . pregleda prvine                                                                                             & 10 &  85 & 10 & usmerjanje kmetijskega razvoja učbenik v prvem delu obravnava poreklo imena znanstvene discipline ki je predmet proučevanja podaja pregled njenega dosedanjega razvoja in opozori na osebe ki so ga zaznamovale opredeli vsebino agrarne ekonomike in ključna področja njenega raziskovanja seznani s potmi po katerih lahko pridemo do novih agrarnoekonomskih spoznanj in načeli kijih moramo pri tem spoštovati drugi del je namenjen agrarnoekonomskim osnovam seznani z različnimi pristopi ki jih je mogoče uporabiti pri opredeljevanju kmetijstva poskuša ugotoviti kakšna je zveza med kmetijstvom in podeželjem pregleda prvine                                                                                & 85 & 0 & 1.0000000\\\\\n\\end{tabular}\n",
            "text/plain": [
              "       row_id Doc_ID                 School veda program           book_number\n",
              "text1   1     UL_AGRARNA EKONOMIKA_B UL     B    AGRARNA EKONOMIKA (1)        \n",
              "text2   2     UL_AGRARNA EKONOMIKA_B UL     B    AGRARNA EKONOMIKA (1)        \n",
              "text3   3     UL_AGRARNA EKONOMIKA_B UL     B    AGRARNA EKONOMIKA (1)        \n",
              "text4   4     UL_AGRARNA EKONOMIKA_B UL     B    AGRARNA EKONOMIKA (1)        \n",
              "text5   5     UL_AGRARNA EKONOMIKA_B UL     B    AGRARNA EKONOMIKA (1)        \n",
              "text6   6     UL_AGRARNA EKONOMIKA_B UL     B    AGRARNA EKONOMIKA (1)        \n",
              "text7   7     UL_AGRARNA EKONOMIKA_B UL     B    AGRARNA EKONOMIKA (1)        \n",
              "text8   8     UL_AGRARNA EKONOMIKA_B UL     B    AGRARNA EKONOMIKA (1)        \n",
              "text9   9     UL_AGRARNA EKONOMIKA_B UL     B    AGRARNA EKONOMIKA (1)        \n",
              "text10 10     UL_AGRARNA EKONOMIKA_B UL     B    AGRARNA EKONOMIKA (1)        \n",
              "       year\n",
              "text1  2003\n",
              "text2  2003\n",
              "text3  2003\n",
              "text4  2003\n",
              "text5  2003\n",
              "text6  2003\n",
              "text7  2003\n",
              "text8  2003\n",
              "text9  2003\n",
              "text10 2003\n",
              "       Text                                                                                                                                                                                                                                                                                                                                                                                                                                                                                                                                                                                                                                                                                                                                                               \n",
              "text1  univerza v ljubljani biotehniška fakulteta oddelek za agronomijo prof , dr . katja vadna čl\\\\ 'icz^o- univerza v ljubljani biotehniška fakulteta cip-kataložni zapis o publikaciji narodna in univerzitetna knjižnica ljubljana 338.43.01 ( 075.8 ) vadnal , katja agrarna ekonomika : osnove , trg , država / katja vadnal . - l izd . - ljubljana : biotehniška fakulteta , oddelek za agronomijo , 2003 isbn 961-6275-10-0 122001664 recenzija : prof. dr. jernej turk , kmetijska fakulteta , univerza v mariboru doc . dr. andrej udovč , biotehniška fakulteta , univerza v ljubljani lektoriranje : prof. alenka raič-blažič oblikovanje : franci                                                                                                           \n",
              "text2  kramarič tisk : forma 1 , vrhpolje 56 , 1251 mora '' x ~ v skladu s sklepom senata oddelka za agronomijo , z dne 19.2.2003 , se univerzitetni učbenik agrarna ekonomika . osnove , trg , država , katerega avtorica je prof. dr. katja vadnal , na biotehniški fakulteti uporablja kot predpisano učno gradivo . založba : biotehniška fakulteta univerze \\\\ i naklada : 500 izvodov dekan biotehniške fakultete prof. dr. jože resnik , 1. r. univerza v ljubljani biotehniška fakulteta oddelek za agronomijo katja vadnal agrarna ekonomika osnove , trg , država ljubljana , 2003 vsebina predgovor 9                                                                                                                                                          \n",
              "text3  prvi del : razvoj in metoda agrarne ekonomike 11 1.1 razvoj agrarne ekonomike kot znanstvene 12 discipline 1.1.1 poreklo imena 12 1.1.2 razvoj agrarne ekonomike 13 1.2 definicija agrarne ekonomike 16 1.3 agrarnoekonomsko raziskovanje 17 drugi del : osnove agrarne ekonomike 23 2.1 kmetijstvo in podeželje 24 2.1.1 kmetijstvo , kajje to ? 24 2.1.2 podeželje 29 2.2 prvine kmetijskega pridelovanja 31 2.2.1 naravni viri 31 2.2.2 delo 32 2.2.3 izdelane prvine pridelovanja 35 2.2.4 proizvodna funkcija 37 2.2.5 biotehiški napredek 40 2.3 zakon redkosti 41 2.3.1 redkost prvin pridelovanja in pridelkov 41 2.3.2 krivulja različnih proizvodnih možnosti 42 2.4                                                                                     \n",
              "text4  vrste kmetijskih gospodarstev 46 2.4.1 kmetijsko gospodarstvo 46 2.4.2 kmetijska gospodarska družba 46 2.4.3 zadruga 50 2.4.4 kmetija 53 2.4.5 velikost kmetijskega gospodarstva 55 tretji del : kmetijski trg 59 3.1 vloga trga pri uravnavanju gospodarstva 60 3.1.1 trg 60 3.1.2 sestava trga 61 3.2 ponudba kmetijskega pridelka 65 3.2.1 sprememba obsega ponudbe in sprememba ponudbe kmetijskega pridelka 70 3.2.2 skupna ali agregatna ponudba pridelka 72 3.3 povpraševanje po kmetijskem pridelku 75 6 3.3.1 sprememba obsega povpraševanja in sprememba povpraševanja po kmetijskem pridelku 78 3.3.2 skupno ali agregatno povpraševanje po pridelku 79 3.4 tržno ravnotežje 82 3.4.1 sprememba tržnega ravnotežja                                      \n",
              "text5  83 3.5 kmetijski problem 85 3.5.1 prilagodljivost pridelovalca na spremembe na trgu 87 3.5.2 cenovna elastičnostponudbe pri rasti in padanju cen pridelka 89 3.5.3 kmetijsko trženje 91 3.5.3.1 sistem kmetijskega trženja 91 3.5.3.2 področja in nosilci kmetijskega trženja 94 3.5.3.3 tržni problem slovenskega kmetijstva 97 3.6 tržna napaka 99 četrti del : država 101 4.1 vloga države pri uravnavanju 102 gospodarstva 4.1.1 kratek pregled razvoja poseganja države v tržno gospodarstvo 102 4.1.2 položaj države v gospodarskih in socialnih razmerjih 102 4.1.3 makroekonomski oziroma narodnogospodarski cilji 104 4.1.4 ukrepi države pri uravnavanju gospodarstva 109 4.1.5 javnefinance 110 4.2 davčni sistem 111                                   \n",
              "text6  4.2.1 davek , davčni zavezanec in davčna stopnja 111 4.2.2 vrste davkov 112 4.2.3 davek od kmetijstva 116 4.2.4 davčna politika 118 4.3 denar in denarna politika 118 4.3.1 denar 118 4.3.2 trg denarja 121 4.3.3 denarni ali monetarni sistem 125 4.3.3.1 centralna banka kot denarna ustanova 126 4.3.3.2 denarna politika 127 4.3.3.3 poslovna banka kot denarna ustanova 130 4.4 zunanjetrgovinska politika 133 4.4.1 mednarodna trgovina 133 4.4.2 izvozna ponudba in uvozno povpraševanje 136 4.4.3 pozitivni učinki zunanje trgovine 139 4.4.4 zunanjetrgovinska politika 140 4.4.5 ukrepi zunanjetrgovinske politike 144 4.4.6 svetovna trgovinska organizacija 149 peti del : javno usmerjanje kmetijskega                                                \n",
              "text7  1 55 razvoja 5.1 kmetijstvo v gospodarskem razvoju 156 5.1.1 vloga kmetijstva v gospodarstu 156 5 . 1.2 pridelovanje živeža 158 5 . 1.3 pridelovanje surovin 167 5.1.4 delovne moči 167 5.1.4.1 agrarna prenaseljenost v teoriji gospodarskega razvoja 168 5.1.5 zasnova večnamenskega kmetijstva 169 5.2 kmetijska politika 170 5.2.1 tipi kmetijske politike 170 5.2.2 oblikovanje kmetijske politike 171 5.2.3 sestavine kmetijske politike 172 5.3 pregled sistema ukrepov za uravnavanje dohodka kmetijskih gospodarstev 185 5.3.1 primerjalen , tudi primeren oziroma pariteten dohodek 185 5.3.2 neposredna podpora dohodka kmetijskega gospodarstva 186 5.3.2.1 ukrepi za ustalitev cene kmetijskih pridelkov 186 5.3.2.2 ukrepi za                        \n",
              "text8  podporo tržne cene pridelka 188 5.3.3 posredne podpore dohodka kmetijskega gospodarstva 197 5.3.3.1 ukrepi za zniževanje stroškov pridelovanja in reje 198 5.3.3.2 ukrepi za zmanjšanje tveganj 202 5.3.4 naložbe 206 5.3.5 podpore s ponudbojavnih dobrin 210 5.4 usmerjanje trajnostnega razvoja kmetijstva 212 5.4.1 razmerje med usmerjanjem kmetijstva in varovanjem naravnega okolja 212 5.4.2 ukrepi za varovanje naravnega okolja 216 5.4.3 kazalniki trajnostnega razvoja 221 slovstvo 226 stvarno kazalo 235 8 predgovor učbenik je namenjen študentkam in študentom univerzitetnega študija agronomije in zootehnike , ki se v prvem oziroma drugem letniku študija prvič srečajo s področjem agrarne ekonomike . pri predmetih                         \n",
              "text9  agrarna ekonomika in uvod v agrarno ekonomiko zasledujemo naslednje vzgojno izobraževalne smotre : 1. uvajanje v gospodarske vidike kmetijstva 2. motiviranje in spodbujanje k celovitemu obravnavanju problemov pridelovanja in reje 3. spoznavanje temeljnih ekonomskih pojmov in pojavov 4. razumevanje vzvodov in dejavnikov gospodarskega razvoja ter razvoja kmetijstva 5. uporaba pridobljenih znanj pri analizi kmetijskih gospodarskih značilnosti in gospodarskih razmer v kmetijstvu 6. usposabljanje za iskanje ustreznih ekonomskih in kmetijskopolitičnih rešitev . učbenik je razdeljen na 5 zaključenih , vendar medsebojno povezanih delov : 1. razvoj in metoda agrarne ekonomike 2. osnove agrarne ekonomike 3. kmetijski trg 4. država 5. javno\n",
              "text10 usmerjanje kmetijskega razvoja . učbenik v prvem delu obravnava poreklo imena znanstvene discipline , ki je predmet proučevanja . podaja pregled njenega dosedanjega razvoja in opozori na osebe , ki so ga zaznamovale . opredeli vsebino agrarne ekonomike in ključna področja njenega raziskovanja . seznani s potmi , po katerih lahko pridemo do novih agrarnoekonomskih spoznanj , in načeli , kijih moramo pri tem spoštovati . drugi del je namenjen agrarnoekonomskim osnovam . seznani z različnimi pristopi , ki jih je mogoče uporabiti pri opredeljevanju kmetijstva . poskuša ugotoviti , kakšna je zveza med kmetijstvom in podeželjem . pregleda prvine                                                                                            \n",
              "       sentence_id sent_length seq_id\n",
              "text1   1           86          1    \n",
              "text2   2           83          2    \n",
              "text3   3          125          3    \n",
              "text4   4          127          4    \n",
              "text5   5          128          5    \n",
              "text6   6          135          6    \n",
              "text7   7          127          7    \n",
              "text8   8          117          8    \n",
              "text9   9           96          9    \n",
              "text10 10           85         10    \n",
              "       text_clean                                                                                                                                                                                                                                                                                                                                                                                                                                                                                                                                                                                                                                                                                                              \n",
              "text1  univerza v ljubljani biotehniška fakulteta oddelek za agronomijo prof dr katja vadna čl icz o univerza v ljubljani biotehniška fakulteta cip kataložni zapis o publikaciji narodna in univerzitetna knjižnica ljubljana vadnal katja agrarna ekonomika osnove trg država katja vadnal l izd ljubljana biotehniška fakulteta oddelek za agronomijo isbn recenzija prof dr jernej turk kmetijska fakulteta univerza v mariboru doc dr andrej udovč biotehniška fakulteta univerza v ljubljani lektoriranje prof alenka raič blažič oblikovanje franci                                                                                                                                                                     \n",
              "text2  kramarič tisk forma vrhpolje mora x v skladu s sklepom senata oddelka za agronomijo z dne se univerzitetni učbenik agrarna ekonomika osnove trg država katerega avtorica je prof dr katja vadnal na biotehniški fakulteti uporablja kot predpisano učno gradivo založba biotehniška fakulteta univerze i naklada izvodov dekan biotehniške fakultete prof dr jože resnik r univerza v ljubljani biotehniška fakulteta oddelek za agronomijo katja vadnal agrarna ekonomika osnove trg država ljubljana vsebina predgovor                                                                                                                                                                                                \n",
              "text3  prvi del razvoj in metoda agrarne ekonomike razvoj agrarne ekonomike kot znanstvene discipline poreklo imena razvoj agrarne ekonomike definicija agrarne ekonomike agrarnoekonomsko raziskovanje drugi del osnove agrarne ekonomike kmetijstvo in podeželje kmetijstvo kajje to podeželje prvine kmetijskega pridelovanja naravni viri delo izdelane prvine pridelovanja proizvodna funkcija biotehiški napredek zakon redkosti redkost prvin pridelovanja in pridelkov krivulja različnih proizvodnih možnosti                                                                                                                                                                                                         \n",
              "text4  vrste kmetijskih gospodarstev kmetijsko gospodarstvo kmetijska gospodarska družba zadruga kmetija velikost kmetijskega gospodarstva tretji del kmetijski trg vloga trga pri uravnavanju gospodarstva trg sestava trga ponudba kmetijskega pridelka sprememba obsega ponudbe in sprememba ponudbe kmetijskega pridelka skupna ali agregatna ponudba pridelka povpraševanje po kmetijskem pridelku sprememba obsega povpraševanja in sprememba povpraševanja po kmetijskem pridelku skupno ali agregatno povpraševanje po pridelku tržno ravnotežje sprememba tržnega ravnotežja                                                                                                                                          \n",
              "text5  kmetijski problem prilagodljivost pridelovalca na spremembe na trgu cenovna elastičnostponudbe pri rasti in padanju cen pridelka kmetijsko trženje sistem kmetijskega trženja področja in nosilci kmetijskega trženja tržni problem slovenskega kmetijstva tržna napaka četrti del država vloga države pri uravnavanju gospodarstva kratek pregled razvoja poseganja države v tržno gospodarstvo položaj države v gospodarskih in socialnih razmerjih makroekonomski oziroma narodnogospodarski cilji ukrepi države pri uravnavanju gospodarstva javnefinance davčni sistem                                                                                                                                             \n",
              "text6  davek davčni zavezanec in davčna stopnja vrste davkov davek od kmetijstva davčna politika denar in denarna politika denar trg denarja denarni ali monetarni sistem centralna banka kot denarna ustanova denarna politika poslovna banka kot denarna ustanova zunanjetrgovinska politika mednarodna trgovina izvozna ponudba in uvozno povpraševanje pozitivni učinki zunanje trgovine zunanjetrgovinska politika ukrepi zunanjetrgovinske politike svetovna trgovinska organizacija peti del javno usmerjanje kmetijskega                                                                                                                                                                                               \n",
              "text7  razvoja kmetijstvo v gospodarskem razvoju vloga kmetijstva v gospodarstu pridelovanje živeža pridelovanje surovin delovne moči agrarna prenaseljenost v teoriji gospodarskega razvoja zasnova večnamenskega kmetijstva kmetijska politika tipi kmetijske politike oblikovanje kmetijske politike sestavine kmetijske politike pregled sistema ukrepov za uravnavanje dohodka kmetijskih gospodarstev primerjalen tudi primeren oziroma pariteten dohodek neposredna podpora dohodka kmetijskega gospodarstva ukrepi za ustalitev cene kmetijskih pridelkov ukrepi za                                                                                                                                                    \n",
              "text8  podporo tržne cene pridelka posredne podpore dohodka kmetijskega gospodarstva ukrepi za zniževanje stroškov pridelovanja in reje ukrepi za zmanjšanje tveganj naložbe podpore s ponudbojavnih dobrin usmerjanje trajnostnega razvoja kmetijstva razmerje med usmerjanjem kmetijstva in varovanjem naravnega okolja ukrepi za varovanje naravnega okolja kazalniki trajnostnega razvoja slovstvo stvarno kazalo predgovor učbenik je namenjen študentkam in študentom univerzitetnega študija agronomije in zootehnike ki se v prvem oziroma drugem letniku študija prvič srečajo s področjem agrarne ekonomike pri predmetih                                                                                            \n",
              "text9  agrarna ekonomika in uvod v agrarno ekonomiko zasledujemo naslednje vzgojno izobraževalne smotre uvajanje v gospodarske vidike kmetijstva motiviranje in spodbujanje k celovitemu obravnavanju problemov pridelovanja in reje spoznavanje temeljnih ekonomskih pojmov in pojavov razumevanje vzvodov in dejavnikov gospodarskega razvoja ter razvoja kmetijstva uporaba pridobljenih znanj pri analizi kmetijskih gospodarskih značilnosti in gospodarskih razmer v kmetijstvu usposabljanje za iskanje ustreznih ekonomskih in kmetijskopolitičnih rešitev učbenik je razdeljen na zaključenih vendar medsebojno povezanih delov razvoj in metoda agrarne ekonomike osnove agrarne ekonomike kmetijski trg država javno\n",
              "text10 usmerjanje kmetijskega razvoja učbenik v prvem delu obravnava poreklo imena znanstvene discipline ki je predmet proučevanja podaja pregled njenega dosedanjega razvoja in opozori na osebe ki so ga zaznamovale opredeli vsebino agrarne ekonomike in ključna področja njenega raziskovanja seznani s potmi po katerih lahko pridemo do novih agrarnoekonomskih spoznanj in načeli kijih moramo pri tem spoštovati drugi del je namenjen agrarnoekonomskim osnovam seznani z različnimi pristopi ki jih je mogoče uporabiti pri opredeljevanju kmetijstva poskuša ugotoviti kakšna je zveza med kmetijstvom in podeželjem pregleda prvine                                                                               \n",
              "       sentence_length Topic Probability\n",
              "text1  74              0     0.9999999  \n",
              "text2  72              0     0.9999810  \n",
              "text3  59              0     1.0000000  \n",
              "text4  65              0     1.0000000  \n",
              "text5  67              0     1.0000000  \n",
              "text6  62              0     1.0000000  \n",
              "text7  62              0     1.0000000  \n",
              "text8  76              0     1.0000000  \n",
              "text9  84              0     1.0000000  \n",
              "text10 85              0     1.0000000  "
            ]
          },
          "metadata": {}
        }
      ]
    },
    {
      "cell_type": "markdown",
      "source": [
        "## Informacije o dokumentih"
      ],
      "metadata": {
        "id": "jMRPBDs6NNFd"
      }
    },
    {
      "cell_type": "code",
      "source": [
        "library(bertopicr)\n",
        "document_info_df <- get_document_info_df(model = topic_model,\n",
        "                                         texts = texts_cleaned,\n",
        "                                         drop_expanded_columns = TRUE)\n",
        "document_info_df |> head()"
      ],
      "metadata": {
        "colab": {
          "base_uri": "https://localhost:8080/",
          "height": 1000
        },
        "id": "_Mqpj6MNnq1y",
        "outputId": "b7acd84e-d85b-407f-a893-ce4bfa752fbb"
      },
      "execution_count": 23,
      "outputs": [
        {
          "output_type": "display_data",
          "data": {
            "text/html": [
              "<table class=\"dataframe\">\n",
              "<caption>A tibble: 6 × 10</caption>\n",
              "<thead>\n",
              "\t<tr><th scope=col>Document</th><th scope=col>Topic</th><th scope=col>Name</th><th scope=col>Top_n_words</th><th scope=col>Probability</th><th scope=col>Representative_document</th><th scope=col>Representation</th><th scope=col>KeyBERT</th><th scope=col>MMR</th><th scope=col>Representative_Docs</th></tr>\n",
              "\t<tr><th scope=col>&lt;chr&gt;</th><th scope=col>&lt;dbl&gt;</th><th scope=col>&lt;chr&gt;</th><th scope=col>&lt;chr&gt;</th><th scope=col>&lt;dbl&gt;</th><th scope=col>&lt;lgl&gt;</th><th scope=col>&lt;chr&gt;</th><th scope=col>&lt;chr&gt;</th><th scope=col>&lt;chr&gt;</th><th scope=col>&lt;chr&gt;</th></tr>\n",
              "</thead>\n",
              "<tbody>\n",
              "\t<tr><td>univerza v ljubljani biotehniška fakulteta oddelek za agronomijo prof dr katja vadna čl icz o univerza v ljubljani biotehniška fakulteta cip kataložni zapis o publikaciji narodna in univerzitetna knjižnica ljubljana vadnal katja agrarna ekonomika osnove trg država katja vadnal l izd ljubljana biotehniška fakulteta oddelek za agronomijo isbn recenzija prof dr jernej turk kmetijska fakulteta univerza v mariboru doc dr andrej udovč biotehniška fakulteta univerza v ljubljani lektoriranje prof alenka raič blažič oblikovanje franci                           </td><td>0</td><td>0_za_ki_se_pri</td><td>za - ki - se - pri - ali - lahko - pa - tudi - kot - po</td><td>0.7925759</td><td>FALSE</td><td>za, ki, se, pri, ali, lahko, pa, tudi, kot, po</td><td>različnih, ki ga, ki jih, ni, zelo, med, ko, drugi, primer, ima</td><td>za, ali, lahko, od, med, ni, ko, bo, primer, oziroma</td><td>vročinske oblive in vpliv na vaginalno sluznico med kasnimi neželenimi učinki je pomembno povečanje tveganja za rak maternice zaradi delovanja na endometrij večje je tudi tveganje za venske tromboze in razvoj katarakte zdravila iz vrste aromataznih zaviralcev anastrozol letrozol eksemestan nimajo kasnih neželenih učinkov na maternično sluznico tudi tveganje za tromboze je manjše kot pri tamoksifenu pogosto pa povzročajo mišično sklepne bolečine in občutek jutranje okorelosti kar je včasih pri nekaterih bolnicah razlog da opustijo jemanje zdravila sicer aromatazni zaviralci zlasti pri že prisotni osteopeniji povečajo tveganje za osteoporozo in zlome kosti povzročajo tudi prehodno hiperlipidemijo njihov vpliv na kardiovaskularni sistem, pri ponovljenem merjenju ali pa vektorizacija matrike in koeficient korelacije kot mera zanesljivosti po metodi retesta ocenjevanje kakovosti merjenja velikosti lokalnega omrežja ali mer centralnosti odstotek identičnih oseb ali koeficient korelacije med merami centralnosti kot meri stabilnosti po metodi retesta v nadaljevanju je najprej predstavljeno ocenjevanje zanesljivosti merjenja na vektorizirani relacijskimatriki vektorizacija matrike je postopek pri katerem iz matrike dobimo stolpec podatkov ki ga lahko obravnavamo kotstandardno spremenljivko pri vektorizaciji izmatrike naredimo stolpec tako da posamezne stolpce zapisujemo enega za drugim omrežje je tako spremenljivka posamezna vrednostmatrike, vrvni bobni vrvni bobni mostnih žerjavov omogočajo dvig bremen površina vrvnega bobna je lahko gladka če se vrv navija na boben v več plasteh pogosteje se v praksi uporablja ožlebljen vrvni boben kjer se vrv navija v eni plasti tako je vrv v žlebu bobna vodena in ne drsi po vrvnem bobnu vrvni bobni so lahko liti iz sive litine večji vrvni bobni pa so varjeni iz jeklene pločevine mostni žerjavi v intralogistiki dimenzioniranje vrvnega bobna po standardu en tudi dimenzioniranje vrvnega bobna izvedemo na</td></tr>\n",
              "\t<tr><td>kramarič tisk forma vrhpolje mora x v skladu s sklepom senata oddelka za agronomijo z dne se univerzitetni učbenik agrarna ekonomika osnove trg država katerega avtorica je prof dr katja vadnal na biotehniški fakulteti uporablja kot predpisano učno gradivo založba biotehniška fakulteta univerze i naklada izvodov dekan biotehniške fakultete prof dr jože resnik r univerza v ljubljani biotehniška fakulteta oddelek za agronomijo katja vadnal agrarna ekonomika osnove trg država ljubljana vsebina predgovor                                                      </td><td>0</td><td>0_za_ki_se_pri</td><td>za - ki - se - pri - ali - lahko - pa - tudi - kot - po</td><td>0.9435439</td><td>FALSE</td><td>za, ki, se, pri, ali, lahko, pa, tudi, kot, po</td><td>različnih, ki ga, ki jih, ni, zelo, med, ko, drugi, primer, ima</td><td>za, ali, lahko, od, med, ni, ko, bo, primer, oziroma</td><td>vročinske oblive in vpliv na vaginalno sluznico med kasnimi neželenimi učinki je pomembno povečanje tveganja za rak maternice zaradi delovanja na endometrij večje je tudi tveganje za venske tromboze in razvoj katarakte zdravila iz vrste aromataznih zaviralcev anastrozol letrozol eksemestan nimajo kasnih neželenih učinkov na maternično sluznico tudi tveganje za tromboze je manjše kot pri tamoksifenu pogosto pa povzročajo mišično sklepne bolečine in občutek jutranje okorelosti kar je včasih pri nekaterih bolnicah razlog da opustijo jemanje zdravila sicer aromatazni zaviralci zlasti pri že prisotni osteopeniji povečajo tveganje za osteoporozo in zlome kosti povzročajo tudi prehodno hiperlipidemijo njihov vpliv na kardiovaskularni sistem, pri ponovljenem merjenju ali pa vektorizacija matrike in koeficient korelacije kot mera zanesljivosti po metodi retesta ocenjevanje kakovosti merjenja velikosti lokalnega omrežja ali mer centralnosti odstotek identičnih oseb ali koeficient korelacije med merami centralnosti kot meri stabilnosti po metodi retesta v nadaljevanju je najprej predstavljeno ocenjevanje zanesljivosti merjenja na vektorizirani relacijskimatriki vektorizacija matrike je postopek pri katerem iz matrike dobimo stolpec podatkov ki ga lahko obravnavamo kotstandardno spremenljivko pri vektorizaciji izmatrike naredimo stolpec tako da posamezne stolpce zapisujemo enega za drugim omrežje je tako spremenljivka posamezna vrednostmatrike, vrvni bobni vrvni bobni mostnih žerjavov omogočajo dvig bremen površina vrvnega bobna je lahko gladka če se vrv navija na boben v več plasteh pogosteje se v praksi uporablja ožlebljen vrvni boben kjer se vrv navija v eni plasti tako je vrv v žlebu bobna vodena in ne drsi po vrvnem bobnu vrvni bobni so lahko liti iz sive litine večji vrvni bobni pa so varjeni iz jeklene pločevine mostni žerjavi v intralogistiki dimenzioniranje vrvnega bobna po standardu en tudi dimenzioniranje vrvnega bobna izvedemo na</td></tr>\n",
              "\t<tr><td>prvi del razvoj in metoda agrarne ekonomike razvoj agrarne ekonomike kot znanstvene discipline poreklo imena razvoj agrarne ekonomike definicija agrarne ekonomike agrarnoekonomsko raziskovanje drugi del osnove agrarne ekonomike kmetijstvo in podeželje kmetijstvo kajje to podeželje prvine kmetijskega pridelovanja naravni viri delo izdelane prvine pridelovanja proizvodna funkcija biotehiški napredek zakon redkosti redkost prvin pridelovanja in pridelkov krivulja različnih proizvodnih možnosti                                                               </td><td>0</td><td>0_za_ki_se_pri</td><td>za - ki - se - pri - ali - lahko - pa - tudi - kot - po</td><td>0.7421702</td><td>FALSE</td><td>za, ki, se, pri, ali, lahko, pa, tudi, kot, po</td><td>različnih, ki ga, ki jih, ni, zelo, med, ko, drugi, primer, ima</td><td>za, ali, lahko, od, med, ni, ko, bo, primer, oziroma</td><td>vročinske oblive in vpliv na vaginalno sluznico med kasnimi neželenimi učinki je pomembno povečanje tveganja za rak maternice zaradi delovanja na endometrij večje je tudi tveganje za venske tromboze in razvoj katarakte zdravila iz vrste aromataznih zaviralcev anastrozol letrozol eksemestan nimajo kasnih neželenih učinkov na maternično sluznico tudi tveganje za tromboze je manjše kot pri tamoksifenu pogosto pa povzročajo mišično sklepne bolečine in občutek jutranje okorelosti kar je včasih pri nekaterih bolnicah razlog da opustijo jemanje zdravila sicer aromatazni zaviralci zlasti pri že prisotni osteopeniji povečajo tveganje za osteoporozo in zlome kosti povzročajo tudi prehodno hiperlipidemijo njihov vpliv na kardiovaskularni sistem, pri ponovljenem merjenju ali pa vektorizacija matrike in koeficient korelacije kot mera zanesljivosti po metodi retesta ocenjevanje kakovosti merjenja velikosti lokalnega omrežja ali mer centralnosti odstotek identičnih oseb ali koeficient korelacije med merami centralnosti kot meri stabilnosti po metodi retesta v nadaljevanju je najprej predstavljeno ocenjevanje zanesljivosti merjenja na vektorizirani relacijskimatriki vektorizacija matrike je postopek pri katerem iz matrike dobimo stolpec podatkov ki ga lahko obravnavamo kotstandardno spremenljivko pri vektorizaciji izmatrike naredimo stolpec tako da posamezne stolpce zapisujemo enega za drugim omrežje je tako spremenljivka posamezna vrednostmatrike, vrvni bobni vrvni bobni mostnih žerjavov omogočajo dvig bremen površina vrvnega bobna je lahko gladka če se vrv navija na boben v več plasteh pogosteje se v praksi uporablja ožlebljen vrvni boben kjer se vrv navija v eni plasti tako je vrv v žlebu bobna vodena in ne drsi po vrvnem bobnu vrvni bobni so lahko liti iz sive litine večji vrvni bobni pa so varjeni iz jeklene pločevine mostni žerjavi v intralogistiki dimenzioniranje vrvnega bobna po standardu en tudi dimenzioniranje vrvnega bobna izvedemo na</td></tr>\n",
              "\t<tr><td>vrste kmetijskih gospodarstev kmetijsko gospodarstvo kmetijska gospodarska družba zadruga kmetija velikost kmetijskega gospodarstva tretji del kmetijski trg vloga trga pri uravnavanju gospodarstva trg sestava trga ponudba kmetijskega pridelka sprememba obsega ponudbe in sprememba ponudbe kmetijskega pridelka skupna ali agregatna ponudba pridelka povpraševanje po kmetijskem pridelku sprememba obsega povpraševanja in sprememba povpraševanja po kmetijskem pridelku skupno ali agregatno povpraševanje po pridelku tržno ravnotežje sprememba tržnega ravnotežja</td><td>0</td><td>0_za_ki_se_pri</td><td>za - ki - se - pri - ali - lahko - pa - tudi - kot - po</td><td>1.0000000</td><td>FALSE</td><td>za, ki, se, pri, ali, lahko, pa, tudi, kot, po</td><td>različnih, ki ga, ki jih, ni, zelo, med, ko, drugi, primer, ima</td><td>za, ali, lahko, od, med, ni, ko, bo, primer, oziroma</td><td>vročinske oblive in vpliv na vaginalno sluznico med kasnimi neželenimi učinki je pomembno povečanje tveganja za rak maternice zaradi delovanja na endometrij večje je tudi tveganje za venske tromboze in razvoj katarakte zdravila iz vrste aromataznih zaviralcev anastrozol letrozol eksemestan nimajo kasnih neželenih učinkov na maternično sluznico tudi tveganje za tromboze je manjše kot pri tamoksifenu pogosto pa povzročajo mišično sklepne bolečine in občutek jutranje okorelosti kar je včasih pri nekaterih bolnicah razlog da opustijo jemanje zdravila sicer aromatazni zaviralci zlasti pri že prisotni osteopeniji povečajo tveganje za osteoporozo in zlome kosti povzročajo tudi prehodno hiperlipidemijo njihov vpliv na kardiovaskularni sistem, pri ponovljenem merjenju ali pa vektorizacija matrike in koeficient korelacije kot mera zanesljivosti po metodi retesta ocenjevanje kakovosti merjenja velikosti lokalnega omrežja ali mer centralnosti odstotek identičnih oseb ali koeficient korelacije med merami centralnosti kot meri stabilnosti po metodi retesta v nadaljevanju je najprej predstavljeno ocenjevanje zanesljivosti merjenja na vektorizirani relacijskimatriki vektorizacija matrike je postopek pri katerem iz matrike dobimo stolpec podatkov ki ga lahko obravnavamo kotstandardno spremenljivko pri vektorizaciji izmatrike naredimo stolpec tako da posamezne stolpce zapisujemo enega za drugim omrežje je tako spremenljivka posamezna vrednostmatrike, vrvni bobni vrvni bobni mostnih žerjavov omogočajo dvig bremen površina vrvnega bobna je lahko gladka če se vrv navija na boben v več plasteh pogosteje se v praksi uporablja ožlebljen vrvni boben kjer se vrv navija v eni plasti tako je vrv v žlebu bobna vodena in ne drsi po vrvnem bobnu vrvni bobni so lahko liti iz sive litine večji vrvni bobni pa so varjeni iz jeklene pločevine mostni žerjavi v intralogistiki dimenzioniranje vrvnega bobna po standardu en tudi dimenzioniranje vrvnega bobna izvedemo na</td></tr>\n",
              "\t<tr><td>kmetijski problem prilagodljivost pridelovalca na spremembe na trgu cenovna elastičnostponudbe pri rasti in padanju cen pridelka kmetijsko trženje sistem kmetijskega trženja področja in nosilci kmetijskega trženja tržni problem slovenskega kmetijstva tržna napaka četrti del država vloga države pri uravnavanju gospodarstva kratek pregled razvoja poseganja države v tržno gospodarstvo položaj države v gospodarskih in socialnih razmerjih makroekonomski oziroma narodnogospodarski cilji ukrepi države pri uravnavanju gospodarstva javnefinance davčni sistem   </td><td>0</td><td>0_za_ki_se_pri</td><td>za - ki - se - pri - ali - lahko - pa - tudi - kot - po</td><td>1.0000000</td><td>FALSE</td><td>za, ki, se, pri, ali, lahko, pa, tudi, kot, po</td><td>različnih, ki ga, ki jih, ni, zelo, med, ko, drugi, primer, ima</td><td>za, ali, lahko, od, med, ni, ko, bo, primer, oziroma</td><td>vročinske oblive in vpliv na vaginalno sluznico med kasnimi neželenimi učinki je pomembno povečanje tveganja za rak maternice zaradi delovanja na endometrij večje je tudi tveganje za venske tromboze in razvoj katarakte zdravila iz vrste aromataznih zaviralcev anastrozol letrozol eksemestan nimajo kasnih neželenih učinkov na maternično sluznico tudi tveganje za tromboze je manjše kot pri tamoksifenu pogosto pa povzročajo mišično sklepne bolečine in občutek jutranje okorelosti kar je včasih pri nekaterih bolnicah razlog da opustijo jemanje zdravila sicer aromatazni zaviralci zlasti pri že prisotni osteopeniji povečajo tveganje za osteoporozo in zlome kosti povzročajo tudi prehodno hiperlipidemijo njihov vpliv na kardiovaskularni sistem, pri ponovljenem merjenju ali pa vektorizacija matrike in koeficient korelacije kot mera zanesljivosti po metodi retesta ocenjevanje kakovosti merjenja velikosti lokalnega omrežja ali mer centralnosti odstotek identičnih oseb ali koeficient korelacije med merami centralnosti kot meri stabilnosti po metodi retesta v nadaljevanju je najprej predstavljeno ocenjevanje zanesljivosti merjenja na vektorizirani relacijskimatriki vektorizacija matrike je postopek pri katerem iz matrike dobimo stolpec podatkov ki ga lahko obravnavamo kotstandardno spremenljivko pri vektorizaciji izmatrike naredimo stolpec tako da posamezne stolpce zapisujemo enega za drugim omrežje je tako spremenljivka posamezna vrednostmatrike, vrvni bobni vrvni bobni mostnih žerjavov omogočajo dvig bremen površina vrvnega bobna je lahko gladka če se vrv navija na boben v več plasteh pogosteje se v praksi uporablja ožlebljen vrvni boben kjer se vrv navija v eni plasti tako je vrv v žlebu bobna vodena in ne drsi po vrvnem bobnu vrvni bobni so lahko liti iz sive litine večji vrvni bobni pa so varjeni iz jeklene pločevine mostni žerjavi v intralogistiki dimenzioniranje vrvnega bobna po standardu en tudi dimenzioniranje vrvnega bobna izvedemo na</td></tr>\n",
              "\t<tr><td>davek davčni zavezanec in davčna stopnja vrste davkov davek od kmetijstva davčna politika denar in denarna politika denar trg denarja denarni ali monetarni sistem centralna banka kot denarna ustanova denarna politika poslovna banka kot denarna ustanova zunanjetrgovinska politika mednarodna trgovina izvozna ponudba in uvozno povpraševanje pozitivni učinki zunanje trgovine zunanjetrgovinska politika ukrepi zunanjetrgovinske politike svetovna trgovinska organizacija peti del javno usmerjanje kmetijskega                                                     </td><td>0</td><td>0_za_ki_se_pri</td><td>za - ki - se - pri - ali - lahko - pa - tudi - kot - po</td><td>0.6976112</td><td>FALSE</td><td>za, ki, se, pri, ali, lahko, pa, tudi, kot, po</td><td>različnih, ki ga, ki jih, ni, zelo, med, ko, drugi, primer, ima</td><td>za, ali, lahko, od, med, ni, ko, bo, primer, oziroma</td><td>vročinske oblive in vpliv na vaginalno sluznico med kasnimi neželenimi učinki je pomembno povečanje tveganja za rak maternice zaradi delovanja na endometrij večje je tudi tveganje za venske tromboze in razvoj katarakte zdravila iz vrste aromataznih zaviralcev anastrozol letrozol eksemestan nimajo kasnih neželenih učinkov na maternično sluznico tudi tveganje za tromboze je manjše kot pri tamoksifenu pogosto pa povzročajo mišično sklepne bolečine in občutek jutranje okorelosti kar je včasih pri nekaterih bolnicah razlog da opustijo jemanje zdravila sicer aromatazni zaviralci zlasti pri že prisotni osteopeniji povečajo tveganje za osteoporozo in zlome kosti povzročajo tudi prehodno hiperlipidemijo njihov vpliv na kardiovaskularni sistem, pri ponovljenem merjenju ali pa vektorizacija matrike in koeficient korelacije kot mera zanesljivosti po metodi retesta ocenjevanje kakovosti merjenja velikosti lokalnega omrežja ali mer centralnosti odstotek identičnih oseb ali koeficient korelacije med merami centralnosti kot meri stabilnosti po metodi retesta v nadaljevanju je najprej predstavljeno ocenjevanje zanesljivosti merjenja na vektorizirani relacijskimatriki vektorizacija matrike je postopek pri katerem iz matrike dobimo stolpec podatkov ki ga lahko obravnavamo kotstandardno spremenljivko pri vektorizaciji izmatrike naredimo stolpec tako da posamezne stolpce zapisujemo enega za drugim omrežje je tako spremenljivka posamezna vrednostmatrike, vrvni bobni vrvni bobni mostnih žerjavov omogočajo dvig bremen površina vrvnega bobna je lahko gladka če se vrv navija na boben v več plasteh pogosteje se v praksi uporablja ožlebljen vrvni boben kjer se vrv navija v eni plasti tako je vrv v žlebu bobna vodena in ne drsi po vrvnem bobnu vrvni bobni so lahko liti iz sive litine večji vrvni bobni pa so varjeni iz jeklene pločevine mostni žerjavi v intralogistiki dimenzioniranje vrvnega bobna po standardu en tudi dimenzioniranje vrvnega bobna izvedemo na</td></tr>\n",
              "</tbody>\n",
              "</table>\n"
            ],
            "text/markdown": "\nA tibble: 6 × 10\n\n| Document &lt;chr&gt; | Topic &lt;dbl&gt; | Name &lt;chr&gt; | Top_n_words &lt;chr&gt; | Probability &lt;dbl&gt; | Representative_document &lt;lgl&gt; | Representation &lt;chr&gt; | KeyBERT &lt;chr&gt; | MMR &lt;chr&gt; | Representative_Docs &lt;chr&gt; |\n|---|---|---|---|---|---|---|---|---|---|\n| univerza v ljubljani biotehniška fakulteta oddelek za agronomijo prof dr katja vadna čl icz o univerza v ljubljani biotehniška fakulteta cip kataložni zapis o publikaciji narodna in univerzitetna knjižnica ljubljana vadnal katja agrarna ekonomika osnove trg država katja vadnal l izd ljubljana biotehniška fakulteta oddelek za agronomijo isbn recenzija prof dr jernej turk kmetijska fakulteta univerza v mariboru doc dr andrej udovč biotehniška fakulteta univerza v ljubljani lektoriranje prof alenka raič blažič oblikovanje franci                            | 0 | 0_za_ki_se_pri | za - ki - se - pri - ali - lahko - pa - tudi - kot - po | 0.7925759 | FALSE | za, ki, se, pri, ali, lahko, pa, tudi, kot, po | različnih, ki ga, ki jih, ni, zelo, med, ko, drugi, primer, ima | za, ali, lahko, od, med, ni, ko, bo, primer, oziroma | vročinske oblive in vpliv na vaginalno sluznico med kasnimi neželenimi učinki je pomembno povečanje tveganja za rak maternice zaradi delovanja na endometrij večje je tudi tveganje za venske tromboze in razvoj katarakte zdravila iz vrste aromataznih zaviralcev anastrozol letrozol eksemestan nimajo kasnih neželenih učinkov na maternično sluznico tudi tveganje za tromboze je manjše kot pri tamoksifenu pogosto pa povzročajo mišično sklepne bolečine in občutek jutranje okorelosti kar je včasih pri nekaterih bolnicah razlog da opustijo jemanje zdravila sicer aromatazni zaviralci zlasti pri že prisotni osteopeniji povečajo tveganje za osteoporozo in zlome kosti povzročajo tudi prehodno hiperlipidemijo njihov vpliv na kardiovaskularni sistem, pri ponovljenem merjenju ali pa vektorizacija matrike in koeficient korelacije kot mera zanesljivosti po metodi retesta ocenjevanje kakovosti merjenja velikosti lokalnega omrežja ali mer centralnosti odstotek identičnih oseb ali koeficient korelacije med merami centralnosti kot meri stabilnosti po metodi retesta v nadaljevanju je najprej predstavljeno ocenjevanje zanesljivosti merjenja na vektorizirani relacijskimatriki vektorizacija matrike je postopek pri katerem iz matrike dobimo stolpec podatkov ki ga lahko obravnavamo kotstandardno spremenljivko pri vektorizaciji izmatrike naredimo stolpec tako da posamezne stolpce zapisujemo enega za drugim omrežje je tako spremenljivka posamezna vrednostmatrike, vrvni bobni vrvni bobni mostnih žerjavov omogočajo dvig bremen površina vrvnega bobna je lahko gladka če se vrv navija na boben v več plasteh pogosteje se v praksi uporablja ožlebljen vrvni boben kjer se vrv navija v eni plasti tako je vrv v žlebu bobna vodena in ne drsi po vrvnem bobnu vrvni bobni so lahko liti iz sive litine večji vrvni bobni pa so varjeni iz jeklene pločevine mostni žerjavi v intralogistiki dimenzioniranje vrvnega bobna po standardu en tudi dimenzioniranje vrvnega bobna izvedemo na |\n| kramarič tisk forma vrhpolje mora x v skladu s sklepom senata oddelka za agronomijo z dne se univerzitetni učbenik agrarna ekonomika osnove trg država katerega avtorica je prof dr katja vadnal na biotehniški fakulteti uporablja kot predpisano učno gradivo založba biotehniška fakulteta univerze i naklada izvodov dekan biotehniške fakultete prof dr jože resnik r univerza v ljubljani biotehniška fakulteta oddelek za agronomijo katja vadnal agrarna ekonomika osnove trg država ljubljana vsebina predgovor                                                       | 0 | 0_za_ki_se_pri | za - ki - se - pri - ali - lahko - pa - tudi - kot - po | 0.9435439 | FALSE | za, ki, se, pri, ali, lahko, pa, tudi, kot, po | različnih, ki ga, ki jih, ni, zelo, med, ko, drugi, primer, ima | za, ali, lahko, od, med, ni, ko, bo, primer, oziroma | vročinske oblive in vpliv na vaginalno sluznico med kasnimi neželenimi učinki je pomembno povečanje tveganja za rak maternice zaradi delovanja na endometrij večje je tudi tveganje za venske tromboze in razvoj katarakte zdravila iz vrste aromataznih zaviralcev anastrozol letrozol eksemestan nimajo kasnih neželenih učinkov na maternično sluznico tudi tveganje za tromboze je manjše kot pri tamoksifenu pogosto pa povzročajo mišično sklepne bolečine in občutek jutranje okorelosti kar je včasih pri nekaterih bolnicah razlog da opustijo jemanje zdravila sicer aromatazni zaviralci zlasti pri že prisotni osteopeniji povečajo tveganje za osteoporozo in zlome kosti povzročajo tudi prehodno hiperlipidemijo njihov vpliv na kardiovaskularni sistem, pri ponovljenem merjenju ali pa vektorizacija matrike in koeficient korelacije kot mera zanesljivosti po metodi retesta ocenjevanje kakovosti merjenja velikosti lokalnega omrežja ali mer centralnosti odstotek identičnih oseb ali koeficient korelacije med merami centralnosti kot meri stabilnosti po metodi retesta v nadaljevanju je najprej predstavljeno ocenjevanje zanesljivosti merjenja na vektorizirani relacijskimatriki vektorizacija matrike je postopek pri katerem iz matrike dobimo stolpec podatkov ki ga lahko obravnavamo kotstandardno spremenljivko pri vektorizaciji izmatrike naredimo stolpec tako da posamezne stolpce zapisujemo enega za drugim omrežje je tako spremenljivka posamezna vrednostmatrike, vrvni bobni vrvni bobni mostnih žerjavov omogočajo dvig bremen površina vrvnega bobna je lahko gladka če se vrv navija na boben v več plasteh pogosteje se v praksi uporablja ožlebljen vrvni boben kjer se vrv navija v eni plasti tako je vrv v žlebu bobna vodena in ne drsi po vrvnem bobnu vrvni bobni so lahko liti iz sive litine večji vrvni bobni pa so varjeni iz jeklene pločevine mostni žerjavi v intralogistiki dimenzioniranje vrvnega bobna po standardu en tudi dimenzioniranje vrvnega bobna izvedemo na |\n| prvi del razvoj in metoda agrarne ekonomike razvoj agrarne ekonomike kot znanstvene discipline poreklo imena razvoj agrarne ekonomike definicija agrarne ekonomike agrarnoekonomsko raziskovanje drugi del osnove agrarne ekonomike kmetijstvo in podeželje kmetijstvo kajje to podeželje prvine kmetijskega pridelovanja naravni viri delo izdelane prvine pridelovanja proizvodna funkcija biotehiški napredek zakon redkosti redkost prvin pridelovanja in pridelkov krivulja različnih proizvodnih možnosti                                                                | 0 | 0_za_ki_se_pri | za - ki - se - pri - ali - lahko - pa - tudi - kot - po | 0.7421702 | FALSE | za, ki, se, pri, ali, lahko, pa, tudi, kot, po | različnih, ki ga, ki jih, ni, zelo, med, ko, drugi, primer, ima | za, ali, lahko, od, med, ni, ko, bo, primer, oziroma | vročinske oblive in vpliv na vaginalno sluznico med kasnimi neželenimi učinki je pomembno povečanje tveganja za rak maternice zaradi delovanja na endometrij večje je tudi tveganje za venske tromboze in razvoj katarakte zdravila iz vrste aromataznih zaviralcev anastrozol letrozol eksemestan nimajo kasnih neželenih učinkov na maternično sluznico tudi tveganje za tromboze je manjše kot pri tamoksifenu pogosto pa povzročajo mišično sklepne bolečine in občutek jutranje okorelosti kar je včasih pri nekaterih bolnicah razlog da opustijo jemanje zdravila sicer aromatazni zaviralci zlasti pri že prisotni osteopeniji povečajo tveganje za osteoporozo in zlome kosti povzročajo tudi prehodno hiperlipidemijo njihov vpliv na kardiovaskularni sistem, pri ponovljenem merjenju ali pa vektorizacija matrike in koeficient korelacije kot mera zanesljivosti po metodi retesta ocenjevanje kakovosti merjenja velikosti lokalnega omrežja ali mer centralnosti odstotek identičnih oseb ali koeficient korelacije med merami centralnosti kot meri stabilnosti po metodi retesta v nadaljevanju je najprej predstavljeno ocenjevanje zanesljivosti merjenja na vektorizirani relacijskimatriki vektorizacija matrike je postopek pri katerem iz matrike dobimo stolpec podatkov ki ga lahko obravnavamo kotstandardno spremenljivko pri vektorizaciji izmatrike naredimo stolpec tako da posamezne stolpce zapisujemo enega za drugim omrežje je tako spremenljivka posamezna vrednostmatrike, vrvni bobni vrvni bobni mostnih žerjavov omogočajo dvig bremen površina vrvnega bobna je lahko gladka če se vrv navija na boben v več plasteh pogosteje se v praksi uporablja ožlebljen vrvni boben kjer se vrv navija v eni plasti tako je vrv v žlebu bobna vodena in ne drsi po vrvnem bobnu vrvni bobni so lahko liti iz sive litine večji vrvni bobni pa so varjeni iz jeklene pločevine mostni žerjavi v intralogistiki dimenzioniranje vrvnega bobna po standardu en tudi dimenzioniranje vrvnega bobna izvedemo na |\n| vrste kmetijskih gospodarstev kmetijsko gospodarstvo kmetijska gospodarska družba zadruga kmetija velikost kmetijskega gospodarstva tretji del kmetijski trg vloga trga pri uravnavanju gospodarstva trg sestava trga ponudba kmetijskega pridelka sprememba obsega ponudbe in sprememba ponudbe kmetijskega pridelka skupna ali agregatna ponudba pridelka povpraševanje po kmetijskem pridelku sprememba obsega povpraševanja in sprememba povpraševanja po kmetijskem pridelku skupno ali agregatno povpraševanje po pridelku tržno ravnotežje sprememba tržnega ravnotežja | 0 | 0_za_ki_se_pri | za - ki - se - pri - ali - lahko - pa - tudi - kot - po | 1.0000000 | FALSE | za, ki, se, pri, ali, lahko, pa, tudi, kot, po | različnih, ki ga, ki jih, ni, zelo, med, ko, drugi, primer, ima | za, ali, lahko, od, med, ni, ko, bo, primer, oziroma | vročinske oblive in vpliv na vaginalno sluznico med kasnimi neželenimi učinki je pomembno povečanje tveganja za rak maternice zaradi delovanja na endometrij večje je tudi tveganje za venske tromboze in razvoj katarakte zdravila iz vrste aromataznih zaviralcev anastrozol letrozol eksemestan nimajo kasnih neželenih učinkov na maternično sluznico tudi tveganje za tromboze je manjše kot pri tamoksifenu pogosto pa povzročajo mišično sklepne bolečine in občutek jutranje okorelosti kar je včasih pri nekaterih bolnicah razlog da opustijo jemanje zdravila sicer aromatazni zaviralci zlasti pri že prisotni osteopeniji povečajo tveganje za osteoporozo in zlome kosti povzročajo tudi prehodno hiperlipidemijo njihov vpliv na kardiovaskularni sistem, pri ponovljenem merjenju ali pa vektorizacija matrike in koeficient korelacije kot mera zanesljivosti po metodi retesta ocenjevanje kakovosti merjenja velikosti lokalnega omrežja ali mer centralnosti odstotek identičnih oseb ali koeficient korelacije med merami centralnosti kot meri stabilnosti po metodi retesta v nadaljevanju je najprej predstavljeno ocenjevanje zanesljivosti merjenja na vektorizirani relacijskimatriki vektorizacija matrike je postopek pri katerem iz matrike dobimo stolpec podatkov ki ga lahko obravnavamo kotstandardno spremenljivko pri vektorizaciji izmatrike naredimo stolpec tako da posamezne stolpce zapisujemo enega za drugim omrežje je tako spremenljivka posamezna vrednostmatrike, vrvni bobni vrvni bobni mostnih žerjavov omogočajo dvig bremen površina vrvnega bobna je lahko gladka če se vrv navija na boben v več plasteh pogosteje se v praksi uporablja ožlebljen vrvni boben kjer se vrv navija v eni plasti tako je vrv v žlebu bobna vodena in ne drsi po vrvnem bobnu vrvni bobni so lahko liti iz sive litine večji vrvni bobni pa so varjeni iz jeklene pločevine mostni žerjavi v intralogistiki dimenzioniranje vrvnega bobna po standardu en tudi dimenzioniranje vrvnega bobna izvedemo na |\n| kmetijski problem prilagodljivost pridelovalca na spremembe na trgu cenovna elastičnostponudbe pri rasti in padanju cen pridelka kmetijsko trženje sistem kmetijskega trženja področja in nosilci kmetijskega trženja tržni problem slovenskega kmetijstva tržna napaka četrti del država vloga države pri uravnavanju gospodarstva kratek pregled razvoja poseganja države v tržno gospodarstvo položaj države v gospodarskih in socialnih razmerjih makroekonomski oziroma narodnogospodarski cilji ukrepi države pri uravnavanju gospodarstva javnefinance davčni sistem    | 0 | 0_za_ki_se_pri | za - ki - se - pri - ali - lahko - pa - tudi - kot - po | 1.0000000 | FALSE | za, ki, se, pri, ali, lahko, pa, tudi, kot, po | različnih, ki ga, ki jih, ni, zelo, med, ko, drugi, primer, ima | za, ali, lahko, od, med, ni, ko, bo, primer, oziroma | vročinske oblive in vpliv na vaginalno sluznico med kasnimi neželenimi učinki je pomembno povečanje tveganja za rak maternice zaradi delovanja na endometrij večje je tudi tveganje za venske tromboze in razvoj katarakte zdravila iz vrste aromataznih zaviralcev anastrozol letrozol eksemestan nimajo kasnih neželenih učinkov na maternično sluznico tudi tveganje za tromboze je manjše kot pri tamoksifenu pogosto pa povzročajo mišično sklepne bolečine in občutek jutranje okorelosti kar je včasih pri nekaterih bolnicah razlog da opustijo jemanje zdravila sicer aromatazni zaviralci zlasti pri že prisotni osteopeniji povečajo tveganje za osteoporozo in zlome kosti povzročajo tudi prehodno hiperlipidemijo njihov vpliv na kardiovaskularni sistem, pri ponovljenem merjenju ali pa vektorizacija matrike in koeficient korelacije kot mera zanesljivosti po metodi retesta ocenjevanje kakovosti merjenja velikosti lokalnega omrežja ali mer centralnosti odstotek identičnih oseb ali koeficient korelacije med merami centralnosti kot meri stabilnosti po metodi retesta v nadaljevanju je najprej predstavljeno ocenjevanje zanesljivosti merjenja na vektorizirani relacijskimatriki vektorizacija matrike je postopek pri katerem iz matrike dobimo stolpec podatkov ki ga lahko obravnavamo kotstandardno spremenljivko pri vektorizaciji izmatrike naredimo stolpec tako da posamezne stolpce zapisujemo enega za drugim omrežje je tako spremenljivka posamezna vrednostmatrike, vrvni bobni vrvni bobni mostnih žerjavov omogočajo dvig bremen površina vrvnega bobna je lahko gladka če se vrv navija na boben v več plasteh pogosteje se v praksi uporablja ožlebljen vrvni boben kjer se vrv navija v eni plasti tako je vrv v žlebu bobna vodena in ne drsi po vrvnem bobnu vrvni bobni so lahko liti iz sive litine večji vrvni bobni pa so varjeni iz jeklene pločevine mostni žerjavi v intralogistiki dimenzioniranje vrvnega bobna po standardu en tudi dimenzioniranje vrvnega bobna izvedemo na |\n| davek davčni zavezanec in davčna stopnja vrste davkov davek od kmetijstva davčna politika denar in denarna politika denar trg denarja denarni ali monetarni sistem centralna banka kot denarna ustanova denarna politika poslovna banka kot denarna ustanova zunanjetrgovinska politika mednarodna trgovina izvozna ponudba in uvozno povpraševanje pozitivni učinki zunanje trgovine zunanjetrgovinska politika ukrepi zunanjetrgovinske politike svetovna trgovinska organizacija peti del javno usmerjanje kmetijskega                                                      | 0 | 0_za_ki_se_pri | za - ki - se - pri - ali - lahko - pa - tudi - kot - po | 0.6976112 | FALSE | za, ki, se, pri, ali, lahko, pa, tudi, kot, po | različnih, ki ga, ki jih, ni, zelo, med, ko, drugi, primer, ima | za, ali, lahko, od, med, ni, ko, bo, primer, oziroma | vročinske oblive in vpliv na vaginalno sluznico med kasnimi neželenimi učinki je pomembno povečanje tveganja za rak maternice zaradi delovanja na endometrij večje je tudi tveganje za venske tromboze in razvoj katarakte zdravila iz vrste aromataznih zaviralcev anastrozol letrozol eksemestan nimajo kasnih neželenih učinkov na maternično sluznico tudi tveganje za tromboze je manjše kot pri tamoksifenu pogosto pa povzročajo mišično sklepne bolečine in občutek jutranje okorelosti kar je včasih pri nekaterih bolnicah razlog da opustijo jemanje zdravila sicer aromatazni zaviralci zlasti pri že prisotni osteopeniji povečajo tveganje za osteoporozo in zlome kosti povzročajo tudi prehodno hiperlipidemijo njihov vpliv na kardiovaskularni sistem, pri ponovljenem merjenju ali pa vektorizacija matrike in koeficient korelacije kot mera zanesljivosti po metodi retesta ocenjevanje kakovosti merjenja velikosti lokalnega omrežja ali mer centralnosti odstotek identičnih oseb ali koeficient korelacije med merami centralnosti kot meri stabilnosti po metodi retesta v nadaljevanju je najprej predstavljeno ocenjevanje zanesljivosti merjenja na vektorizirani relacijskimatriki vektorizacija matrike je postopek pri katerem iz matrike dobimo stolpec podatkov ki ga lahko obravnavamo kotstandardno spremenljivko pri vektorizaciji izmatrike naredimo stolpec tako da posamezne stolpce zapisujemo enega za drugim omrežje je tako spremenljivka posamezna vrednostmatrike, vrvni bobni vrvni bobni mostnih žerjavov omogočajo dvig bremen površina vrvnega bobna je lahko gladka če se vrv navija na boben v več plasteh pogosteje se v praksi uporablja ožlebljen vrvni boben kjer se vrv navija v eni plasti tako je vrv v žlebu bobna vodena in ne drsi po vrvnem bobnu vrvni bobni so lahko liti iz sive litine večji vrvni bobni pa so varjeni iz jeklene pločevine mostni žerjavi v intralogistiki dimenzioniranje vrvnega bobna po standardu en tudi dimenzioniranje vrvnega bobna izvedemo na |\n\n",
            "text/latex": "A tibble: 6 × 10\n\\begin{tabular}{llllllllll}\n Document & Topic & Name & Top\\_n\\_words & Probability & Representative\\_document & Representation & KeyBERT & MMR & Representative\\_Docs\\\\\n <chr> & <dbl> & <chr> & <chr> & <dbl> & <lgl> & <chr> & <chr> & <chr> & <chr>\\\\\n\\hline\n\t univerza v ljubljani biotehniška fakulteta oddelek za agronomijo prof dr katja vadna čl icz o univerza v ljubljani biotehniška fakulteta cip kataložni zapis o publikaciji narodna in univerzitetna knjižnica ljubljana vadnal katja agrarna ekonomika osnove trg država katja vadnal l izd ljubljana biotehniška fakulteta oddelek za agronomijo isbn recenzija prof dr jernej turk kmetijska fakulteta univerza v mariboru doc dr andrej udovč biotehniška fakulteta univerza v ljubljani lektoriranje prof alenka raič blažič oblikovanje franci                            & 0 & 0\\_za\\_ki\\_se\\_pri & za - ki - se - pri - ali - lahko - pa - tudi - kot - po & 0.7925759 & FALSE & za, ki, se, pri, ali, lahko, pa, tudi, kot, po & različnih, ki ga, ki jih, ni, zelo, med, ko, drugi, primer, ima & za, ali, lahko, od, med, ni, ko, bo, primer, oziroma & vročinske oblive in vpliv na vaginalno sluznico med kasnimi neželenimi učinki je pomembno povečanje tveganja za rak maternice zaradi delovanja na endometrij večje je tudi tveganje za venske tromboze in razvoj katarakte zdravila iz vrste aromataznih zaviralcev anastrozol letrozol eksemestan nimajo kasnih neželenih učinkov na maternično sluznico tudi tveganje za tromboze je manjše kot pri tamoksifenu pogosto pa povzročajo mišično sklepne bolečine in občutek jutranje okorelosti kar je včasih pri nekaterih bolnicah razlog da opustijo jemanje zdravila sicer aromatazni zaviralci zlasti pri že prisotni osteopeniji povečajo tveganje za osteoporozo in zlome kosti povzročajo tudi prehodno hiperlipidemijo njihov vpliv na kardiovaskularni sistem, pri ponovljenem merjenju ali pa vektorizacija matrike in koeficient korelacije kot mera zanesljivosti po metodi retesta ocenjevanje kakovosti merjenja velikosti lokalnega omrežja ali mer centralnosti odstotek identičnih oseb ali koeficient korelacije med merami centralnosti kot meri stabilnosti po metodi retesta v nadaljevanju je najprej predstavljeno ocenjevanje zanesljivosti merjenja na vektorizirani relacijskimatriki vektorizacija matrike je postopek pri katerem iz matrike dobimo stolpec podatkov ki ga lahko obravnavamo kotstandardno spremenljivko pri vektorizaciji izmatrike naredimo stolpec tako da posamezne stolpce zapisujemo enega za drugim omrežje je tako spremenljivka posamezna vrednostmatrike, vrvni bobni vrvni bobni mostnih žerjavov omogočajo dvig bremen površina vrvnega bobna je lahko gladka če se vrv navija na boben v več plasteh pogosteje se v praksi uporablja ožlebljen vrvni boben kjer se vrv navija v eni plasti tako je vrv v žlebu bobna vodena in ne drsi po vrvnem bobnu vrvni bobni so lahko liti iz sive litine večji vrvni bobni pa so varjeni iz jeklene pločevine mostni žerjavi v intralogistiki dimenzioniranje vrvnega bobna po standardu en tudi dimenzioniranje vrvnega bobna izvedemo na\\\\\n\t kramarič tisk forma vrhpolje mora x v skladu s sklepom senata oddelka za agronomijo z dne se univerzitetni učbenik agrarna ekonomika osnove trg država katerega avtorica je prof dr katja vadnal na biotehniški fakulteti uporablja kot predpisano učno gradivo založba biotehniška fakulteta univerze i naklada izvodov dekan biotehniške fakultete prof dr jože resnik r univerza v ljubljani biotehniška fakulteta oddelek za agronomijo katja vadnal agrarna ekonomika osnove trg država ljubljana vsebina predgovor                                                       & 0 & 0\\_za\\_ki\\_se\\_pri & za - ki - se - pri - ali - lahko - pa - tudi - kot - po & 0.9435439 & FALSE & za, ki, se, pri, ali, lahko, pa, tudi, kot, po & različnih, ki ga, ki jih, ni, zelo, med, ko, drugi, primer, ima & za, ali, lahko, od, med, ni, ko, bo, primer, oziroma & vročinske oblive in vpliv na vaginalno sluznico med kasnimi neželenimi učinki je pomembno povečanje tveganja za rak maternice zaradi delovanja na endometrij večje je tudi tveganje za venske tromboze in razvoj katarakte zdravila iz vrste aromataznih zaviralcev anastrozol letrozol eksemestan nimajo kasnih neželenih učinkov na maternično sluznico tudi tveganje za tromboze je manjše kot pri tamoksifenu pogosto pa povzročajo mišično sklepne bolečine in občutek jutranje okorelosti kar je včasih pri nekaterih bolnicah razlog da opustijo jemanje zdravila sicer aromatazni zaviralci zlasti pri že prisotni osteopeniji povečajo tveganje za osteoporozo in zlome kosti povzročajo tudi prehodno hiperlipidemijo njihov vpliv na kardiovaskularni sistem, pri ponovljenem merjenju ali pa vektorizacija matrike in koeficient korelacije kot mera zanesljivosti po metodi retesta ocenjevanje kakovosti merjenja velikosti lokalnega omrežja ali mer centralnosti odstotek identičnih oseb ali koeficient korelacije med merami centralnosti kot meri stabilnosti po metodi retesta v nadaljevanju je najprej predstavljeno ocenjevanje zanesljivosti merjenja na vektorizirani relacijskimatriki vektorizacija matrike je postopek pri katerem iz matrike dobimo stolpec podatkov ki ga lahko obravnavamo kotstandardno spremenljivko pri vektorizaciji izmatrike naredimo stolpec tako da posamezne stolpce zapisujemo enega za drugim omrežje je tako spremenljivka posamezna vrednostmatrike, vrvni bobni vrvni bobni mostnih žerjavov omogočajo dvig bremen površina vrvnega bobna je lahko gladka če se vrv navija na boben v več plasteh pogosteje se v praksi uporablja ožlebljen vrvni boben kjer se vrv navija v eni plasti tako je vrv v žlebu bobna vodena in ne drsi po vrvnem bobnu vrvni bobni so lahko liti iz sive litine večji vrvni bobni pa so varjeni iz jeklene pločevine mostni žerjavi v intralogistiki dimenzioniranje vrvnega bobna po standardu en tudi dimenzioniranje vrvnega bobna izvedemo na\\\\\n\t prvi del razvoj in metoda agrarne ekonomike razvoj agrarne ekonomike kot znanstvene discipline poreklo imena razvoj agrarne ekonomike definicija agrarne ekonomike agrarnoekonomsko raziskovanje drugi del osnove agrarne ekonomike kmetijstvo in podeželje kmetijstvo kajje to podeželje prvine kmetijskega pridelovanja naravni viri delo izdelane prvine pridelovanja proizvodna funkcija biotehiški napredek zakon redkosti redkost prvin pridelovanja in pridelkov krivulja različnih proizvodnih možnosti                                                                & 0 & 0\\_za\\_ki\\_se\\_pri & za - ki - se - pri - ali - lahko - pa - tudi - kot - po & 0.7421702 & FALSE & za, ki, se, pri, ali, lahko, pa, tudi, kot, po & različnih, ki ga, ki jih, ni, zelo, med, ko, drugi, primer, ima & za, ali, lahko, od, med, ni, ko, bo, primer, oziroma & vročinske oblive in vpliv na vaginalno sluznico med kasnimi neželenimi učinki je pomembno povečanje tveganja za rak maternice zaradi delovanja na endometrij večje je tudi tveganje za venske tromboze in razvoj katarakte zdravila iz vrste aromataznih zaviralcev anastrozol letrozol eksemestan nimajo kasnih neželenih učinkov na maternično sluznico tudi tveganje za tromboze je manjše kot pri tamoksifenu pogosto pa povzročajo mišično sklepne bolečine in občutek jutranje okorelosti kar je včasih pri nekaterih bolnicah razlog da opustijo jemanje zdravila sicer aromatazni zaviralci zlasti pri že prisotni osteopeniji povečajo tveganje za osteoporozo in zlome kosti povzročajo tudi prehodno hiperlipidemijo njihov vpliv na kardiovaskularni sistem, pri ponovljenem merjenju ali pa vektorizacija matrike in koeficient korelacije kot mera zanesljivosti po metodi retesta ocenjevanje kakovosti merjenja velikosti lokalnega omrežja ali mer centralnosti odstotek identičnih oseb ali koeficient korelacije med merami centralnosti kot meri stabilnosti po metodi retesta v nadaljevanju je najprej predstavljeno ocenjevanje zanesljivosti merjenja na vektorizirani relacijskimatriki vektorizacija matrike je postopek pri katerem iz matrike dobimo stolpec podatkov ki ga lahko obravnavamo kotstandardno spremenljivko pri vektorizaciji izmatrike naredimo stolpec tako da posamezne stolpce zapisujemo enega za drugim omrežje je tako spremenljivka posamezna vrednostmatrike, vrvni bobni vrvni bobni mostnih žerjavov omogočajo dvig bremen površina vrvnega bobna je lahko gladka če se vrv navija na boben v več plasteh pogosteje se v praksi uporablja ožlebljen vrvni boben kjer se vrv navija v eni plasti tako je vrv v žlebu bobna vodena in ne drsi po vrvnem bobnu vrvni bobni so lahko liti iz sive litine večji vrvni bobni pa so varjeni iz jeklene pločevine mostni žerjavi v intralogistiki dimenzioniranje vrvnega bobna po standardu en tudi dimenzioniranje vrvnega bobna izvedemo na\\\\\n\t vrste kmetijskih gospodarstev kmetijsko gospodarstvo kmetijska gospodarska družba zadruga kmetija velikost kmetijskega gospodarstva tretji del kmetijski trg vloga trga pri uravnavanju gospodarstva trg sestava trga ponudba kmetijskega pridelka sprememba obsega ponudbe in sprememba ponudbe kmetijskega pridelka skupna ali agregatna ponudba pridelka povpraševanje po kmetijskem pridelku sprememba obsega povpraševanja in sprememba povpraševanja po kmetijskem pridelku skupno ali agregatno povpraševanje po pridelku tržno ravnotežje sprememba tržnega ravnotežja & 0 & 0\\_za\\_ki\\_se\\_pri & za - ki - se - pri - ali - lahko - pa - tudi - kot - po & 1.0000000 & FALSE & za, ki, se, pri, ali, lahko, pa, tudi, kot, po & različnih, ki ga, ki jih, ni, zelo, med, ko, drugi, primer, ima & za, ali, lahko, od, med, ni, ko, bo, primer, oziroma & vročinske oblive in vpliv na vaginalno sluznico med kasnimi neželenimi učinki je pomembno povečanje tveganja za rak maternice zaradi delovanja na endometrij večje je tudi tveganje za venske tromboze in razvoj katarakte zdravila iz vrste aromataznih zaviralcev anastrozol letrozol eksemestan nimajo kasnih neželenih učinkov na maternično sluznico tudi tveganje za tromboze je manjše kot pri tamoksifenu pogosto pa povzročajo mišično sklepne bolečine in občutek jutranje okorelosti kar je včasih pri nekaterih bolnicah razlog da opustijo jemanje zdravila sicer aromatazni zaviralci zlasti pri že prisotni osteopeniji povečajo tveganje za osteoporozo in zlome kosti povzročajo tudi prehodno hiperlipidemijo njihov vpliv na kardiovaskularni sistem, pri ponovljenem merjenju ali pa vektorizacija matrike in koeficient korelacije kot mera zanesljivosti po metodi retesta ocenjevanje kakovosti merjenja velikosti lokalnega omrežja ali mer centralnosti odstotek identičnih oseb ali koeficient korelacije med merami centralnosti kot meri stabilnosti po metodi retesta v nadaljevanju je najprej predstavljeno ocenjevanje zanesljivosti merjenja na vektorizirani relacijskimatriki vektorizacija matrike je postopek pri katerem iz matrike dobimo stolpec podatkov ki ga lahko obravnavamo kotstandardno spremenljivko pri vektorizaciji izmatrike naredimo stolpec tako da posamezne stolpce zapisujemo enega za drugim omrežje je tako spremenljivka posamezna vrednostmatrike, vrvni bobni vrvni bobni mostnih žerjavov omogočajo dvig bremen površina vrvnega bobna je lahko gladka če se vrv navija na boben v več plasteh pogosteje se v praksi uporablja ožlebljen vrvni boben kjer se vrv navija v eni plasti tako je vrv v žlebu bobna vodena in ne drsi po vrvnem bobnu vrvni bobni so lahko liti iz sive litine večji vrvni bobni pa so varjeni iz jeklene pločevine mostni žerjavi v intralogistiki dimenzioniranje vrvnega bobna po standardu en tudi dimenzioniranje vrvnega bobna izvedemo na\\\\\n\t kmetijski problem prilagodljivost pridelovalca na spremembe na trgu cenovna elastičnostponudbe pri rasti in padanju cen pridelka kmetijsko trženje sistem kmetijskega trženja področja in nosilci kmetijskega trženja tržni problem slovenskega kmetijstva tržna napaka četrti del država vloga države pri uravnavanju gospodarstva kratek pregled razvoja poseganja države v tržno gospodarstvo položaj države v gospodarskih in socialnih razmerjih makroekonomski oziroma narodnogospodarski cilji ukrepi države pri uravnavanju gospodarstva javnefinance davčni sistem    & 0 & 0\\_za\\_ki\\_se\\_pri & za - ki - se - pri - ali - lahko - pa - tudi - kot - po & 1.0000000 & FALSE & za, ki, se, pri, ali, lahko, pa, tudi, kot, po & različnih, ki ga, ki jih, ni, zelo, med, ko, drugi, primer, ima & za, ali, lahko, od, med, ni, ko, bo, primer, oziroma & vročinske oblive in vpliv na vaginalno sluznico med kasnimi neželenimi učinki je pomembno povečanje tveganja za rak maternice zaradi delovanja na endometrij večje je tudi tveganje za venske tromboze in razvoj katarakte zdravila iz vrste aromataznih zaviralcev anastrozol letrozol eksemestan nimajo kasnih neželenih učinkov na maternično sluznico tudi tveganje za tromboze je manjše kot pri tamoksifenu pogosto pa povzročajo mišično sklepne bolečine in občutek jutranje okorelosti kar je včasih pri nekaterih bolnicah razlog da opustijo jemanje zdravila sicer aromatazni zaviralci zlasti pri že prisotni osteopeniji povečajo tveganje za osteoporozo in zlome kosti povzročajo tudi prehodno hiperlipidemijo njihov vpliv na kardiovaskularni sistem, pri ponovljenem merjenju ali pa vektorizacija matrike in koeficient korelacije kot mera zanesljivosti po metodi retesta ocenjevanje kakovosti merjenja velikosti lokalnega omrežja ali mer centralnosti odstotek identičnih oseb ali koeficient korelacije med merami centralnosti kot meri stabilnosti po metodi retesta v nadaljevanju je najprej predstavljeno ocenjevanje zanesljivosti merjenja na vektorizirani relacijskimatriki vektorizacija matrike je postopek pri katerem iz matrike dobimo stolpec podatkov ki ga lahko obravnavamo kotstandardno spremenljivko pri vektorizaciji izmatrike naredimo stolpec tako da posamezne stolpce zapisujemo enega za drugim omrežje je tako spremenljivka posamezna vrednostmatrike, vrvni bobni vrvni bobni mostnih žerjavov omogočajo dvig bremen površina vrvnega bobna je lahko gladka če se vrv navija na boben v več plasteh pogosteje se v praksi uporablja ožlebljen vrvni boben kjer se vrv navija v eni plasti tako je vrv v žlebu bobna vodena in ne drsi po vrvnem bobnu vrvni bobni so lahko liti iz sive litine večji vrvni bobni pa so varjeni iz jeklene pločevine mostni žerjavi v intralogistiki dimenzioniranje vrvnega bobna po standardu en tudi dimenzioniranje vrvnega bobna izvedemo na\\\\\n\t davek davčni zavezanec in davčna stopnja vrste davkov davek od kmetijstva davčna politika denar in denarna politika denar trg denarja denarni ali monetarni sistem centralna banka kot denarna ustanova denarna politika poslovna banka kot denarna ustanova zunanjetrgovinska politika mednarodna trgovina izvozna ponudba in uvozno povpraševanje pozitivni učinki zunanje trgovine zunanjetrgovinska politika ukrepi zunanjetrgovinske politike svetovna trgovinska organizacija peti del javno usmerjanje kmetijskega                                                      & 0 & 0\\_za\\_ki\\_se\\_pri & za - ki - se - pri - ali - lahko - pa - tudi - kot - po & 0.6976112 & FALSE & za, ki, se, pri, ali, lahko, pa, tudi, kot, po & različnih, ki ga, ki jih, ni, zelo, med, ko, drugi, primer, ima & za, ali, lahko, od, med, ni, ko, bo, primer, oziroma & vročinske oblive in vpliv na vaginalno sluznico med kasnimi neželenimi učinki je pomembno povečanje tveganja za rak maternice zaradi delovanja na endometrij večje je tudi tveganje za venske tromboze in razvoj katarakte zdravila iz vrste aromataznih zaviralcev anastrozol letrozol eksemestan nimajo kasnih neželenih učinkov na maternično sluznico tudi tveganje za tromboze je manjše kot pri tamoksifenu pogosto pa povzročajo mišično sklepne bolečine in občutek jutranje okorelosti kar je včasih pri nekaterih bolnicah razlog da opustijo jemanje zdravila sicer aromatazni zaviralci zlasti pri že prisotni osteopeniji povečajo tveganje za osteoporozo in zlome kosti povzročajo tudi prehodno hiperlipidemijo njihov vpliv na kardiovaskularni sistem, pri ponovljenem merjenju ali pa vektorizacija matrike in koeficient korelacije kot mera zanesljivosti po metodi retesta ocenjevanje kakovosti merjenja velikosti lokalnega omrežja ali mer centralnosti odstotek identičnih oseb ali koeficient korelacije med merami centralnosti kot meri stabilnosti po metodi retesta v nadaljevanju je najprej predstavljeno ocenjevanje zanesljivosti merjenja na vektorizirani relacijskimatriki vektorizacija matrike je postopek pri katerem iz matrike dobimo stolpec podatkov ki ga lahko obravnavamo kotstandardno spremenljivko pri vektorizaciji izmatrike naredimo stolpec tako da posamezne stolpce zapisujemo enega za drugim omrežje je tako spremenljivka posamezna vrednostmatrike, vrvni bobni vrvni bobni mostnih žerjavov omogočajo dvig bremen površina vrvnega bobna je lahko gladka če se vrv navija na boben v več plasteh pogosteje se v praksi uporablja ožlebljen vrvni boben kjer se vrv navija v eni plasti tako je vrv v žlebu bobna vodena in ne drsi po vrvnem bobnu vrvni bobni so lahko liti iz sive litine večji vrvni bobni pa so varjeni iz jeklene pločevine mostni žerjavi v intralogistiki dimenzioniranje vrvnega bobna po standardu en tudi dimenzioniranje vrvnega bobna izvedemo na\\\\\n\\end{tabular}\n",
            "text/plain": [
              "  Document                                                                                                                                                                                                                                                                                                                                                                                                                                                                                                                                                                      \n",
              "1 univerza v ljubljani biotehniška fakulteta oddelek za agronomijo prof dr katja vadna čl icz o univerza v ljubljani biotehniška fakulteta cip kataložni zapis o publikaciji narodna in univerzitetna knjižnica ljubljana vadnal katja agrarna ekonomika osnove trg država katja vadnal l izd ljubljana biotehniška fakulteta oddelek za agronomijo isbn recenzija prof dr jernej turk kmetijska fakulteta univerza v mariboru doc dr andrej udovč biotehniška fakulteta univerza v ljubljani lektoriranje prof alenka raič blažič oblikovanje franci                           \n",
              "2 kramarič tisk forma vrhpolje mora x v skladu s sklepom senata oddelka za agronomijo z dne se univerzitetni učbenik agrarna ekonomika osnove trg država katerega avtorica je prof dr katja vadnal na biotehniški fakulteti uporablja kot predpisano učno gradivo založba biotehniška fakulteta univerze i naklada izvodov dekan biotehniške fakultete prof dr jože resnik r univerza v ljubljani biotehniška fakulteta oddelek za agronomijo katja vadnal agrarna ekonomika osnove trg država ljubljana vsebina predgovor                                                      \n",
              "3 prvi del razvoj in metoda agrarne ekonomike razvoj agrarne ekonomike kot znanstvene discipline poreklo imena razvoj agrarne ekonomike definicija agrarne ekonomike agrarnoekonomsko raziskovanje drugi del osnove agrarne ekonomike kmetijstvo in podeželje kmetijstvo kajje to podeželje prvine kmetijskega pridelovanja naravni viri delo izdelane prvine pridelovanja proizvodna funkcija biotehiški napredek zakon redkosti redkost prvin pridelovanja in pridelkov krivulja različnih proizvodnih možnosti                                                               \n",
              "4 vrste kmetijskih gospodarstev kmetijsko gospodarstvo kmetijska gospodarska družba zadruga kmetija velikost kmetijskega gospodarstva tretji del kmetijski trg vloga trga pri uravnavanju gospodarstva trg sestava trga ponudba kmetijskega pridelka sprememba obsega ponudbe in sprememba ponudbe kmetijskega pridelka skupna ali agregatna ponudba pridelka povpraševanje po kmetijskem pridelku sprememba obsega povpraševanja in sprememba povpraševanja po kmetijskem pridelku skupno ali agregatno povpraševanje po pridelku tržno ravnotežje sprememba tržnega ravnotežja\n",
              "5 kmetijski problem prilagodljivost pridelovalca na spremembe na trgu cenovna elastičnostponudbe pri rasti in padanju cen pridelka kmetijsko trženje sistem kmetijskega trženja področja in nosilci kmetijskega trženja tržni problem slovenskega kmetijstva tržna napaka četrti del država vloga države pri uravnavanju gospodarstva kratek pregled razvoja poseganja države v tržno gospodarstvo položaj države v gospodarskih in socialnih razmerjih makroekonomski oziroma narodnogospodarski cilji ukrepi države pri uravnavanju gospodarstva javnefinance davčni sistem   \n",
              "6 davek davčni zavezanec in davčna stopnja vrste davkov davek od kmetijstva davčna politika denar in denarna politika denar trg denarja denarni ali monetarni sistem centralna banka kot denarna ustanova denarna politika poslovna banka kot denarna ustanova zunanjetrgovinska politika mednarodna trgovina izvozna ponudba in uvozno povpraševanje pozitivni učinki zunanje trgovine zunanjetrgovinska politika ukrepi zunanjetrgovinske politike svetovna trgovinska organizacija peti del javno usmerjanje kmetijskega                                                     \n",
              "  Topic Name           Top_n_words                                            \n",
              "1 0     0_za_ki_se_pri za - ki - se - pri - ali - lahko - pa - tudi - kot - po\n",
              "2 0     0_za_ki_se_pri za - ki - se - pri - ali - lahko - pa - tudi - kot - po\n",
              "3 0     0_za_ki_se_pri za - ki - se - pri - ali - lahko - pa - tudi - kot - po\n",
              "4 0     0_za_ki_se_pri za - ki - se - pri - ali - lahko - pa - tudi - kot - po\n",
              "5 0     0_za_ki_se_pri za - ki - se - pri - ali - lahko - pa - tudi - kot - po\n",
              "6 0     0_za_ki_se_pri za - ki - se - pri - ali - lahko - pa - tudi - kot - po\n",
              "  Probability Representative_document\n",
              "1 0.7925759   FALSE                  \n",
              "2 0.9435439   FALSE                  \n",
              "3 0.7421702   FALSE                  \n",
              "4 1.0000000   FALSE                  \n",
              "5 1.0000000   FALSE                  \n",
              "6 0.6976112   FALSE                  \n",
              "  Representation                                \n",
              "1 za, ki, se, pri, ali, lahko, pa, tudi, kot, po\n",
              "2 za, ki, se, pri, ali, lahko, pa, tudi, kot, po\n",
              "3 za, ki, se, pri, ali, lahko, pa, tudi, kot, po\n",
              "4 za, ki, se, pri, ali, lahko, pa, tudi, kot, po\n",
              "5 za, ki, se, pri, ali, lahko, pa, tudi, kot, po\n",
              "6 za, ki, se, pri, ali, lahko, pa, tudi, kot, po\n",
              "  KeyBERT                                                        \n",
              "1 različnih, ki ga, ki jih, ni, zelo, med, ko, drugi, primer, ima\n",
              "2 različnih, ki ga, ki jih, ni, zelo, med, ko, drugi, primer, ima\n",
              "3 različnih, ki ga, ki jih, ni, zelo, med, ko, drugi, primer, ima\n",
              "4 različnih, ki ga, ki jih, ni, zelo, med, ko, drugi, primer, ima\n",
              "5 različnih, ki ga, ki jih, ni, zelo, med, ko, drugi, primer, ima\n",
              "6 različnih, ki ga, ki jih, ni, zelo, med, ko, drugi, primer, ima\n",
              "  MMR                                                 \n",
              "1 za, ali, lahko, od, med, ni, ko, bo, primer, oziroma\n",
              "2 za, ali, lahko, od, med, ni, ko, bo, primer, oziroma\n",
              "3 za, ali, lahko, od, med, ni, ko, bo, primer, oziroma\n",
              "4 za, ali, lahko, od, med, ni, ko, bo, primer, oziroma\n",
              "5 za, ali, lahko, od, med, ni, ko, bo, primer, oziroma\n",
              "6 za, ali, lahko, od, med, ni, ko, bo, primer, oziroma\n",
              "  Representative_Docs                                                                                                                                                                                                                                                                                                                                                                                                                                                                                                                                                                                                                                                                                                                                                                                                                                                                                                                                                                                                                                                                                                                                                                                                                                                                                                                                                                                                                                                                                                                                                                                                                                                                                                                                                                                                                                                                                                                                                                                                                        \n",
              "1 vročinske oblive in vpliv na vaginalno sluznico med kasnimi neželenimi učinki je pomembno povečanje tveganja za rak maternice zaradi delovanja na endometrij večje je tudi tveganje za venske tromboze in razvoj katarakte zdravila iz vrste aromataznih zaviralcev anastrozol letrozol eksemestan nimajo kasnih neželenih učinkov na maternično sluznico tudi tveganje za tromboze je manjše kot pri tamoksifenu pogosto pa povzročajo mišično sklepne bolečine in občutek jutranje okorelosti kar je včasih pri nekaterih bolnicah razlog da opustijo jemanje zdravila sicer aromatazni zaviralci zlasti pri že prisotni osteopeniji povečajo tveganje za osteoporozo in zlome kosti povzročajo tudi prehodno hiperlipidemijo njihov vpliv na kardiovaskularni sistem, pri ponovljenem merjenju ali pa vektorizacija matrike in koeficient korelacije kot mera zanesljivosti po metodi retesta ocenjevanje kakovosti merjenja velikosti lokalnega omrežja ali mer centralnosti odstotek identičnih oseb ali koeficient korelacije med merami centralnosti kot meri stabilnosti po metodi retesta v nadaljevanju je najprej predstavljeno ocenjevanje zanesljivosti merjenja na vektorizirani relacijskimatriki vektorizacija matrike je postopek pri katerem iz matrike dobimo stolpec podatkov ki ga lahko obravnavamo kotstandardno spremenljivko pri vektorizaciji izmatrike naredimo stolpec tako da posamezne stolpce zapisujemo enega za drugim omrežje je tako spremenljivka posamezna vrednostmatrike, vrvni bobni vrvni bobni mostnih žerjavov omogočajo dvig bremen površina vrvnega bobna je lahko gladka če se vrv navija na boben v več plasteh pogosteje se v praksi uporablja ožlebljen vrvni boben kjer se vrv navija v eni plasti tako je vrv v žlebu bobna vodena in ne drsi po vrvnem bobnu vrvni bobni so lahko liti iz sive litine večji vrvni bobni pa so varjeni iz jeklene pločevine mostni žerjavi v intralogistiki dimenzioniranje vrvnega bobna po standardu en tudi dimenzioniranje vrvnega bobna izvedemo na\n",
              "2 vročinske oblive in vpliv na vaginalno sluznico med kasnimi neželenimi učinki je pomembno povečanje tveganja za rak maternice zaradi delovanja na endometrij večje je tudi tveganje za venske tromboze in razvoj katarakte zdravila iz vrste aromataznih zaviralcev anastrozol letrozol eksemestan nimajo kasnih neželenih učinkov na maternično sluznico tudi tveganje za tromboze je manjše kot pri tamoksifenu pogosto pa povzročajo mišično sklepne bolečine in občutek jutranje okorelosti kar je včasih pri nekaterih bolnicah razlog da opustijo jemanje zdravila sicer aromatazni zaviralci zlasti pri že prisotni osteopeniji povečajo tveganje za osteoporozo in zlome kosti povzročajo tudi prehodno hiperlipidemijo njihov vpliv na kardiovaskularni sistem, pri ponovljenem merjenju ali pa vektorizacija matrike in koeficient korelacije kot mera zanesljivosti po metodi retesta ocenjevanje kakovosti merjenja velikosti lokalnega omrežja ali mer centralnosti odstotek identičnih oseb ali koeficient korelacije med merami centralnosti kot meri stabilnosti po metodi retesta v nadaljevanju je najprej predstavljeno ocenjevanje zanesljivosti merjenja na vektorizirani relacijskimatriki vektorizacija matrike je postopek pri katerem iz matrike dobimo stolpec podatkov ki ga lahko obravnavamo kotstandardno spremenljivko pri vektorizaciji izmatrike naredimo stolpec tako da posamezne stolpce zapisujemo enega za drugim omrežje je tako spremenljivka posamezna vrednostmatrike, vrvni bobni vrvni bobni mostnih žerjavov omogočajo dvig bremen površina vrvnega bobna je lahko gladka če se vrv navija na boben v več plasteh pogosteje se v praksi uporablja ožlebljen vrvni boben kjer se vrv navija v eni plasti tako je vrv v žlebu bobna vodena in ne drsi po vrvnem bobnu vrvni bobni so lahko liti iz sive litine večji vrvni bobni pa so varjeni iz jeklene pločevine mostni žerjavi v intralogistiki dimenzioniranje vrvnega bobna po standardu en tudi dimenzioniranje vrvnega bobna izvedemo na\n",
              "3 vročinske oblive in vpliv na vaginalno sluznico med kasnimi neželenimi učinki je pomembno povečanje tveganja za rak maternice zaradi delovanja na endometrij večje je tudi tveganje za venske tromboze in razvoj katarakte zdravila iz vrste aromataznih zaviralcev anastrozol letrozol eksemestan nimajo kasnih neželenih učinkov na maternično sluznico tudi tveganje za tromboze je manjše kot pri tamoksifenu pogosto pa povzročajo mišično sklepne bolečine in občutek jutranje okorelosti kar je včasih pri nekaterih bolnicah razlog da opustijo jemanje zdravila sicer aromatazni zaviralci zlasti pri že prisotni osteopeniji povečajo tveganje za osteoporozo in zlome kosti povzročajo tudi prehodno hiperlipidemijo njihov vpliv na kardiovaskularni sistem, pri ponovljenem merjenju ali pa vektorizacija matrike in koeficient korelacije kot mera zanesljivosti po metodi retesta ocenjevanje kakovosti merjenja velikosti lokalnega omrežja ali mer centralnosti odstotek identičnih oseb ali koeficient korelacije med merami centralnosti kot meri stabilnosti po metodi retesta v nadaljevanju je najprej predstavljeno ocenjevanje zanesljivosti merjenja na vektorizirani relacijskimatriki vektorizacija matrike je postopek pri katerem iz matrike dobimo stolpec podatkov ki ga lahko obravnavamo kotstandardno spremenljivko pri vektorizaciji izmatrike naredimo stolpec tako da posamezne stolpce zapisujemo enega za drugim omrežje je tako spremenljivka posamezna vrednostmatrike, vrvni bobni vrvni bobni mostnih žerjavov omogočajo dvig bremen površina vrvnega bobna je lahko gladka če se vrv navija na boben v več plasteh pogosteje se v praksi uporablja ožlebljen vrvni boben kjer se vrv navija v eni plasti tako je vrv v žlebu bobna vodena in ne drsi po vrvnem bobnu vrvni bobni so lahko liti iz sive litine večji vrvni bobni pa so varjeni iz jeklene pločevine mostni žerjavi v intralogistiki dimenzioniranje vrvnega bobna po standardu en tudi dimenzioniranje vrvnega bobna izvedemo na\n",
              "4 vročinske oblive in vpliv na vaginalno sluznico med kasnimi neželenimi učinki je pomembno povečanje tveganja za rak maternice zaradi delovanja na endometrij večje je tudi tveganje za venske tromboze in razvoj katarakte zdravila iz vrste aromataznih zaviralcev anastrozol letrozol eksemestan nimajo kasnih neželenih učinkov na maternično sluznico tudi tveganje za tromboze je manjše kot pri tamoksifenu pogosto pa povzročajo mišično sklepne bolečine in občutek jutranje okorelosti kar je včasih pri nekaterih bolnicah razlog da opustijo jemanje zdravila sicer aromatazni zaviralci zlasti pri že prisotni osteopeniji povečajo tveganje za osteoporozo in zlome kosti povzročajo tudi prehodno hiperlipidemijo njihov vpliv na kardiovaskularni sistem, pri ponovljenem merjenju ali pa vektorizacija matrike in koeficient korelacije kot mera zanesljivosti po metodi retesta ocenjevanje kakovosti merjenja velikosti lokalnega omrežja ali mer centralnosti odstotek identičnih oseb ali koeficient korelacije med merami centralnosti kot meri stabilnosti po metodi retesta v nadaljevanju je najprej predstavljeno ocenjevanje zanesljivosti merjenja na vektorizirani relacijskimatriki vektorizacija matrike je postopek pri katerem iz matrike dobimo stolpec podatkov ki ga lahko obravnavamo kotstandardno spremenljivko pri vektorizaciji izmatrike naredimo stolpec tako da posamezne stolpce zapisujemo enega za drugim omrežje je tako spremenljivka posamezna vrednostmatrike, vrvni bobni vrvni bobni mostnih žerjavov omogočajo dvig bremen površina vrvnega bobna je lahko gladka če se vrv navija na boben v več plasteh pogosteje se v praksi uporablja ožlebljen vrvni boben kjer se vrv navija v eni plasti tako je vrv v žlebu bobna vodena in ne drsi po vrvnem bobnu vrvni bobni so lahko liti iz sive litine večji vrvni bobni pa so varjeni iz jeklene pločevine mostni žerjavi v intralogistiki dimenzioniranje vrvnega bobna po standardu en tudi dimenzioniranje vrvnega bobna izvedemo na\n",
              "5 vročinske oblive in vpliv na vaginalno sluznico med kasnimi neželenimi učinki je pomembno povečanje tveganja za rak maternice zaradi delovanja na endometrij večje je tudi tveganje za venske tromboze in razvoj katarakte zdravila iz vrste aromataznih zaviralcev anastrozol letrozol eksemestan nimajo kasnih neželenih učinkov na maternično sluznico tudi tveganje za tromboze je manjše kot pri tamoksifenu pogosto pa povzročajo mišično sklepne bolečine in občutek jutranje okorelosti kar je včasih pri nekaterih bolnicah razlog da opustijo jemanje zdravila sicer aromatazni zaviralci zlasti pri že prisotni osteopeniji povečajo tveganje za osteoporozo in zlome kosti povzročajo tudi prehodno hiperlipidemijo njihov vpliv na kardiovaskularni sistem, pri ponovljenem merjenju ali pa vektorizacija matrike in koeficient korelacije kot mera zanesljivosti po metodi retesta ocenjevanje kakovosti merjenja velikosti lokalnega omrežja ali mer centralnosti odstotek identičnih oseb ali koeficient korelacije med merami centralnosti kot meri stabilnosti po metodi retesta v nadaljevanju je najprej predstavljeno ocenjevanje zanesljivosti merjenja na vektorizirani relacijskimatriki vektorizacija matrike je postopek pri katerem iz matrike dobimo stolpec podatkov ki ga lahko obravnavamo kotstandardno spremenljivko pri vektorizaciji izmatrike naredimo stolpec tako da posamezne stolpce zapisujemo enega za drugim omrežje je tako spremenljivka posamezna vrednostmatrike, vrvni bobni vrvni bobni mostnih žerjavov omogočajo dvig bremen površina vrvnega bobna je lahko gladka če se vrv navija na boben v več plasteh pogosteje se v praksi uporablja ožlebljen vrvni boben kjer se vrv navija v eni plasti tako je vrv v žlebu bobna vodena in ne drsi po vrvnem bobnu vrvni bobni so lahko liti iz sive litine večji vrvni bobni pa so varjeni iz jeklene pločevine mostni žerjavi v intralogistiki dimenzioniranje vrvnega bobna po standardu en tudi dimenzioniranje vrvnega bobna izvedemo na\n",
              "6 vročinske oblive in vpliv na vaginalno sluznico med kasnimi neželenimi učinki je pomembno povečanje tveganja za rak maternice zaradi delovanja na endometrij večje je tudi tveganje za venske tromboze in razvoj katarakte zdravila iz vrste aromataznih zaviralcev anastrozol letrozol eksemestan nimajo kasnih neželenih učinkov na maternično sluznico tudi tveganje za tromboze je manjše kot pri tamoksifenu pogosto pa povzročajo mišično sklepne bolečine in občutek jutranje okorelosti kar je včasih pri nekaterih bolnicah razlog da opustijo jemanje zdravila sicer aromatazni zaviralci zlasti pri že prisotni osteopeniji povečajo tveganje za osteoporozo in zlome kosti povzročajo tudi prehodno hiperlipidemijo njihov vpliv na kardiovaskularni sistem, pri ponovljenem merjenju ali pa vektorizacija matrike in koeficient korelacije kot mera zanesljivosti po metodi retesta ocenjevanje kakovosti merjenja velikosti lokalnega omrežja ali mer centralnosti odstotek identičnih oseb ali koeficient korelacije med merami centralnosti kot meri stabilnosti po metodi retesta v nadaljevanju je najprej predstavljeno ocenjevanje zanesljivosti merjenja na vektorizirani relacijskimatriki vektorizacija matrike je postopek pri katerem iz matrike dobimo stolpec podatkov ki ga lahko obravnavamo kotstandardno spremenljivko pri vektorizaciji izmatrike naredimo stolpec tako da posamezne stolpce zapisujemo enega za drugim omrežje je tako spremenljivka posamezna vrednostmatrike, vrvni bobni vrvni bobni mostnih žerjavov omogočajo dvig bremen površina vrvnega bobna je lahko gladka če se vrv navija na boben v več plasteh pogosteje se v praksi uporablja ožlebljen vrvni boben kjer se vrv navija v eni plasti tako je vrv v žlebu bobna vodena in ne drsi po vrvnem bobnu vrvni bobni so lahko liti iz sive litine večji vrvni bobni pa so varjeni iz jeklene pločevine mostni žerjavi v intralogistiki dimenzioniranje vrvnega bobna po standardu en tudi dimenzioniranje vrvnega bobna izvedemo na"
            ]
          },
          "metadata": {}
        }
      ]
    },
    {
      "cell_type": "code",
      "source": [
        "# Create a data frame similar to df_docs\n",
        "df_docs <- tibble(Topic = results$Topic,\n",
        "                  Document = results$text_clean,\n",
        "                  probs = results$Probability)\n",
        "rep_docs <- get_most_representative_docs(df = df_docs,\n",
        "                                         topic_nr = 3,\n",
        "                                         n_docs = 5)\n",
        "unique(rep_docs)"
      ],
      "metadata": {
        "colab": {
          "base_uri": "https://localhost:8080/",
          "height": 382
        },
        "id": "lhL8GcWTn2Bm",
        "outputId": "304ae3dc-dcd1-4b8e-99dd-e5aeca0efcd8"
      },
      "execution_count": 24,
      "outputs": [
        {
          "output_type": "display_data",
          "data": {
            "text/html": [
              "<style>\n",
              ".list-inline {list-style: none; margin:0; padding: 0}\n",
              ".list-inline>li {display: inline-block}\n",
              ".list-inline>li:not(:last-child)::after {content: \"\\00b7\"; padding: 0 .5ex}\n",
              "</style>\n",
              "<ol class=list-inline><li>'the financing of terrorism sprejeta z resolucijo generalne skupščine združenih narodov št in odprta za podpis decembra v veljavi od aprila število pogodbenic april daytonski sporazum dayton agreement dogovorjen v daytonu s strani predstavnikov republike bosne in hercegovine republike hrvaške in zvezne republike jugoslavije decembra in podpisan v parizu decembra vstopil v veljavo s podpisom dokument zapišemo v besedilo z naslovom dokumenta in večinoma z letnico njegovega nastanka če je dokument ki'</li><li>'b imata spor glede meje dogovorita se za posredovanje predsednika države c ki naj bi pripeljalo do rešitve najkasneje do konca leta sicer pa bo treba poiskati drug način reševanja spora posredovanje je bilo neuspešno in je bil sestanek na katerem sta bila prisotna zunanja ministra držav a in b ter posebni odposlanec predsednika države c dogovorjeno je bilo da se s posredovanjem vseeno nadaljuje tako da se drugimi načini reševanja spora počaka še do konca leta zapisnik s sestanka so podpisali vsi trije v nasprotju z'</li><li>'i poglavje cilji in načela člen cilji združenih narodov so varovati mednarodni mir in varnost ter v ta namen izvajati učinkovite kolektivne ukrepe da se preprečijo in odvrnejo grožnje miru in da se zatrejo agresivna dejanja ali druge kršitve miru in si prizadevati da se mednarodni spori ali pa situacije ki bi utegnile privesti do kršitve miru zgladijo ali uredijo z mirnimi sredstvi in v skladu z načeli pravičnosti in mednarodnega prava razvijati med narodi prijateljske odnose sloneče na spoštovanju načela enakopravnosti ljudstev in njihove samoodločbe ter izvajati'</li><li>'države ali pa ki bi bila kako drugače nezdružljiva s cilji združenih narodov vsi člani naj v polni meri pomagajo združenim narodom v sleherni akciji ki bi jo ti izvajali v skladu s to ustanovno listino in naj se vzdržujejo dajanja pomoči katerikoli državi proti kateri bi združeni narodi izvajali preventivno ali prisilno akcijo organizacija naj zagotovi da bodo države ki niso članice združenih narodov delale v skladu s temi načeli kolikor bi to bilo potrebno za ohranitev mednarodnega miru in varnosti nobena določba te ustanovne listine ne daje'</li><li>'in jo ratificirajo v skladu s členom člen lahko postanejo članice združenih narodov vse druge miroljubne države ki prevzamejo obveznosti vsebovane v tej ustanovni listini in ki so po presoji organizacije sposobne in voljne spolnjevati te obveznosti vsaka takšna država se sprejme za članico združenih narodov z odločbo generalne skupščine na priporočilo varnostnega sveta člen članu združenih narodov zoper katerega je varnostni svet ukrenil preventivno ali prisilno akcijo sme generalna skupščina na priporočilo varnostnega sveta ustaviti uživanje članskih pravic in privilegijev uživanje teh pravic in privilegijev sme vzpostaviti varnostni svet'</li></ol>\n"
            ],
            "text/markdown": "1. 'the financing of terrorism sprejeta z resolucijo generalne skupščine združenih narodov št in odprta za podpis decembra v veljavi od aprila število pogodbenic april daytonski sporazum dayton agreement dogovorjen v daytonu s strani predstavnikov republike bosne in hercegovine republike hrvaške in zvezne republike jugoslavije decembra in podpisan v parizu decembra vstopil v veljavo s podpisom dokument zapišemo v besedilo z naslovom dokumenta in večinoma z letnico njegovega nastanka če je dokument ki'\n2. 'b imata spor glede meje dogovorita se za posredovanje predsednika države c ki naj bi pripeljalo do rešitve najkasneje do konca leta sicer pa bo treba poiskati drug način reševanja spora posredovanje je bilo neuspešno in je bil sestanek na katerem sta bila prisotna zunanja ministra držav a in b ter posebni odposlanec predsednika države c dogovorjeno je bilo da se s posredovanjem vseeno nadaljuje tako da se drugimi načini reševanja spora počaka še do konca leta zapisnik s sestanka so podpisali vsi trije v nasprotju z'\n3. 'i poglavje cilji in načela člen cilji združenih narodov so varovati mednarodni mir in varnost ter v ta namen izvajati učinkovite kolektivne ukrepe da se preprečijo in odvrnejo grožnje miru in da se zatrejo agresivna dejanja ali druge kršitve miru in si prizadevati da se mednarodni spori ali pa situacije ki bi utegnile privesti do kršitve miru zgladijo ali uredijo z mirnimi sredstvi in v skladu z načeli pravičnosti in mednarodnega prava razvijati med narodi prijateljske odnose sloneče na spoštovanju načela enakopravnosti ljudstev in njihove samoodločbe ter izvajati'\n4. 'države ali pa ki bi bila kako drugače nezdružljiva s cilji združenih narodov vsi člani naj v polni meri pomagajo združenim narodom v sleherni akciji ki bi jo ti izvajali v skladu s to ustanovno listino in naj se vzdržujejo dajanja pomoči katerikoli državi proti kateri bi združeni narodi izvajali preventivno ali prisilno akcijo organizacija naj zagotovi da bodo države ki niso članice združenih narodov delale v skladu s temi načeli kolikor bi to bilo potrebno za ohranitev mednarodnega miru in varnosti nobena določba te ustanovne listine ne daje'\n5. 'in jo ratificirajo v skladu s členom člen lahko postanejo članice združenih narodov vse druge miroljubne države ki prevzamejo obveznosti vsebovane v tej ustanovni listini in ki so po presoji organizacije sposobne in voljne spolnjevati te obveznosti vsaka takšna država se sprejme za članico združenih narodov z odločbo generalne skupščine na priporočilo varnostnega sveta člen članu združenih narodov zoper katerega je varnostni svet ukrenil preventivno ali prisilno akcijo sme generalna skupščina na priporočilo varnostnega sveta ustaviti uživanje članskih pravic in privilegijev uživanje teh pravic in privilegijev sme vzpostaviti varnostni svet'\n\n\n",
            "text/latex": "\\begin{enumerate*}\n\\item 'the financing of terrorism sprejeta z resolucijo generalne skupščine združenih narodov št in odprta za podpis decembra v veljavi od aprila število pogodbenic april daytonski sporazum dayton agreement dogovorjen v daytonu s strani predstavnikov republike bosne in hercegovine republike hrvaške in zvezne republike jugoslavije decembra in podpisan v parizu decembra vstopil v veljavo s podpisom dokument zapišemo v besedilo z naslovom dokumenta in večinoma z letnico njegovega nastanka če je dokument ki'\n\\item 'b imata spor glede meje dogovorita se za posredovanje predsednika države c ki naj bi pripeljalo do rešitve najkasneje do konca leta sicer pa bo treba poiskati drug način reševanja spora posredovanje je bilo neuspešno in je bil sestanek na katerem sta bila prisotna zunanja ministra držav a in b ter posebni odposlanec predsednika države c dogovorjeno je bilo da se s posredovanjem vseeno nadaljuje tako da se drugimi načini reševanja spora počaka še do konca leta zapisnik s sestanka so podpisali vsi trije v nasprotju z'\n\\item 'i poglavje cilji in načela člen cilji združenih narodov so varovati mednarodni mir in varnost ter v ta namen izvajati učinkovite kolektivne ukrepe da se preprečijo in odvrnejo grožnje miru in da se zatrejo agresivna dejanja ali druge kršitve miru in si prizadevati da se mednarodni spori ali pa situacije ki bi utegnile privesti do kršitve miru zgladijo ali uredijo z mirnimi sredstvi in v skladu z načeli pravičnosti in mednarodnega prava razvijati med narodi prijateljske odnose sloneče na spoštovanju načela enakopravnosti ljudstev in njihove samoodločbe ter izvajati'\n\\item 'države ali pa ki bi bila kako drugače nezdružljiva s cilji združenih narodov vsi člani naj v polni meri pomagajo združenim narodom v sleherni akciji ki bi jo ti izvajali v skladu s to ustanovno listino in naj se vzdržujejo dajanja pomoči katerikoli državi proti kateri bi združeni narodi izvajali preventivno ali prisilno akcijo organizacija naj zagotovi da bodo države ki niso članice združenih narodov delale v skladu s temi načeli kolikor bi to bilo potrebno za ohranitev mednarodnega miru in varnosti nobena določba te ustanovne listine ne daje'\n\\item 'in jo ratificirajo v skladu s členom člen lahko postanejo članice združenih narodov vse druge miroljubne države ki prevzamejo obveznosti vsebovane v tej ustanovni listini in ki so po presoji organizacije sposobne in voljne spolnjevati te obveznosti vsaka takšna država se sprejme za članico združenih narodov z odločbo generalne skupščine na priporočilo varnostnega sveta člen članu združenih narodov zoper katerega je varnostni svet ukrenil preventivno ali prisilno akcijo sme generalna skupščina na priporočilo varnostnega sveta ustaviti uživanje članskih pravic in privilegijev uživanje teh pravic in privilegijev sme vzpostaviti varnostni svet'\n\\end{enumerate*}\n",
            "text/plain": [
              "[1] \"the financing of terrorism sprejeta z resolucijo generalne skupščine združenih narodov št in odprta za podpis decembra v veljavi od aprila število pogodbenic april daytonski sporazum dayton agreement dogovorjen v daytonu s strani predstavnikov republike bosne in hercegovine republike hrvaške in zvezne republike jugoslavije decembra in podpisan v parizu decembra vstopil v veljavo s podpisom dokument zapišemo v besedilo z naslovom dokumenta in večinoma z letnico njegovega nastanka če je dokument ki\"                                                                                                                                                  \n",
              "[2] \"b imata spor glede meje dogovorita se za posredovanje predsednika države c ki naj bi pripeljalo do rešitve najkasneje do konca leta sicer pa bo treba poiskati drug način reševanja spora posredovanje je bilo neuspešno in je bil sestanek na katerem sta bila prisotna zunanja ministra držav a in b ter posebni odposlanec predsednika države c dogovorjeno je bilo da se s posredovanjem vseeno nadaljuje tako da se drugimi načini reševanja spora počaka še do konca leta zapisnik s sestanka so podpisali vsi trije v nasprotju z\"                                                                                                                               \n",
              "[3] \"i poglavje cilji in načela člen cilji združenih narodov so varovati mednarodni mir in varnost ter v ta namen izvajati učinkovite kolektivne ukrepe da se preprečijo in odvrnejo grožnje miru in da se zatrejo agresivna dejanja ali druge kršitve miru in si prizadevati da se mednarodni spori ali pa situacije ki bi utegnile privesti do kršitve miru zgladijo ali uredijo z mirnimi sredstvi in v skladu z načeli pravičnosti in mednarodnega prava razvijati med narodi prijateljske odnose sloneče na spoštovanju načela enakopravnosti ljudstev in njihove samoodločbe ter izvajati\"                                                                             \n",
              "[4] \"države ali pa ki bi bila kako drugače nezdružljiva s cilji združenih narodov vsi člani naj v polni meri pomagajo združenim narodom v sleherni akciji ki bi jo ti izvajali v skladu s to ustanovno listino in naj se vzdržujejo dajanja pomoči katerikoli državi proti kateri bi združeni narodi izvajali preventivno ali prisilno akcijo organizacija naj zagotovi da bodo države ki niso članice združenih narodov delale v skladu s temi načeli kolikor bi to bilo potrebno za ohranitev mednarodnega miru in varnosti nobena določba te ustanovne listine ne daje\"                                                                                                   \n",
              "[5] \"in jo ratificirajo v skladu s členom člen lahko postanejo članice združenih narodov vse druge miroljubne države ki prevzamejo obveznosti vsebovane v tej ustanovni listini in ki so po presoji organizacije sposobne in voljne spolnjevati te obveznosti vsaka takšna država se sprejme za članico združenih narodov z odločbo generalne skupščine na priporočilo varnostnega sveta člen članu združenih narodov zoper katerega je varnostni svet ukrenil preventivno ali prisilno akcijo sme generalna skupščina na priporočilo varnostnega sveta ustaviti uživanje članskih pravic in privilegijev uživanje teh pravic in privilegijev sme vzpostaviti varnostni svet\""
            ]
          },
          "metadata": {}
        }
      ]
    },
    {
      "cell_type": "markdown",
      "source": [
        "## Informacije o temah (topics)"
      ],
      "metadata": {
        "id": "MS4AqOdzNkIK"
      }
    },
    {
      "cell_type": "code",
      "source": [
        "topic_info_df <- get_topic_info_df(model = topic_model,\n",
        "                                   drop_expanded_columns = TRUE)\n",
        "head(topic_info_df)"
      ],
      "metadata": {
        "colab": {
          "base_uri": "https://localhost:8080/",
          "height": 1000
        },
        "id": "A4iycheZn34N",
        "outputId": "1c3baf1d-d23a-4364-ff3b-a13843b2857f"
      },
      "execution_count": 25,
      "outputs": [
        {
          "output_type": "display_data",
          "data": {
            "text/html": [
              "<table class=\"dataframe\">\n",
              "<caption>A tibble: 5 × 7</caption>\n",
              "<thead>\n",
              "\t<tr><th scope=col>Topic</th><th scope=col>Count</th><th scope=col>Name</th><th scope=col>Representation</th><th scope=col>KeyBERT</th><th scope=col>MMR</th><th scope=col>Representative_Docs</th></tr>\n",
              "\t<tr><th scope=col>&lt;dbl&gt;</th><th scope=col>&lt;dbl&gt;</th><th scope=col>&lt;chr&gt;</th><th scope=col>&lt;chr&gt;</th><th scope=col>&lt;chr&gt;</th><th scope=col>&lt;chr&gt;</th><th scope=col>&lt;chr&gt;</th></tr>\n",
              "</thead>\n",
              "<tbody>\n",
              "\t<tr><td>-1</td><td>   33</td><td>-1_matematik_const robtarget target__robtarget target__target_ const robtarget</td><td>matematik, const robtarget target_, robtarget target_, target_ const robtarget, robtarget target_ const, target_ const, const robtarget, robtarget, target_, const</td><td>target_ const robtarget, target_ const, robtarget target_ const, const robtarget target_, robtarget target_, target_, verjetnostni, analitične, eliptičnih, geometrija                                         </td><td>const robtarget target_, robtarget target_, robtarget target_ const, francoski, verjetnostni račun, teorija števil, verjetnostni, astronom, algebra, švicarski matematik</td><td>e const robtarget target_ e const robtarget target_ e const robtarget target_ e const robtarget target_, const robtarget target_ e const robtarget target_ e const robtarget target_ e const robtarget target_, e const robtarget target_ e const robtarget target_ e const robtarget target_ e const robtarget target_                                                                                                                                                                                                                                                                                                                                                                                                                                                                                                                                                                                                                                                                                                                                                                                                                                                                                                                                                                                                                                                                                                                                                                                                                                                                                                                                                                                                                                                                                                                                                                                                                                                                                                                    </td></tr>\n",
              "\t<tr><td> 0</td><td>76238</td><td>0_za_ki_se_pri                                                                </td><td>za, ki, se, pri, ali, lahko, pa, tudi, kot, po                                                                                                                    </td><td>različnih, ki ga, ki jih, ni, zelo, med, ko, drugi, primer, ima                                                                                                                                                </td><td>za, ali, lahko, od, med, ni, ko, bo, primer, oziroma                                                                                                                    </td><td>vročinske oblive in vpliv na vaginalno sluznico med kasnimi neželenimi učinki je pomembno povečanje tveganja za rak maternice zaradi delovanja na endometrij večje je tudi tveganje za venske tromboze in razvoj katarakte zdravila iz vrste aromataznih zaviralcev anastrozol letrozol eksemestan nimajo kasnih neželenih učinkov na maternično sluznico tudi tveganje za tromboze je manjše kot pri tamoksifenu pogosto pa povzročajo mišično sklepne bolečine in občutek jutranje okorelosti kar je včasih pri nekaterih bolnicah razlog da opustijo jemanje zdravila sicer aromatazni zaviralci zlasti pri že prisotni osteopeniji povečajo tveganje za osteoporozo in zlome kosti povzročajo tudi prehodno hiperlipidemijo njihov vpliv na kardiovaskularni sistem, pri ponovljenem merjenju ali pa vektorizacija matrike in koeficient korelacije kot mera zanesljivosti po metodi retesta ocenjevanje kakovosti merjenja velikosti lokalnega omrežja ali mer centralnosti odstotek identičnih oseb ali koeficient korelacije med merami centralnosti kot meri stabilnosti po metodi retesta v nadaljevanju je najprej predstavljeno ocenjevanje zanesljivosti merjenja na vektorizirani relacijskimatriki vektorizacija matrike je postopek pri katerem iz matrike dobimo stolpec podatkov ki ga lahko obravnavamo kotstandardno spremenljivko pri vektorizaciji izmatrike naredimo stolpec tako da posamezne stolpce zapisujemo enega za drugim omrežje je tako spremenljivka posamezna vrednostmatrike, vrvni bobni vrvni bobni mostnih žerjavov omogočajo dvig bremen površina vrvnega bobna je lahko gladka če se vrv navija na boben v več plasteh pogosteje se v praksi uporablja ožlebljen vrvni boben kjer se vrv navija v eni plasti tako je vrv v žlebu bobna vodena in ne drsi po vrvnem bobnu vrvni bobni so lahko liti iz sive litine večji vrvni bobni pa so varjeni iz jeklene pločevine mostni žerjavi v intralogistiki dimenzioniranje vrvnega bobna po standardu en tudi dimenzioniranje vrvnega bobna izvedemo na</td></tr>\n",
              "\t<tr><td> 1</td><td>  194</td><td>1_dediščine_dediščino_varstva_za                                              </td><td>dediščine, dediščino, varstva, za, ki, kulturne, kulturne dediščine, ali, tudi, del                                                                               </td><td>spomenikov, konservatorskega načrta, arheološka, arheoloških, kulturne dediščine, arheološke, varstva dediščine, najdišča, kulturne, arheološke raziskave                                                      </td><td>dediščino, kulturne, kulturne dediščine, zvkd, arheološke, dediščina, ohranjanje, kulturno, ohranjanja, kulturno dediščino                                              </td><td>enoto dediščine iz registra v kratkem bo sistem evrd nadgrajen v sistem varstvenih območij dediščine kot ga predpisuje člen zvkd na podlagi meril kot so skupen zgodovinski kontekst nepremične dediščine sorodne morfološke značilnosti in vrednote dediščine v prostoru in topografske enovitosti bodo s podzakonskimi akti določena varstvena območja in pripadajoče varstvene usmeritve na podlagi podzakonskih aktov o varstvenih območjih dediščine bodo opredeljene usmeritve izhodišča in pogoji za varstvo in ohranitev dediščine v prostorskih aktih in člen zvkd gradiva za smernice in mnenja v postopkih priprave prostorskih aktov, urejajo področje celostnega ohranjanja c vsebina in obseg celostnega ohranjanja glede področij in zvrsti dediščine d celostno ohranjanje v evropskih državah e drugi mednarodni pravni akti ki urejajo področje varstva f vsebina in obseg varstva del proces varstva in konservatorski postopki a naloge javne službe varstva arheološke in druge nepremične dediščine pridobivanje informacij identificiranje registriranje dokumentiranje dediščine preučevanje vrednotenje in interpretiranje dediščine predlogi za razglasitev nepremičnih spomenikov programski dokumenti varstva analiziranje in vrednotenje dediščine v prostoru, zagotavljanju informacijske podpore varstvu v tujini se v sorodnem pomenu uporablja tudi pojem industrijska arheologija del proces varstva in konservatorski postopki a naloge javne službe varstva arheološke in druge nepremične dediščine poudariti je treba da je javna služba za varstvo kulturne dediščine ki je na podlagi zakona o varstvu kulturne dediščine zaupana zavodu za varstvo kulturne dediščine slovenije namenjena varstvu nepremične in z njo povezane premične in žive dediščine dediščino na določenem kraju je treba varovati kot celoto zato je krati treba upoštevati in varovati vse njene vidike tudi tiste                                                                                                        </td></tr>\n",
              "\t<tr><td> 2</td><td>  101</td><td>2_športnikov_kariere_dvojne kariere_dvojne                                    </td><td>športnikov, kariere, dvojne kariere, dvojne, kariere športnikov, dvojne kariere športnikov, športne, kariero, področju, za                                        </td><td>kariere športnikov nacionalni, športnikov nacionalni model, športniki, športnikov, športnike, športni, športnika, športa, športnih, športnikov nacionalni                                                      </td><td>športnikov, dvojne kariere, kariere športnikov, dvojne kariere športnikov, športnih, športnike, športa, vrhunskih, international airport, športnikom                    </td><td>in dodatna znanja ki jih športnik lahko pridobi skozi proces dvojne kariere omogočajo športniku konkretne rešitve ki rešujejo to problematiko in pomagajo športniku k lažji vključitvi na trg dela obenem pa športnik ni postavljen pred odločitev o nadaljevanju in obsegu njegove športne kariere predlagan nacionalni model dvojne kariere športnikov je grafično prikazan kot shema programov in časovnica aktivnosti po kadrovski management v sodobni organizaciji p robnik m ferjan e jereb implementacija smernic in priporočil dvojne kariere športnikov v nacionalni model v sloveniji posameznih fazah športnikove kariere ki vrhunskega športnika pripelje, da naj podpira raziskave mednarodne razsežnosti programov dvojne kariere zlasti glede učinkov prehodov na življenje športnikov skrbi za razvoj mladih športnikov v športih z zgodnjo specializacijo učinkovitosti ukrepov in podpornih storitev v državah članicah in ponovnega vstopa športnikov na trg dela trenutno se v sloveniji izvajajo trije evropski projekti na področju dvojne kariere športnikov in sicer athletes learning enterpreneurship e gold in education and elite sport e in dc ac e smernice pa nalagajo evropski komisiji tudi spremljanje ključnih sprememb na področju zagotavljanja dvojne kariere športnikov na, nacionalni in evropski ravni ter da po štirih letih oceni izvajanje teh smernic na podlagi v naprej določenih kazalnikov kritična analiza predstavlja izhodišča za nadaljnje delo na področju dvojne kariere športnikov na nacionalnem nivoju glavno vodilo je sledenje smernicam evropske unije na področju zagotavljanja pogojev dvojne kariere športnikov doprinos teh smernic je predlog enotnega evropskega delovnega okvirja za programe dvojne kariere športnikov kadrovski management v sodobni organizaciji p robnik m ferjan e jereb implementacija smernic in priporočil dvojne kariere športnikov v nacionalni model v sloveniji in podporne rešitve na nacionalni ravni iz                                </td></tr>\n",
              "\t<tr><td> 3</td><td>   76</td><td>3_združenih narodov_narodov_združenih_člen                                    </td><td>združenih narodov, narodov, združenih, člen, varnostni svet, varnostni, svet, ali, se, ki                                                                         </td><td>varnostnemu svetu, članica združenih narodov, varnostnega sveta, člani združenih narodov, članov združenih narodov, združenih narodov člen, združenih narodov, varnostni svet, narodov ki, združenih narodov ki</td><td>združenih narodov, narodov, varnostni svet, sveta, miru, mednarodnega, mednarodnega miru, mednarodnega miru varnosti, varnostnemu, varnostnemu svetu                    </td><td>presoji najbolj olajšali njegovo delo člen varnostni svet sme ustanoviti pomožne organe ki se mu zdijo potrebni za opravljanje njegovih nalog člen varnostni svet si določa lastni poslovnik in v njem tudi način kako si izvoli predsednika člen vsak član združenih narodov ki ni član varnostnega sveta se sme brez pravice glasovanja udeležiti razpravljanja o vsakem vprašanju predloženem varnostnemu svetu kadarkoli slednji meni da so interesi tega člana posebno prizadeti ustanovna listina združenih narodov člen če je katerakoli članica združenih narodov ki ni članica varnostnega sveta, in jo ratificirajo v skladu s členom člen lahko postanejo članice združenih narodov vse druge miroljubne države ki prevzamejo obveznosti vsebovane v tej ustanovni listini in ki so po presoji organizacije sposobne in voljne spolnjevati te obveznosti vsaka takšna država se sprejme za članico združenih narodov z odločbo generalne skupščine na priporočilo varnostnega sveta člen članu združenih narodov zoper katerega je varnostni svet ukrenil preventivno ali prisilno akcijo sme generalna skupščina na priporočilo varnostnega sveta ustaviti uživanje članskih pravic in privilegijev uživanje teh pravic in privilegijev sme vzpostaviti varnostni svet, glede vseh takih vprašanj ali zadev dajati priporočila članom združenih narodov ali varnostnemu svetu ali pa obojim člen generalna skupščina sme preučevati splošna načela sodelovanja za ohranitev mednarodnega miru in varnosti med drugim tudi načela ki se nanašajo na razorožitev in na reguliranje oboroževanja in sme glede takih načel dajati priporočila članom združenih narodov ali varnostnemu svetu ali pa obojim generalna skupščina sme razpravljati o vseh vprašanjih ki se nanašajo na ohranitev mednarodnega miru in varnosti in ki jih postavi pred njo katerakoli članica združenih narodov ali varnostni svet ali pa v skladu                                                                                                     </td></tr>\n",
              "</tbody>\n",
              "</table>\n"
            ],
            "text/markdown": "\nA tibble: 5 × 7\n\n| Topic &lt;dbl&gt; | Count &lt;dbl&gt; | Name &lt;chr&gt; | Representation &lt;chr&gt; | KeyBERT &lt;chr&gt; | MMR &lt;chr&gt; | Representative_Docs &lt;chr&gt; |\n|---|---|---|---|---|---|---|\n| -1 |    33 | -1_matematik_const robtarget target__robtarget target__target_ const robtarget | matematik, const robtarget target_, robtarget target_, target_ const robtarget, robtarget target_ const, target_ const, const robtarget, robtarget, target_, const | target_ const robtarget, target_ const, robtarget target_ const, const robtarget target_, robtarget target_, target_, verjetnostni, analitične, eliptičnih, geometrija                                          | const robtarget target_, robtarget target_, robtarget target_ const, francoski, verjetnostni račun, teorija števil, verjetnostni, astronom, algebra, švicarski matematik | e const robtarget target_ e const robtarget target_ e const robtarget target_ e const robtarget target_, const robtarget target_ e const robtarget target_ e const robtarget target_ e const robtarget target_, e const robtarget target_ e const robtarget target_ e const robtarget target_ e const robtarget target_                                                                                                                                                                                                                                                                                                                                                                                                                                                                                                                                                                                                                                                                                                                                                                                                                                                                                                                                                                                                                                                                                                                                                                                                                                                                                                                                                                                                                                                                                                                                                                                                                                                                                                                     |\n|  0 | 76238 | 0_za_ki_se_pri                                                                 | za, ki, se, pri, ali, lahko, pa, tudi, kot, po                                                                                                                     | različnih, ki ga, ki jih, ni, zelo, med, ko, drugi, primer, ima                                                                                                                                                 | za, ali, lahko, od, med, ni, ko, bo, primer, oziroma                                                                                                                     | vročinske oblive in vpliv na vaginalno sluznico med kasnimi neželenimi učinki je pomembno povečanje tveganja za rak maternice zaradi delovanja na endometrij večje je tudi tveganje za venske tromboze in razvoj katarakte zdravila iz vrste aromataznih zaviralcev anastrozol letrozol eksemestan nimajo kasnih neželenih učinkov na maternično sluznico tudi tveganje za tromboze je manjše kot pri tamoksifenu pogosto pa povzročajo mišično sklepne bolečine in občutek jutranje okorelosti kar je včasih pri nekaterih bolnicah razlog da opustijo jemanje zdravila sicer aromatazni zaviralci zlasti pri že prisotni osteopeniji povečajo tveganje za osteoporozo in zlome kosti povzročajo tudi prehodno hiperlipidemijo njihov vpliv na kardiovaskularni sistem, pri ponovljenem merjenju ali pa vektorizacija matrike in koeficient korelacije kot mera zanesljivosti po metodi retesta ocenjevanje kakovosti merjenja velikosti lokalnega omrežja ali mer centralnosti odstotek identičnih oseb ali koeficient korelacije med merami centralnosti kot meri stabilnosti po metodi retesta v nadaljevanju je najprej predstavljeno ocenjevanje zanesljivosti merjenja na vektorizirani relacijskimatriki vektorizacija matrike je postopek pri katerem iz matrike dobimo stolpec podatkov ki ga lahko obravnavamo kotstandardno spremenljivko pri vektorizaciji izmatrike naredimo stolpec tako da posamezne stolpce zapisujemo enega za drugim omrežje je tako spremenljivka posamezna vrednostmatrike, vrvni bobni vrvni bobni mostnih žerjavov omogočajo dvig bremen površina vrvnega bobna je lahko gladka če se vrv navija na boben v več plasteh pogosteje se v praksi uporablja ožlebljen vrvni boben kjer se vrv navija v eni plasti tako je vrv v žlebu bobna vodena in ne drsi po vrvnem bobnu vrvni bobni so lahko liti iz sive litine večji vrvni bobni pa so varjeni iz jeklene pločevine mostni žerjavi v intralogistiki dimenzioniranje vrvnega bobna po standardu en tudi dimenzioniranje vrvnega bobna izvedemo na |\n|  1 |   194 | 1_dediščine_dediščino_varstva_za                                               | dediščine, dediščino, varstva, za, ki, kulturne, kulturne dediščine, ali, tudi, del                                                                                | spomenikov, konservatorskega načrta, arheološka, arheoloških, kulturne dediščine, arheološke, varstva dediščine, najdišča, kulturne, arheološke raziskave                                                       | dediščino, kulturne, kulturne dediščine, zvkd, arheološke, dediščina, ohranjanje, kulturno, ohranjanja, kulturno dediščino                                               | enoto dediščine iz registra v kratkem bo sistem evrd nadgrajen v sistem varstvenih območij dediščine kot ga predpisuje člen zvkd na podlagi meril kot so skupen zgodovinski kontekst nepremične dediščine sorodne morfološke značilnosti in vrednote dediščine v prostoru in topografske enovitosti bodo s podzakonskimi akti določena varstvena območja in pripadajoče varstvene usmeritve na podlagi podzakonskih aktov o varstvenih območjih dediščine bodo opredeljene usmeritve izhodišča in pogoji za varstvo in ohranitev dediščine v prostorskih aktih in člen zvkd gradiva za smernice in mnenja v postopkih priprave prostorskih aktov, urejajo področje celostnega ohranjanja c vsebina in obseg celostnega ohranjanja glede področij in zvrsti dediščine d celostno ohranjanje v evropskih državah e drugi mednarodni pravni akti ki urejajo področje varstva f vsebina in obseg varstva del proces varstva in konservatorski postopki a naloge javne službe varstva arheološke in druge nepremične dediščine pridobivanje informacij identificiranje registriranje dokumentiranje dediščine preučevanje vrednotenje in interpretiranje dediščine predlogi za razglasitev nepremičnih spomenikov programski dokumenti varstva analiziranje in vrednotenje dediščine v prostoru, zagotavljanju informacijske podpore varstvu v tujini se v sorodnem pomenu uporablja tudi pojem industrijska arheologija del proces varstva in konservatorski postopki a naloge javne službe varstva arheološke in druge nepremične dediščine poudariti je treba da je javna služba za varstvo kulturne dediščine ki je na podlagi zakona o varstvu kulturne dediščine zaupana zavodu za varstvo kulturne dediščine slovenije namenjena varstvu nepremične in z njo povezane premične in žive dediščine dediščino na določenem kraju je treba varovati kot celoto zato je krati treba upoštevati in varovati vse njene vidike tudi tiste                                                                                                         |\n|  2 |   101 | 2_športnikov_kariere_dvojne kariere_dvojne                                     | športnikov, kariere, dvojne kariere, dvojne, kariere športnikov, dvojne kariere športnikov, športne, kariero, področju, za                                         | kariere športnikov nacionalni, športnikov nacionalni model, športniki, športnikov, športnike, športni, športnika, športa, športnih, športnikov nacionalni                                                       | športnikov, dvojne kariere, kariere športnikov, dvojne kariere športnikov, športnih, športnike, športa, vrhunskih, international airport, športnikom                     | in dodatna znanja ki jih športnik lahko pridobi skozi proces dvojne kariere omogočajo športniku konkretne rešitve ki rešujejo to problematiko in pomagajo športniku k lažji vključitvi na trg dela obenem pa športnik ni postavljen pred odločitev o nadaljevanju in obsegu njegove športne kariere predlagan nacionalni model dvojne kariere športnikov je grafično prikazan kot shema programov in časovnica aktivnosti po kadrovski management v sodobni organizaciji p robnik m ferjan e jereb implementacija smernic in priporočil dvojne kariere športnikov v nacionalni model v sloveniji posameznih fazah športnikove kariere ki vrhunskega športnika pripelje, da naj podpira raziskave mednarodne razsežnosti programov dvojne kariere zlasti glede učinkov prehodov na življenje športnikov skrbi za razvoj mladih športnikov v športih z zgodnjo specializacijo učinkovitosti ukrepov in podpornih storitev v državah članicah in ponovnega vstopa športnikov na trg dela trenutno se v sloveniji izvajajo trije evropski projekti na področju dvojne kariere športnikov in sicer athletes learning enterpreneurship e gold in education and elite sport e in dc ac e smernice pa nalagajo evropski komisiji tudi spremljanje ključnih sprememb na področju zagotavljanja dvojne kariere športnikov na, nacionalni in evropski ravni ter da po štirih letih oceni izvajanje teh smernic na podlagi v naprej določenih kazalnikov kritična analiza predstavlja izhodišča za nadaljnje delo na področju dvojne kariere športnikov na nacionalnem nivoju glavno vodilo je sledenje smernicam evropske unije na področju zagotavljanja pogojev dvojne kariere športnikov doprinos teh smernic je predlog enotnega evropskega delovnega okvirja za programe dvojne kariere športnikov kadrovski management v sodobni organizaciji p robnik m ferjan e jereb implementacija smernic in priporočil dvojne kariere športnikov v nacionalni model v sloveniji in podporne rešitve na nacionalni ravni iz                                 |\n|  3 |    76 | 3_združenih narodov_narodov_združenih_člen                                     | združenih narodov, narodov, združenih, člen, varnostni svet, varnostni, svet, ali, se, ki                                                                          | varnostnemu svetu, članica združenih narodov, varnostnega sveta, člani združenih narodov, članov združenih narodov, združenih narodov člen, združenih narodov, varnostni svet, narodov ki, združenih narodov ki | združenih narodov, narodov, varnostni svet, sveta, miru, mednarodnega, mednarodnega miru, mednarodnega miru varnosti, varnostnemu, varnostnemu svetu                     | presoji najbolj olajšali njegovo delo člen varnostni svet sme ustanoviti pomožne organe ki se mu zdijo potrebni za opravljanje njegovih nalog člen varnostni svet si določa lastni poslovnik in v njem tudi način kako si izvoli predsednika člen vsak član združenih narodov ki ni član varnostnega sveta se sme brez pravice glasovanja udeležiti razpravljanja o vsakem vprašanju predloženem varnostnemu svetu kadarkoli slednji meni da so interesi tega člana posebno prizadeti ustanovna listina združenih narodov člen če je katerakoli članica združenih narodov ki ni članica varnostnega sveta, in jo ratificirajo v skladu s členom člen lahko postanejo članice združenih narodov vse druge miroljubne države ki prevzamejo obveznosti vsebovane v tej ustanovni listini in ki so po presoji organizacije sposobne in voljne spolnjevati te obveznosti vsaka takšna država se sprejme za članico združenih narodov z odločbo generalne skupščine na priporočilo varnostnega sveta člen članu združenih narodov zoper katerega je varnostni svet ukrenil preventivno ali prisilno akcijo sme generalna skupščina na priporočilo varnostnega sveta ustaviti uživanje članskih pravic in privilegijev uživanje teh pravic in privilegijev sme vzpostaviti varnostni svet, glede vseh takih vprašanj ali zadev dajati priporočila članom združenih narodov ali varnostnemu svetu ali pa obojim člen generalna skupščina sme preučevati splošna načela sodelovanja za ohranitev mednarodnega miru in varnosti med drugim tudi načela ki se nanašajo na razorožitev in na reguliranje oboroževanja in sme glede takih načel dajati priporočila članom združenih narodov ali varnostnemu svetu ali pa obojim generalna skupščina sme razpravljati o vseh vprašanjih ki se nanašajo na ohranitev mednarodnega miru in varnosti in ki jih postavi pred njo katerakoli članica združenih narodov ali varnostni svet ali pa v skladu                                                                                                      |\n\n",
            "text/latex": "A tibble: 5 × 7\n\\begin{tabular}{lllllll}\n Topic & Count & Name & Representation & KeyBERT & MMR & Representative\\_Docs\\\\\n <dbl> & <dbl> & <chr> & <chr> & <chr> & <chr> & <chr>\\\\\n\\hline\n\t -1 &    33 & -1\\_matematik\\_const robtarget target\\_\\_robtarget target\\_\\_target\\_ const robtarget & matematik, const robtarget target\\_, robtarget target\\_, target\\_ const robtarget, robtarget target\\_ const, target\\_ const, const robtarget, robtarget, target\\_, const & target\\_ const robtarget, target\\_ const, robtarget target\\_ const, const robtarget target\\_, robtarget target\\_, target\\_, verjetnostni, analitične, eliptičnih, geometrija                                          & const robtarget target\\_, robtarget target\\_, robtarget target\\_ const, francoski, verjetnostni račun, teorija števil, verjetnostni, astronom, algebra, švicarski matematik & e const robtarget target\\_ e const robtarget target\\_ e const robtarget target\\_ e const robtarget target\\_, const robtarget target\\_ e const robtarget target\\_ e const robtarget target\\_ e const robtarget target\\_, e const robtarget target\\_ e const robtarget target\\_ e const robtarget target\\_ e const robtarget target\\_                                                                                                                                                                                                                                                                                                                                                                                                                                                                                                                                                                                                                                                                                                                                                                                                                                                                                                                                                                                                                                                                                                                                                                                                                                                                                                                                                                                                                                                                                                                                                                                                                                                                                                                    \\\\\n\t  0 & 76238 & 0\\_za\\_ki\\_se\\_pri                                                                 & za, ki, se, pri, ali, lahko, pa, tudi, kot, po                                                                                                                     & različnih, ki ga, ki jih, ni, zelo, med, ko, drugi, primer, ima                                                                                                                                                 & za, ali, lahko, od, med, ni, ko, bo, primer, oziroma                                                                                                                     & vročinske oblive in vpliv na vaginalno sluznico med kasnimi neželenimi učinki je pomembno povečanje tveganja za rak maternice zaradi delovanja na endometrij večje je tudi tveganje za venske tromboze in razvoj katarakte zdravila iz vrste aromataznih zaviralcev anastrozol letrozol eksemestan nimajo kasnih neželenih učinkov na maternično sluznico tudi tveganje za tromboze je manjše kot pri tamoksifenu pogosto pa povzročajo mišično sklepne bolečine in občutek jutranje okorelosti kar je včasih pri nekaterih bolnicah razlog da opustijo jemanje zdravila sicer aromatazni zaviralci zlasti pri že prisotni osteopeniji povečajo tveganje za osteoporozo in zlome kosti povzročajo tudi prehodno hiperlipidemijo njihov vpliv na kardiovaskularni sistem, pri ponovljenem merjenju ali pa vektorizacija matrike in koeficient korelacije kot mera zanesljivosti po metodi retesta ocenjevanje kakovosti merjenja velikosti lokalnega omrežja ali mer centralnosti odstotek identičnih oseb ali koeficient korelacije med merami centralnosti kot meri stabilnosti po metodi retesta v nadaljevanju je najprej predstavljeno ocenjevanje zanesljivosti merjenja na vektorizirani relacijskimatriki vektorizacija matrike je postopek pri katerem iz matrike dobimo stolpec podatkov ki ga lahko obravnavamo kotstandardno spremenljivko pri vektorizaciji izmatrike naredimo stolpec tako da posamezne stolpce zapisujemo enega za drugim omrežje je tako spremenljivka posamezna vrednostmatrike, vrvni bobni vrvni bobni mostnih žerjavov omogočajo dvig bremen površina vrvnega bobna je lahko gladka če se vrv navija na boben v več plasteh pogosteje se v praksi uporablja ožlebljen vrvni boben kjer se vrv navija v eni plasti tako je vrv v žlebu bobna vodena in ne drsi po vrvnem bobnu vrvni bobni so lahko liti iz sive litine večji vrvni bobni pa so varjeni iz jeklene pločevine mostni žerjavi v intralogistiki dimenzioniranje vrvnega bobna po standardu en tudi dimenzioniranje vrvnega bobna izvedemo na\\\\\n\t  1 &   194 & 1\\_dediščine\\_dediščino\\_varstva\\_za                                               & dediščine, dediščino, varstva, za, ki, kulturne, kulturne dediščine, ali, tudi, del                                                                                & spomenikov, konservatorskega načrta, arheološka, arheoloških, kulturne dediščine, arheološke, varstva dediščine, najdišča, kulturne, arheološke raziskave                                                       & dediščino, kulturne, kulturne dediščine, zvkd, arheološke, dediščina, ohranjanje, kulturno, ohranjanja, kulturno dediščino                                               & enoto dediščine iz registra v kratkem bo sistem evrd nadgrajen v sistem varstvenih območij dediščine kot ga predpisuje člen zvkd na podlagi meril kot so skupen zgodovinski kontekst nepremične dediščine sorodne morfološke značilnosti in vrednote dediščine v prostoru in topografske enovitosti bodo s podzakonskimi akti določena varstvena območja in pripadajoče varstvene usmeritve na podlagi podzakonskih aktov o varstvenih območjih dediščine bodo opredeljene usmeritve izhodišča in pogoji za varstvo in ohranitev dediščine v prostorskih aktih in člen zvkd gradiva za smernice in mnenja v postopkih priprave prostorskih aktov, urejajo področje celostnega ohranjanja c vsebina in obseg celostnega ohranjanja glede področij in zvrsti dediščine d celostno ohranjanje v evropskih državah e drugi mednarodni pravni akti ki urejajo področje varstva f vsebina in obseg varstva del proces varstva in konservatorski postopki a naloge javne službe varstva arheološke in druge nepremične dediščine pridobivanje informacij identificiranje registriranje dokumentiranje dediščine preučevanje vrednotenje in interpretiranje dediščine predlogi za razglasitev nepremičnih spomenikov programski dokumenti varstva analiziranje in vrednotenje dediščine v prostoru, zagotavljanju informacijske podpore varstvu v tujini se v sorodnem pomenu uporablja tudi pojem industrijska arheologija del proces varstva in konservatorski postopki a naloge javne službe varstva arheološke in druge nepremične dediščine poudariti je treba da je javna služba za varstvo kulturne dediščine ki je na podlagi zakona o varstvu kulturne dediščine zaupana zavodu za varstvo kulturne dediščine slovenije namenjena varstvu nepremične in z njo povezane premične in žive dediščine dediščino na določenem kraju je treba varovati kot celoto zato je krati treba upoštevati in varovati vse njene vidike tudi tiste                                                                                                        \\\\\n\t  2 &   101 & 2\\_športnikov\\_kariere\\_dvojne kariere\\_dvojne                                     & športnikov, kariere, dvojne kariere, dvojne, kariere športnikov, dvojne kariere športnikov, športne, kariero, področju, za                                         & kariere športnikov nacionalni, športnikov nacionalni model, športniki, športnikov, športnike, športni, športnika, športa, športnih, športnikov nacionalni                                                       & športnikov, dvojne kariere, kariere športnikov, dvojne kariere športnikov, športnih, športnike, športa, vrhunskih, international airport, športnikom                     & in dodatna znanja ki jih športnik lahko pridobi skozi proces dvojne kariere omogočajo športniku konkretne rešitve ki rešujejo to problematiko in pomagajo športniku k lažji vključitvi na trg dela obenem pa športnik ni postavljen pred odločitev o nadaljevanju in obsegu njegove športne kariere predlagan nacionalni model dvojne kariere športnikov je grafično prikazan kot shema programov in časovnica aktivnosti po kadrovski management v sodobni organizaciji p robnik m ferjan e jereb implementacija smernic in priporočil dvojne kariere športnikov v nacionalni model v sloveniji posameznih fazah športnikove kariere ki vrhunskega športnika pripelje, da naj podpira raziskave mednarodne razsežnosti programov dvojne kariere zlasti glede učinkov prehodov na življenje športnikov skrbi za razvoj mladih športnikov v športih z zgodnjo specializacijo učinkovitosti ukrepov in podpornih storitev v državah članicah in ponovnega vstopa športnikov na trg dela trenutno se v sloveniji izvajajo trije evropski projekti na področju dvojne kariere športnikov in sicer athletes learning enterpreneurship e gold in education and elite sport e in dc ac e smernice pa nalagajo evropski komisiji tudi spremljanje ključnih sprememb na področju zagotavljanja dvojne kariere športnikov na, nacionalni in evropski ravni ter da po štirih letih oceni izvajanje teh smernic na podlagi v naprej določenih kazalnikov kritična analiza predstavlja izhodišča za nadaljnje delo na področju dvojne kariere športnikov na nacionalnem nivoju glavno vodilo je sledenje smernicam evropske unije na področju zagotavljanja pogojev dvojne kariere športnikov doprinos teh smernic je predlog enotnega evropskega delovnega okvirja za programe dvojne kariere športnikov kadrovski management v sodobni organizaciji p robnik m ferjan e jereb implementacija smernic in priporočil dvojne kariere športnikov v nacionalni model v sloveniji in podporne rešitve na nacionalni ravni iz                                \\\\\n\t  3 &    76 & 3\\_združenih narodov\\_narodov\\_združenih\\_člen                                     & združenih narodov, narodov, združenih, člen, varnostni svet, varnostni, svet, ali, se, ki                                                                          & varnostnemu svetu, članica združenih narodov, varnostnega sveta, člani združenih narodov, članov združenih narodov, združenih narodov člen, združenih narodov, varnostni svet, narodov ki, združenih narodov ki & združenih narodov, narodov, varnostni svet, sveta, miru, mednarodnega, mednarodnega miru, mednarodnega miru varnosti, varnostnemu, varnostnemu svetu                     & presoji najbolj olajšali njegovo delo člen varnostni svet sme ustanoviti pomožne organe ki se mu zdijo potrebni za opravljanje njegovih nalog člen varnostni svet si določa lastni poslovnik in v njem tudi način kako si izvoli predsednika člen vsak član združenih narodov ki ni član varnostnega sveta se sme brez pravice glasovanja udeležiti razpravljanja o vsakem vprašanju predloženem varnostnemu svetu kadarkoli slednji meni da so interesi tega člana posebno prizadeti ustanovna listina združenih narodov člen če je katerakoli članica združenih narodov ki ni članica varnostnega sveta, in jo ratificirajo v skladu s členom člen lahko postanejo članice združenih narodov vse druge miroljubne države ki prevzamejo obveznosti vsebovane v tej ustanovni listini in ki so po presoji organizacije sposobne in voljne spolnjevati te obveznosti vsaka takšna država se sprejme za članico združenih narodov z odločbo generalne skupščine na priporočilo varnostnega sveta člen članu združenih narodov zoper katerega je varnostni svet ukrenil preventivno ali prisilno akcijo sme generalna skupščina na priporočilo varnostnega sveta ustaviti uživanje članskih pravic in privilegijev uživanje teh pravic in privilegijev sme vzpostaviti varnostni svet, glede vseh takih vprašanj ali zadev dajati priporočila članom združenih narodov ali varnostnemu svetu ali pa obojim člen generalna skupščina sme preučevati splošna načela sodelovanja za ohranitev mednarodnega miru in varnosti med drugim tudi načela ki se nanašajo na razorožitev in na reguliranje oboroževanja in sme glede takih načel dajati priporočila članom združenih narodov ali varnostnemu svetu ali pa obojim generalna skupščina sme razpravljati o vseh vprašanjih ki se nanašajo na ohranitev mednarodnega miru in varnosti in ki jih postavi pred njo katerakoli članica združenih narodov ali varnostni svet ali pa v skladu                                                                                                     \\\\\n\\end{tabular}\n",
            "text/plain": [
              "  Topic Count\n",
              "1 -1       33\n",
              "2  0    76238\n",
              "3  1      194\n",
              "4  2      101\n",
              "5  3       76\n",
              "  Name                                                                          \n",
              "1 -1_matematik_const robtarget target__robtarget target__target_ const robtarget\n",
              "2 0_za_ki_se_pri                                                                \n",
              "3 1_dediščine_dediščino_varstva_za                                              \n",
              "4 2_športnikov_kariere_dvojne kariere_dvojne                                    \n",
              "5 3_združenih narodov_narodov_združenih_člen                                    \n",
              "  Representation                                                                                                                                                    \n",
              "1 matematik, const robtarget target_, robtarget target_, target_ const robtarget, robtarget target_ const, target_ const, const robtarget, robtarget, target_, const\n",
              "2 za, ki, se, pri, ali, lahko, pa, tudi, kot, po                                                                                                                    \n",
              "3 dediščine, dediščino, varstva, za, ki, kulturne, kulturne dediščine, ali, tudi, del                                                                               \n",
              "4 športnikov, kariere, dvojne kariere, dvojne, kariere športnikov, dvojne kariere športnikov, športne, kariero, področju, za                                        \n",
              "5 združenih narodov, narodov, združenih, člen, varnostni svet, varnostni, svet, ali, se, ki                                                                         \n",
              "  KeyBERT                                                                                                                                                                                                        \n",
              "1 target_ const robtarget, target_ const, robtarget target_ const, const robtarget target_, robtarget target_, target_, verjetnostni, analitične, eliptičnih, geometrija                                         \n",
              "2 različnih, ki ga, ki jih, ni, zelo, med, ko, drugi, primer, ima                                                                                                                                                \n",
              "3 spomenikov, konservatorskega načrta, arheološka, arheoloških, kulturne dediščine, arheološke, varstva dediščine, najdišča, kulturne, arheološke raziskave                                                      \n",
              "4 kariere športnikov nacionalni, športnikov nacionalni model, športniki, športnikov, športnike, športni, športnika, športa, športnih, športnikov nacionalni                                                      \n",
              "5 varnostnemu svetu, članica združenih narodov, varnostnega sveta, člani združenih narodov, članov združenih narodov, združenih narodov člen, združenih narodov, varnostni svet, narodov ki, združenih narodov ki\n",
              "  MMR                                                                                                                                                                     \n",
              "1 const robtarget target_, robtarget target_, robtarget target_ const, francoski, verjetnostni račun, teorija števil, verjetnostni, astronom, algebra, švicarski matematik\n",
              "2 za, ali, lahko, od, med, ni, ko, bo, primer, oziroma                                                                                                                    \n",
              "3 dediščino, kulturne, kulturne dediščine, zvkd, arheološke, dediščina, ohranjanje, kulturno, ohranjanja, kulturno dediščino                                              \n",
              "4 športnikov, dvojne kariere, kariere športnikov, dvojne kariere športnikov, športnih, športnike, športa, vrhunskih, international airport, športnikom                    \n",
              "5 združenih narodov, narodov, varnostni svet, sveta, miru, mednarodnega, mednarodnega miru, mednarodnega miru varnosti, varnostnemu, varnostnemu svetu                    \n",
              "  Representative_Docs                                                                                                                                                                                                                                                                                                                                                                                                                                                                                                                                                                                                                                                                                                                                                                                                                                                                                                                                                                                                                                                                                                                                                                                                                                                                                                                                                                                                                                                                                                                                                                                                                                                                                                                                                                                                                                                                                                                                                                                                                        \n",
              "1 e const robtarget target_ e const robtarget target_ e const robtarget target_ e const robtarget target_, const robtarget target_ e const robtarget target_ e const robtarget target_ e const robtarget target_, e const robtarget target_ e const robtarget target_ e const robtarget target_ e const robtarget target_                                                                                                                                                                                                                                                                                                                                                                                                                                                                                                                                                                                                                                                                                                                                                                                                                                                                                                                                                                                                                                                                                                                                                                                                                                                                                                                                                                                                                                                                                                                                                                                                                                                                                                                    \n",
              "2 vročinske oblive in vpliv na vaginalno sluznico med kasnimi neželenimi učinki je pomembno povečanje tveganja za rak maternice zaradi delovanja na endometrij večje je tudi tveganje za venske tromboze in razvoj katarakte zdravila iz vrste aromataznih zaviralcev anastrozol letrozol eksemestan nimajo kasnih neželenih učinkov na maternično sluznico tudi tveganje za tromboze je manjše kot pri tamoksifenu pogosto pa povzročajo mišično sklepne bolečine in občutek jutranje okorelosti kar je včasih pri nekaterih bolnicah razlog da opustijo jemanje zdravila sicer aromatazni zaviralci zlasti pri že prisotni osteopeniji povečajo tveganje za osteoporozo in zlome kosti povzročajo tudi prehodno hiperlipidemijo njihov vpliv na kardiovaskularni sistem, pri ponovljenem merjenju ali pa vektorizacija matrike in koeficient korelacije kot mera zanesljivosti po metodi retesta ocenjevanje kakovosti merjenja velikosti lokalnega omrežja ali mer centralnosti odstotek identičnih oseb ali koeficient korelacije med merami centralnosti kot meri stabilnosti po metodi retesta v nadaljevanju je najprej predstavljeno ocenjevanje zanesljivosti merjenja na vektorizirani relacijskimatriki vektorizacija matrike je postopek pri katerem iz matrike dobimo stolpec podatkov ki ga lahko obravnavamo kotstandardno spremenljivko pri vektorizaciji izmatrike naredimo stolpec tako da posamezne stolpce zapisujemo enega za drugim omrežje je tako spremenljivka posamezna vrednostmatrike, vrvni bobni vrvni bobni mostnih žerjavov omogočajo dvig bremen površina vrvnega bobna je lahko gladka če se vrv navija na boben v več plasteh pogosteje se v praksi uporablja ožlebljen vrvni boben kjer se vrv navija v eni plasti tako je vrv v žlebu bobna vodena in ne drsi po vrvnem bobnu vrvni bobni so lahko liti iz sive litine večji vrvni bobni pa so varjeni iz jeklene pločevine mostni žerjavi v intralogistiki dimenzioniranje vrvnega bobna po standardu en tudi dimenzioniranje vrvnega bobna izvedemo na\n",
              "3 enoto dediščine iz registra v kratkem bo sistem evrd nadgrajen v sistem varstvenih območij dediščine kot ga predpisuje člen zvkd na podlagi meril kot so skupen zgodovinski kontekst nepremične dediščine sorodne morfološke značilnosti in vrednote dediščine v prostoru in topografske enovitosti bodo s podzakonskimi akti določena varstvena območja in pripadajoče varstvene usmeritve na podlagi podzakonskih aktov o varstvenih območjih dediščine bodo opredeljene usmeritve izhodišča in pogoji za varstvo in ohranitev dediščine v prostorskih aktih in člen zvkd gradiva za smernice in mnenja v postopkih priprave prostorskih aktov, urejajo področje celostnega ohranjanja c vsebina in obseg celostnega ohranjanja glede področij in zvrsti dediščine d celostno ohranjanje v evropskih državah e drugi mednarodni pravni akti ki urejajo področje varstva f vsebina in obseg varstva del proces varstva in konservatorski postopki a naloge javne službe varstva arheološke in druge nepremične dediščine pridobivanje informacij identificiranje registriranje dokumentiranje dediščine preučevanje vrednotenje in interpretiranje dediščine predlogi za razglasitev nepremičnih spomenikov programski dokumenti varstva analiziranje in vrednotenje dediščine v prostoru, zagotavljanju informacijske podpore varstvu v tujini se v sorodnem pomenu uporablja tudi pojem industrijska arheologija del proces varstva in konservatorski postopki a naloge javne službe varstva arheološke in druge nepremične dediščine poudariti je treba da je javna služba za varstvo kulturne dediščine ki je na podlagi zakona o varstvu kulturne dediščine zaupana zavodu za varstvo kulturne dediščine slovenije namenjena varstvu nepremične in z njo povezane premične in žive dediščine dediščino na določenem kraju je treba varovati kot celoto zato je krati treba upoštevati in varovati vse njene vidike tudi tiste                                                                                                        \n",
              "4 in dodatna znanja ki jih športnik lahko pridobi skozi proces dvojne kariere omogočajo športniku konkretne rešitve ki rešujejo to problematiko in pomagajo športniku k lažji vključitvi na trg dela obenem pa športnik ni postavljen pred odločitev o nadaljevanju in obsegu njegove športne kariere predlagan nacionalni model dvojne kariere športnikov je grafično prikazan kot shema programov in časovnica aktivnosti po kadrovski management v sodobni organizaciji p robnik m ferjan e jereb implementacija smernic in priporočil dvojne kariere športnikov v nacionalni model v sloveniji posameznih fazah športnikove kariere ki vrhunskega športnika pripelje, da naj podpira raziskave mednarodne razsežnosti programov dvojne kariere zlasti glede učinkov prehodov na življenje športnikov skrbi za razvoj mladih športnikov v športih z zgodnjo specializacijo učinkovitosti ukrepov in podpornih storitev v državah članicah in ponovnega vstopa športnikov na trg dela trenutno se v sloveniji izvajajo trije evropski projekti na področju dvojne kariere športnikov in sicer athletes learning enterpreneurship e gold in education and elite sport e in dc ac e smernice pa nalagajo evropski komisiji tudi spremljanje ključnih sprememb na področju zagotavljanja dvojne kariere športnikov na, nacionalni in evropski ravni ter da po štirih letih oceni izvajanje teh smernic na podlagi v naprej določenih kazalnikov kritična analiza predstavlja izhodišča za nadaljnje delo na področju dvojne kariere športnikov na nacionalnem nivoju glavno vodilo je sledenje smernicam evropske unije na področju zagotavljanja pogojev dvojne kariere športnikov doprinos teh smernic je predlog enotnega evropskega delovnega okvirja za programe dvojne kariere športnikov kadrovski management v sodobni organizaciji p robnik m ferjan e jereb implementacija smernic in priporočil dvojne kariere športnikov v nacionalni model v sloveniji in podporne rešitve na nacionalni ravni iz                                \n",
              "5 presoji najbolj olajšali njegovo delo člen varnostni svet sme ustanoviti pomožne organe ki se mu zdijo potrebni za opravljanje njegovih nalog člen varnostni svet si določa lastni poslovnik in v njem tudi način kako si izvoli predsednika člen vsak član združenih narodov ki ni član varnostnega sveta se sme brez pravice glasovanja udeležiti razpravljanja o vsakem vprašanju predloženem varnostnemu svetu kadarkoli slednji meni da so interesi tega člana posebno prizadeti ustanovna listina združenih narodov člen če je katerakoli članica združenih narodov ki ni članica varnostnega sveta, in jo ratificirajo v skladu s členom člen lahko postanejo članice združenih narodov vse druge miroljubne države ki prevzamejo obveznosti vsebovane v tej ustanovni listini in ki so po presoji organizacije sposobne in voljne spolnjevati te obveznosti vsaka takšna država se sprejme za članico združenih narodov z odločbo generalne skupščine na priporočilo varnostnega sveta člen članu združenih narodov zoper katerega je varnostni svet ukrenil preventivno ali prisilno akcijo sme generalna skupščina na priporočilo varnostnega sveta ustaviti uživanje članskih pravic in privilegijev uživanje teh pravic in privilegijev sme vzpostaviti varnostni svet, glede vseh takih vprašanj ali zadev dajati priporočila članom združenih narodov ali varnostnemu svetu ali pa obojim člen generalna skupščina sme preučevati splošna načela sodelovanja za ohranitev mednarodnega miru in varnosti med drugim tudi načela ki se nanašajo na razorožitev in na reguliranje oboroževanja in sme glede takih načel dajati priporočila članom združenih narodov ali varnostnemu svetu ali pa obojim generalna skupščina sme razpravljati o vseh vprašanjih ki se nanašajo na ohranitev mednarodnega miru in varnosti in ki jih postavi pred njo katerakoli članica združenih narodov ali varnostni svet ali pa v skladu                                                                                                     "
            ]
          },
          "metadata": {}
        }
      ]
    },
    {
      "cell_type": "code",
      "source": [
        "topics_df <- get_topics_df(model = topic_model)\n",
        "head(topics_df, 10)"
      ],
      "metadata": {
        "colab": {
          "base_uri": "https://localhost:8080/",
          "height": 411
        },
        "id": "e5_hsDohoLQ2",
        "outputId": "09e9e4b9-d064-4391-de50-f92eb1d6500c"
      },
      "execution_count": 26,
      "outputs": [
        {
          "output_type": "display_data",
          "data": {
            "text/html": [
              "<table class=\"dataframe\">\n",
              "<caption>A tibble: 10 × 3</caption>\n",
              "<thead>\n",
              "\t<tr><th scope=col>Word</th><th scope=col>Score</th><th scope=col>Topic</th></tr>\n",
              "\t<tr><th scope=col>&lt;chr&gt;</th><th scope=col>&lt;dbl&gt;</th><th scope=col>&lt;dbl&gt;</th></tr>\n",
              "</thead>\n",
              "<tbody>\n",
              "\t<tr><td>matematik              </td><td>0.2347178</td><td>-1</td></tr>\n",
              "\t<tr><td>const robtarget target_</td><td>0.1890793</td><td>-1</td></tr>\n",
              "\t<tr><td>robtarget target_      </td><td>0.1890793</td><td>-1</td></tr>\n",
              "\t<tr><td>target_ const robtarget</td><td>0.1861988</td><td>-1</td></tr>\n",
              "\t<tr><td>robtarget target_ const</td><td>0.1861988</td><td>-1</td></tr>\n",
              "\t<tr><td>target_ const          </td><td>0.1861988</td><td>-1</td></tr>\n",
              "\t<tr><td>const robtarget        </td><td>0.1798023</td><td>-1</td></tr>\n",
              "\t<tr><td>robtarget              </td><td>0.1747537</td><td>-1</td></tr>\n",
              "\t<tr><td>target_                </td><td>0.1740939</td><td>-1</td></tr>\n",
              "\t<tr><td>const                  </td><td>0.1668821</td><td>-1</td></tr>\n",
              "</tbody>\n",
              "</table>\n"
            ],
            "text/markdown": "\nA tibble: 10 × 3\n\n| Word &lt;chr&gt; | Score &lt;dbl&gt; | Topic &lt;dbl&gt; |\n|---|---|---|\n| matematik               | 0.2347178 | -1 |\n| const robtarget target_ | 0.1890793 | -1 |\n| robtarget target_       | 0.1890793 | -1 |\n| target_ const robtarget | 0.1861988 | -1 |\n| robtarget target_ const | 0.1861988 | -1 |\n| target_ const           | 0.1861988 | -1 |\n| const robtarget         | 0.1798023 | -1 |\n| robtarget               | 0.1747537 | -1 |\n| target_                 | 0.1740939 | -1 |\n| const                   | 0.1668821 | -1 |\n\n",
            "text/latex": "A tibble: 10 × 3\n\\begin{tabular}{lll}\n Word & Score & Topic\\\\\n <chr> & <dbl> & <dbl>\\\\\n\\hline\n\t matematik               & 0.2347178 & -1\\\\\n\t const robtarget target\\_ & 0.1890793 & -1\\\\\n\t robtarget target\\_       & 0.1890793 & -1\\\\\n\t target\\_ const robtarget & 0.1861988 & -1\\\\\n\t robtarget target\\_ const & 0.1861988 & -1\\\\\n\t target\\_ const           & 0.1861988 & -1\\\\\n\t const robtarget         & 0.1798023 & -1\\\\\n\t robtarget               & 0.1747537 & -1\\\\\n\t target\\_                 & 0.1740939 & -1\\\\\n\t const                   & 0.1668821 & -1\\\\\n\\end{tabular}\n",
            "text/plain": [
              "   Word                    Score     Topic\n",
              "1  matematik               0.2347178 -1   \n",
              "2  const robtarget target_ 0.1890793 -1   \n",
              "3  robtarget target_       0.1890793 -1   \n",
              "4  target_ const robtarget 0.1861988 -1   \n",
              "5  robtarget target_ const 0.1861988 -1   \n",
              "6  target_ const           0.1861988 -1   \n",
              "7  const robtarget         0.1798023 -1   \n",
              "8  robtarget               0.1747537 -1   \n",
              "9  target_                 0.1740939 -1   \n",
              "10 const                   0.1668821 -1   "
            ]
          },
          "metadata": {}
        }
      ]
    },
    {
      "cell_type": "markdown",
      "source": [
        "## Interaktivni stolpčni diagram"
      ],
      "metadata": {
        "id": "Vfu6Yey7NruC"
      }
    },
    {
      "cell_type": "code",
      "source": [
        "visualize_barchart(model = topic_model,\n",
        "                   filename = \"topics_topwords_interactive_barchart.html\", # default\n",
        "                   open_file = FALSE) # TRUE enables output in browser"
      ],
      "metadata": {
        "id": "1Ok6NBrioMhX"
      },
      "execution_count": 27,
      "outputs": []
    },
    {
      "cell_type": "markdown",
      "source": [
        "## Iskanje teme (topics)"
      ],
      "metadata": {
        "id": "JoFwWeCfNyN0"
      }
    },
    {
      "cell_type": "code",
      "source": [
        "find_topics_df(model = topic_model,\n",
        "               queries = \"podnebne spremembe\", # user input\n",
        "               top_n = 10, # default\n",
        "               return_tibble = TRUE) # default"
      ],
      "metadata": {
        "colab": {
          "base_uri": "https://localhost:8080/",
          "height": 255
        },
        "id": "OBnkxY0zoMi2",
        "outputId": "ff1c9c48-6465-49b7-ac7d-475070cd50f2"
      },
      "execution_count": 28,
      "outputs": [
        {
          "output_type": "display_data",
          "data": {
            "text/html": [
              "<table class=\"dataframe\">\n",
              "<caption>A tibble: 5 × 3</caption>\n",
              "<thead>\n",
              "\t<tr><th scope=col>keyword</th><th scope=col>topics</th><th scope=col>similarity</th></tr>\n",
              "\t<tr><th scope=col>&lt;chr&gt;</th><th scope=col>&lt;int&gt;</th><th scope=col>&lt;dbl&gt;</th></tr>\n",
              "</thead>\n",
              "<tbody>\n",
              "\t<tr><td>podnebne spremembe</td><td> 1</td><td> 0.4470647</td></tr>\n",
              "\t<tr><td>podnebne spremembe</td><td> 3</td><td> 0.3507194</td></tr>\n",
              "\t<tr><td>podnebne spremembe</td><td> 0</td><td> 0.3044683</td></tr>\n",
              "\t<tr><td>podnebne spremembe</td><td>-1</td><td> 0.3020374</td></tr>\n",
              "\t<tr><td>podnebne spremembe</td><td> 2</td><td>-0.1023505</td></tr>\n",
              "</tbody>\n",
              "</table>\n"
            ],
            "text/markdown": "\nA tibble: 5 × 3\n\n| keyword &lt;chr&gt; | topics &lt;int&gt; | similarity &lt;dbl&gt; |\n|---|---|---|\n| podnebne spremembe |  1 |  0.4470647 |\n| podnebne spremembe |  3 |  0.3507194 |\n| podnebne spremembe |  0 |  0.3044683 |\n| podnebne spremembe | -1 |  0.3020374 |\n| podnebne spremembe |  2 | -0.1023505 |\n\n",
            "text/latex": "A tibble: 5 × 3\n\\begin{tabular}{lll}\n keyword & topics & similarity\\\\\n <chr> & <int> & <dbl>\\\\\n\\hline\n\t podnebne spremembe &  1 &  0.4470647\\\\\n\t podnebne spremembe &  3 &  0.3507194\\\\\n\t podnebne spremembe &  0 &  0.3044683\\\\\n\t podnebne spremembe & -1 &  0.3020374\\\\\n\t podnebne spremembe &  2 & -0.1023505\\\\\n\\end{tabular}\n",
            "text/plain": [
              "  keyword            topics similarity\n",
              "1 podnebne spremembe  1      0.4470647\n",
              "2 podnebne spremembe  3      0.3507194\n",
              "3 podnebne spremembe  0      0.3044683\n",
              "4 podnebne spremembe -1      0.3020374\n",
              "5 podnebne spremembe  2     -0.1023505"
            ]
          },
          "metadata": {}
        }
      ]
    },
    {
      "cell_type": "code",
      "source": [
        "find_topics_df(model = topic_model,\n",
        "                               queries = c(\"podnebne spremembe\", \"trajnostni razvoj\"),\n",
        "                               top_n = 5)"
      ],
      "metadata": {
        "colab": {
          "base_uri": "https://localhost:8080/",
          "height": 411
        },
        "id": "8baxZQLhoZaQ",
        "outputId": "2ef20139-8880-476e-955e-7bb9015bd3b2"
      },
      "execution_count": 29,
      "outputs": [
        {
          "output_type": "display_data",
          "data": {
            "text/html": [
              "<table class=\"dataframe\">\n",
              "<caption>A tibble: 10 × 3</caption>\n",
              "<thead>\n",
              "\t<tr><th scope=col>keyword</th><th scope=col>topics</th><th scope=col>similarity</th></tr>\n",
              "\t<tr><th scope=col>&lt;chr&gt;</th><th scope=col>&lt;int&gt;</th><th scope=col>&lt;dbl&gt;</th></tr>\n",
              "</thead>\n",
              "<tbody>\n",
              "\t<tr><td>podnebne spremembe</td><td> 1</td><td> 0.44706467</td></tr>\n",
              "\t<tr><td>podnebne spremembe</td><td> 3</td><td> 0.35071943</td></tr>\n",
              "\t<tr><td>podnebne spremembe</td><td> 0</td><td> 0.30446834</td></tr>\n",
              "\t<tr><td>podnebne spremembe</td><td>-1</td><td> 0.30203738</td></tr>\n",
              "\t<tr><td>podnebne spremembe</td><td> 2</td><td>-0.10235054</td></tr>\n",
              "\t<tr><td>trajnostni razvoj </td><td> 1</td><td> 0.47454733</td></tr>\n",
              "\t<tr><td>trajnostni razvoj </td><td> 3</td><td> 0.40161397</td></tr>\n",
              "\t<tr><td>trajnostni razvoj </td><td>-1</td><td> 0.37443237</td></tr>\n",
              "\t<tr><td>trajnostni razvoj </td><td> 0</td><td> 0.34853539</td></tr>\n",
              "\t<tr><td>trajnostni razvoj </td><td> 2</td><td>-0.05465637</td></tr>\n",
              "</tbody>\n",
              "</table>\n"
            ],
            "text/markdown": "\nA tibble: 10 × 3\n\n| keyword &lt;chr&gt; | topics &lt;int&gt; | similarity &lt;dbl&gt; |\n|---|---|---|\n| podnebne spremembe |  1 |  0.44706467 |\n| podnebne spremembe |  3 |  0.35071943 |\n| podnebne spremembe |  0 |  0.30446834 |\n| podnebne spremembe | -1 |  0.30203738 |\n| podnebne spremembe |  2 | -0.10235054 |\n| trajnostni razvoj  |  1 |  0.47454733 |\n| trajnostni razvoj  |  3 |  0.40161397 |\n| trajnostni razvoj  | -1 |  0.37443237 |\n| trajnostni razvoj  |  0 |  0.34853539 |\n| trajnostni razvoj  |  2 | -0.05465637 |\n\n",
            "text/latex": "A tibble: 10 × 3\n\\begin{tabular}{lll}\n keyword & topics & similarity\\\\\n <chr> & <int> & <dbl>\\\\\n\\hline\n\t podnebne spremembe &  1 &  0.44706467\\\\\n\t podnebne spremembe &  3 &  0.35071943\\\\\n\t podnebne spremembe &  0 &  0.30446834\\\\\n\t podnebne spremembe & -1 &  0.30203738\\\\\n\t podnebne spremembe &  2 & -0.10235054\\\\\n\t trajnostni razvoj  &  1 &  0.47454733\\\\\n\t trajnostni razvoj  &  3 &  0.40161397\\\\\n\t trajnostni razvoj  & -1 &  0.37443237\\\\\n\t trajnostni razvoj  &  0 &  0.34853539\\\\\n\t trajnostni razvoj  &  2 & -0.05465637\\\\\n\\end{tabular}\n",
            "text/plain": [
              "   keyword            topics similarity \n",
              "1  podnebne spremembe  1      0.44706467\n",
              "2  podnebne spremembe  3      0.35071943\n",
              "3  podnebne spremembe  0      0.30446834\n",
              "4  podnebne spremembe -1      0.30203738\n",
              "5  podnebne spremembe  2     -0.10235054\n",
              "6  trajnostni razvoj   1      0.47454733\n",
              "7  trajnostni razvoj   3      0.40161397\n",
              "8  trajnostni razvoj  -1      0.37443237\n",
              "9  trajnostni razvoj   0      0.34853539\n",
              "10 trajnostni razvoj   2     -0.05465637"
            ]
          },
          "metadata": {}
        }
      ]
    },
    {
      "cell_type": "markdown",
      "source": [
        "## Pridobivanje ključnih besed za temo (topic)"
      ],
      "metadata": {
        "id": "x4HvxB82OEEv"
      }
    },
    {
      "cell_type": "code",
      "source": [
        "get_topic_df(model = topic_model,\n",
        "                           topic_number = 0,\n",
        "                           top_n = 5, # default is 10\n",
        "                           return_tibble = TRUE) # default"
      ],
      "metadata": {
        "colab": {
          "base_uri": "https://localhost:8080/",
          "height": 255
        },
        "id": "9KwGvO8OodRd",
        "outputId": "ca40c54b-b117-49aa-eeda-23144a00761e"
      },
      "execution_count": 30,
      "outputs": [
        {
          "output_type": "display_data",
          "data": {
            "text/html": [
              "<table class=\"dataframe\">\n",
              "<caption>A tibble: 5 × 3</caption>\n",
              "<thead>\n",
              "\t<tr><th scope=col>Word</th><th scope=col>Score</th><th scope=col>Topic</th></tr>\n",
              "\t<tr><th scope=col>&lt;chr&gt;</th><th scope=col>&lt;dbl&gt;</th><th scope=col>&lt;int&gt;</th></tr>\n",
              "</thead>\n",
              "<tbody>\n",
              "\t<tr><td>za </td><td>0.05889539</td><td>0</td></tr>\n",
              "\t<tr><td>ki </td><td>0.05256292</td><td>0</td></tr>\n",
              "\t<tr><td>se </td><td>0.05058601</td><td>0</td></tr>\n",
              "\t<tr><td>pri</td><td>0.04001787</td><td>0</td></tr>\n",
              "\t<tr><td>ali</td><td>0.03601871</td><td>0</td></tr>\n",
              "</tbody>\n",
              "</table>\n"
            ],
            "text/markdown": "\nA tibble: 5 × 3\n\n| Word &lt;chr&gt; | Score &lt;dbl&gt; | Topic &lt;int&gt; |\n|---|---|---|\n| za  | 0.05889539 | 0 |\n| ki  | 0.05256292 | 0 |\n| se  | 0.05058601 | 0 |\n| pri | 0.04001787 | 0 |\n| ali | 0.03601871 | 0 |\n\n",
            "text/latex": "A tibble: 5 × 3\n\\begin{tabular}{lll}\n Word & Score & Topic\\\\\n <chr> & <dbl> & <int>\\\\\n\\hline\n\t za  & 0.05889539 & 0\\\\\n\t ki  & 0.05256292 & 0\\\\\n\t se  & 0.05058601 & 0\\\\\n\t pri & 0.04001787 & 0\\\\\n\t ali & 0.03601871 & 0\\\\\n\\end{tabular}\n",
            "text/plain": [
              "  Word Score      Topic\n",
              "1 za   0.05889539 0    \n",
              "2 ki   0.05256292 0    \n",
              "3 se   0.05058601 0    \n",
              "4 pri  0.04001787 0    \n",
              "5 ali  0.03601871 0    "
            ]
          },
          "metadata": {}
        }
      ]
    },
    {
      "cell_type": "markdown",
      "source": [
        "## Interaktivna vizualizacija distribucije tem (topics)"
      ],
      "metadata": {
        "id": "MPoemj11OKdB"
      }
    },
    {
      "cell_type": "code",
      "source": [
        "# default filename: topic_dist_interactive.html\n",
        "visualize_distribution(model = topic_model,\n",
        "                       text_id = 1, # user input\n",
        "                       probabilities = probs) # see model training"
      ],
      "metadata": {
        "id": "PFtWlsTgoihW"
      },
      "execution_count": 31,
      "outputs": []
    },
    {
      "cell_type": "markdown",
      "source": [
        "## Interaktivna vizualizacija razdalje med temami (topics)"
      ],
      "metadata": {
        "id": "FIfUm46COknr"
      }
    },
    {
      "cell_type": "code",
      "source": [
        "visualize_topics(model = topic_model,\n",
        "                 filename = \"intertopic_distance_map\") # default name"
      ],
      "metadata": {
        "id": "EaLAyCmSonbh"
      },
      "execution_count": 32,
      "outputs": []
    },
    {
      "cell_type": "markdown",
      "source": [
        "## Podobnost tem (topics)"
      ],
      "metadata": {
        "id": "V9kmuXcmOrwG"
      }
    },
    {
      "cell_type": "code",
      "source": [
        "visualize_heatmap(model = topic_model,\n",
        "                  filename = \"topics_similarity_heatmap\",\n",
        "                  auto_open = FALSE)"
      ],
      "metadata": {
        "id": "UoEQEXyFosGL"
      },
      "execution_count": 33,
      "outputs": []
    },
    {
      "cell_type": "markdown",
      "source": [
        "## Hierarhija tem (topics)"
      ],
      "metadata": {
        "id": "k5hY91oUOZ3j"
      }
    },
    {
      "cell_type": "code",
      "source": [
        "visualize_hierarchy(model = topic_model,\n",
        "                    hierarchical_topics = NULL, # default\n",
        "                    filename = \"topic_hierarchy\", # default name, html extension\n",
        "                    auto_open = FALSE) # TRUE enables output in browser"
      ],
      "metadata": {
        "id": "kKYbZH2jotWG"
      },
      "execution_count": 34,
      "outputs": []
    },
    {
      "cell_type": "code",
      "source": [
        "hierarchical_topics = topic_model$hierarchical_topics(texts_cleaned)\n",
        "visualize_hierarchy(model = topic_model,\n",
        "                    hierarchical_topics = hierarchical_topics,\n",
        "                    filename = \"topic_hierarchy\", # default name, html extension\n",
        "                    auto_open = FALSE) # TRUE enables output in browser"
      ],
      "metadata": {
        "id": "czZgDbanoxdQ"
      },
      "execution_count": 35,
      "outputs": []
    },
    {
      "cell_type": "markdown",
      "source": [
        "## Interaktivna vizualazacija dokumentov 2D in 3D"
      ],
      "metadata": {
        "id": "uCoI7cqLO1Gi"
      }
    },
    {
      "cell_type": "code",
      "source": [
        "# Reduce dimensionality of embeddings using UMAP\n",
        "reduced_embeddings <- umap$UMAP(n_neighbors = 10L, n_components = 2L, min_dist = 0.0, metric = 'cosine')$fit_transform(embeddings)\n",
        "\n",
        "visualize_documents(model = topic_model,\n",
        "                    texts = texts_cleaned,\n",
        "                    reduced_embeddings = reduced_embeddings,\n",
        "                    filename = \"visualize_documents\", # default extension html\n",
        "                    auto_open = FALSE) # TRUE enables output in browser"
      ],
      "metadata": {
        "id": "zLcta7zZo5kR"
      },
      "execution_count": 36,
      "outputs": []
    },
    {
      "cell_type": "code",
      "source": [
        "# Reduce dimensionality of embeddings using UMAP\n",
        "reduced_embeddings <- umap$UMAP(n_neighbors = 10L, n_components = 3L, min_dist = 0.0, metric = 'cosine')$fit_transform(embeddings)\n",
        "\n",
        "visualize_documents_3d(model = topic_model,\n",
        "                       texts = texts_cleaned,\n",
        "                       reduced_embeddings = reduced_embeddings,\n",
        "                       custom_labels = FALSE, # default\n",
        "                       hide_annotation = TRUE, # default\n",
        "                       tooltips = c(\"Topic\", \"Name\", \"Probability\", \"Text\"), # deault\n",
        "                       filename = \"visualize_documents_3d\", # default name\n",
        "                       auto_open = FALSE) # TRUE enables output in browser"
      ],
      "metadata": {
        "id": "TqzRlm5Co-mm"
      },
      "execution_count": 37,
      "outputs": []
    },
    {
      "cell_type": "markdown",
      "source": [
        "## Časovna razporeditev tem (topics)"
      ],
      "metadata": {
        "id": "Uyfqc3NLPAss"
      }
    },
    {
      "cell_type": "code",
      "source": [
        "visualize_topics_over_time(model = topic_model,\n",
        "                           # see Topic Dynamics section above\n",
        "                           topics_over_time_model = topics_over_time,\n",
        "                           top_n_topics = 10, # default is 20\n",
        "                           filename = \"topics_over_time\") # default, html extension"
      ],
      "metadata": {
        "id": "4ORv1TK2pCpU"
      },
      "execution_count": 38,
      "outputs": []
    },
    {
      "cell_type": "markdown",
      "source": [
        "## Razporeditev tem (topics) po skupinah"
      ],
      "metadata": {
        "id": "-gLfY0s-PHsD"
      }
    },
    {
      "cell_type": "code",
      "source": [
        "classes = as.list(dataset$veda) # text types\n",
        "topics_per_class = topic_model$topics_per_class(texts_cleaned, classes=classes)\n",
        "\n",
        "visualize_topics_per_class(model = topic_model,\n",
        "                           topics_per_class = topics_per_class,\n",
        "                           start = 0, # default\n",
        "                           end = 10, # default\n",
        "                           filename = \"topics_per_class\", # default, html extension\n",
        "                           auto_open = FALSE) # TRUE enables output in browser"
      ],
      "metadata": {
        "id": "NQ1GmbL3pD7M",
        "colab": {
          "base_uri": "https://localhost:8080/",
          "height": 445
        },
        "outputId": "3bfcb981-f3d6-4b43-a766-0a84ac690d4b"
      },
      "execution_count": 39,
      "outputs": [
        {
          "output_type": "error",
          "ename": "ERROR",
          "evalue": "Error in value[[3L]](cond): Error generating the visualization: IndexError: index 0 is out of bounds for axis 0 with size 0\nRun `reticulate::py_last_error()` for details.\n",
          "traceback": [
            "Error in value[[3L]](cond): Error generating the visualization: IndexError: index 0 is out of bounds for axis 0 with size 0\nRun `reticulate::py_last_error()` for details.\nTraceback:\n",
            "1. tryCatch({\n .     model$visualize_topics_per_class(topics_per_class, topics = topics_list)\n . }, error = function(e) {\n .     stop(\"Error generating the visualization: \", e$message)\n . })",
            "2. tryCatchList(expr, classes, parentenv, handlers)",
            "3. tryCatchOne(expr, names, parentenv, handlers[[1L]])",
            "4. value[[3L]](cond)",
            "5. stop(\"Error generating the visualization: \", e$message)",
            "6. .handleSimpleError(function (cnd) \n . {\n .     watcher$capture_plot_and_output()\n .     cnd <- sanitize_call(cnd)\n .     watcher$push(cnd)\n .     switch(on_error, continue = invokeRestart(\"eval_continue\"), \n .         stop = invokeRestart(\"eval_stop\"), error = NULL)\n . }, \"Error generating the visualization: IndexError: index 0 is out of bounds for axis 0 with size 0\\nRun `reticulate::py_last_error()` for details.\", \n .     base::quote(value[[3L]](cond)))"
          ]
        }
      ]
    },
    {
      "cell_type": "markdown",
      "source": [
        "## Shrani / download interaktivne vizualizacije"
      ],
      "metadata": {
        "id": "YEabPIAKPVzA"
      }
    },
    {
      "cell_type": "code",
      "source": [
        "# prompt: download all html files in the /content/ folder to the local computer\n",
        "\n",
        "# This code requires the \"utils\" package which is a base R package\n",
        "# so you shouldn't need to install it\n",
        "\n",
        "# List all HTML files in the /content directory\n",
        "html_files <- list.files(path = \"/content/\", pattern = \"\\\\.html$\", full.names = TRUE)\n",
        "\n",
        "print(html_files)"
      ],
      "metadata": {
        "colab": {
          "base_uri": "https://localhost:8080/"
        },
        "id": "V6qcUb-ItB7x",
        "outputId": "ab697e32-6a7b-44ca-99da-6c54b9e644cc"
      },
      "execution_count": 40,
      "outputs": [
        {
          "output_type": "stream",
          "name": "stdout",
          "text": [
            "[1] \"/content//intertopic_distance_map.html\"             \n",
            "[2] \"/content//topic_dist_interactive.html\"              \n",
            "[3] \"/content//topic_hierarchy.html\"                     \n",
            "[4] \"/content//topics_over_time.html\"                    \n",
            "[5] \"/content//topics_similarity_heatmap.html\"           \n",
            "[6] \"/content//topics_topwords_interactive_barchart.html\"\n",
            "[7] \"/content//visualize_documents_3d.html\"              \n",
            "[8] \"/content//visualize_documents.html\"                 \n"
          ]
        }
      ]
    },
    {
      "cell_type": "code",
      "source": [
        "# Check if there are any HTML files\n",
        "if (length(html_files) > 0) {\n",
        "  # Download each HTML file\n",
        "  for (file in html_files) {\n",
        "    download.file(file, destfile = file)\n",
        "    # Print a message to indicate the download is complete\n",
        "    cat(paste(\"Downloaded:\", file, \"to\", local_file, \"\\n\"))\n",
        "  }\n",
        "} else {\n",
        "  # Print a message if no HTML files are found\n",
        "  message(\"No HTML files found in the /content directory.\")\n",
        "}"
      ],
      "metadata": {
        "colab": {
          "base_uri": "https://localhost:8080/",
          "height": 285
        },
        "id": "F_I19LjDvzqu",
        "outputId": "9a854e4b-d24e-4f75-eb91-c6de701ddd63"
      },
      "execution_count": 41,
      "outputs": [
        {
          "output_type": "stream",
          "name": "stderr",
          "text": [
            "Warning message in download.file(file, destfile = file):\n",
            "“URL '/content//intertopic_distance_map.html': status was 'URL using bad/illegal format or missing URL'”\n"
          ]
        },
        {
          "output_type": "error",
          "ename": "ERROR",
          "evalue": "Error in download.file(file, destfile = file): cannot open URL '/content//intertopic_distance_map.html'\n",
          "traceback": [
            "Error in download.file(file, destfile = file): cannot open URL '/content//intertopic_distance_map.html'\nTraceback:\n",
            "1. .handleSimpleError(function (cnd) \n . {\n .     watcher$capture_plot_and_output()\n .     cnd <- sanitize_call(cnd)\n .     watcher$push(cnd)\n .     switch(on_error, continue = invokeRestart(\"eval_continue\"), \n .         stop = invokeRestart(\"eval_stop\"), error = NULL)\n . }, \"cannot open URL '/content//intertopic_distance_map.html'\", \n .     base::quote(download.file(file, destfile = file)))"
          ]
        }
      ]
    }
  ]
}