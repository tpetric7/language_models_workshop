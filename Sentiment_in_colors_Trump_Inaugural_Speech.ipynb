{
  "cells": [
    {
      "cell_type": "markdown",
      "source": [
        "# Določevanje razpoloženja (sentimenta)\n",
        "\n",
        "## Namestitev programskih modulov"
      ],
      "metadata": {
        "id": "314OesR2L1mE"
      }
    },
    {
      "cell_type": "code",
      "source": [
        "!pip install transformers\n",
        "!pip install python-docx\n",
        "!pip install ipywidgets"
      ],
      "metadata": {
        "id": "gpwJDINIKcYq"
      },
      "execution_count": null,
      "outputs": []
    },
    {
      "cell_type": "markdown",
      "source": [
        "## Priklic programskih modulov"
      ],
      "metadata": {
        "id": "MzLjJ7p4MR6z"
      }
    },
    {
      "cell_type": "code",
      "source": [
        "from transformers import pipeline\n",
        "from docx import Document\n",
        "import re\n"
      ],
      "metadata": {
        "id": "e2l1f-OjMbFs"
      },
      "execution_count": null,
      "outputs": []
    },
    {
      "cell_type": "markdown",
      "source": [
        "## Priklic besedila"
      ],
      "metadata": {
        "id": "GJTZ9TVCMfaE"
      }
    },
    {
      "cell_type": "code",
      "source": [
        "# Naloži dokument\n",
        "file_path = '/content/Sporocilo sodelavcem univerze o kibernapadu anonimizirano.docx'\n",
        "doc = Document(file_path)\n"
      ],
      "metadata": {
        "id": "5QpQNJ1FMnPo"
      },
      "execution_count": null,
      "outputs": []
    },
    {
      "cell_type": "markdown",
      "source": [
        "## Priprava besedila\n",
        "\n",
        "V prvem koraku pridobimo besedilo iz naložene Wordove datoteke.\n",
        "\n",
        "V drugem koraku razdelimo besedilo na povedi. Merilo segmentacije so končna ločila. Pri tem opravilu nam pomagajo regularni izrazi."
      ],
      "metadata": {
        "id": "2cZsL5m7Muwm"
      }
    },
    {
      "cell_type": "code",
      "source": [
        "# Izvleči besedilo iz dokumenta\n",
        "text = \"\\n\".join([p.text for p in doc.paragraphs if p.text.strip()])\n",
        "sentences = re.split(r'(?<=[.!?]) +', text)\n"
      ],
      "metadata": {
        "id": "iP5DloHfNXxI"
      },
      "execution_count": null,
      "outputs": []
    },
    {
      "cell_type": "markdown",
      "source": [
        "## Priklic sentimentnega modela"
      ],
      "metadata": {
        "id": "sXV4QqttN0c8"
      }
    },
    {
      "cell_type": "code",
      "source": [
        "# Naloži model sentimentne analize\n",
        "sentiment_analysis = pipeline(\"sentiment-analysis\", model=\"cardiffnlp/twitter-xlm-roberta-base-sentiment\")\n"
      ],
      "metadata": {
        "id": "ZGdsxvRBN6fg"
      },
      "execution_count": null,
      "outputs": []
    },
    {
      "cell_type": "markdown",
      "source": [
        "## Analiza besedila"
      ],
      "metadata": {
        "id": "-LHqp8iwOCl6"
      }
    },
    {
      "cell_type": "code",
      "source": [
        "# Analiziraj sentiment posamezne povedi\n",
        "results = [{\"sentence\": sentence, \"sentiment\": sentiment_analysis(sentence)[0]} for sentence in sentences]\n"
      ],
      "metadata": {
        "id": "JrBIdPmSOIAW"
      },
      "execution_count": null,
      "outputs": []
    },
    {
      "cell_type": "markdown",
      "source": [
        "## Prikaz izidov"
      ],
      "metadata": {
        "id": "-mRBwvcTOQlS"
      }
    },
    {
      "cell_type": "code",
      "execution_count": null,
      "metadata": {
        "id": "XHGsNY0iKTVq"
      },
      "outputs": [],
      "source": [
        "# Prikaži rezultate\n",
        "for result in results:\n",
        "    print(f\"Sentence: {result['sentence']}\")\n",
        "    print(f\"Sentiment: {result['sentiment']['label']} (Score: {result['sentiment']['score']})\\n\")\n"
      ]
    },
    {
      "cell_type": "markdown",
      "source": [
        "## Sentiment v barvah\n",
        "\n",
        "S funkcijo get_color() obarvamo povedi besedila obarvamo glede na vrednost sentimenta (positive, neutral, negative).\n",
        "\n",
        "Nato ustvarimo osnovo za spletno stran v ustreznem oblikovnem slogu (naslov, nabor in velikost črk, velikost strani, barve).\n",
        "\n",
        "Sledi dodeljevanje izbranih barv (green, gray, red) posameznim povedim glede na izračunano vrednost razpoloženja (sentimenta).\n",
        "\n",
        "Na koncu shranimo spletno stran v datoteko s pripono 'html'.\n",
        "\n",
        "Datoteko lahko prenesemo na svoj računalnik in odpremo v brskalniku, npr. če v levem panelu odpremo mapo, izberemo 'Prenos' in v Raziskovalcu kliknemo html datoteko (privzeto jo najdemo v mapi 'Prenosi' / 'Downloads').\n",
        "\n"
      ],
      "metadata": {
        "id": "z1b1rVywOdWA"
      }
    },
    {
      "cell_type": "code",
      "execution_count": null,
      "metadata": {
        "id": "KWzRuS4LKTVr"
      },
      "outputs": [],
      "source": [
        "from IPython.core.display import display, HTML\n",
        "\n",
        "# Map labels to colors\n",
        "def get_color(label):\n",
        "    if label == \"POSITIVE\":\n",
        "        return \"green\"\n",
        "    elif label == \"NEGATIVE\":\n",
        "        return \"red\"\n",
        "    return \"gray\"  # Neutral\n",
        "\n",
        "# Create an HTML string with proper formatting\n",
        "html = \"\"\"<!DOCTYPE html>\n",
        "<html>\n",
        "<head>\n",
        "    <title>Sentiment Analysis</title>\n",
        "    <style>\n",
        "        body { font-family: Arial, sans-serif; line-height: 1.8; margin: 20px; }\n",
        "        .positive { color: green; }\n",
        "        .neutral { color: gray; }\n",
        "        .negative { color: red; }\n",
        "    </style>\n",
        "</head>\n",
        "<body>\n",
        "<h1>Sentiment Analysis Results</h1>\n",
        "<p>Below are the sentences from the document, colored based on their sentiment:</p>\n",
        "\"\"\"\n",
        "\n",
        "for result in results:\n",
        "    label = result[\"sentiment\"][\"label\"].lower()\n",
        "    html += f\"<p class='{label}'>{result['sentence']}</p>\\n\"\n",
        "\n",
        "html += \"</body></html>\"\n",
        "\n",
        "# Save the HTML to a file\n",
        "output_file = \"sentiment_analysis_colored.html\"\n",
        "with open(output_file, \"w\", encoding=\"utf-8\") as file:\n",
        "    file.write(html)\n",
        "\n",
        "print(f\"HTML file saved as {output_file}. Open it in a browser to view the results.\")"
      ]
    }
  ],
  "metadata": {
    "kernelspec": {
      "display_name": "Python 3",
      "language": "python",
      "name": "python3"
    },
    "language_info": {
      "codemirror_mode": {
        "name": "ipython",
        "version": 3
      },
      "file_extension": ".py",
      "mimetype": "text/x-python",
      "name": "python",
      "nbconvert_exporter": "python",
      "pygments_lexer": "ipython3",
      "version": "3.11.5"
    },
    "colab": {
      "provenance": []
    }
  },
  "nbformat": 4,
  "nbformat_minor": 0
}