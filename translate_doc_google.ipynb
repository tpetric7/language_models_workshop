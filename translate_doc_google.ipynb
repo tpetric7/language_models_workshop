{
 "cells": [
  {
   "cell_type": "markdown",
   "metadata": {},
   "source": [
    "# Translate Document with Google\n",
    "\n",
    "conda activate classify\n",
    "\n",
    "(pip install python-docx deep-translator)\n"
   ]
  },
  {
   "cell_type": "code",
   "execution_count": 6,
   "metadata": {},
   "outputs": [],
   "source": [
    "# pip install python-docx deep-translator"
   ]
  },
  {
   "cell_type": "code",
   "execution_count": 11,
   "metadata": {},
   "outputs": [],
   "source": [
    "input_path = r\"C:\\Users\\teodo\\Documents\\R\\FVG\\petric\\TESNIER3.docx\"\n",
    "output_path_first_half = r\"C:\\Users\\teodo\\Documents\\R\\FVG\\petric\\TESNIER3_First_Half_Translated.docx\"\n",
    "output_path_second_half = r\"C:\\Users\\teodo\\Documents\\R\\FVG\\petric\\TESNIER3_Second_Half_Translated.docx\"\n"
   ]
  },
  {
   "cell_type": "code",
   "execution_count": 13,
   "metadata": {},
   "outputs": [
    {
     "name": "stdout",
     "output_type": "stream",
     "text": [
      "True\n",
      "True\n",
      "True\n"
     ]
    }
   ],
   "source": [
    "import os\n",
    "print(os.path.exists(input_path))  # Should return True if the file exists\n",
    "print(os.path.exists(output_path_first_half))\n",
    "print(os.path.exists(output_path_second_half))\n"
   ]
  },
  {
   "cell_type": "code",
   "execution_count": null,
   "metadata": {},
   "outputs": [],
   "source": [
    "from docx import Document  # Import the Document class from python-docx\n",
    "from deep_translator import GoogleTranslator  # Import GoogleTranslator for translations\n",
    "\n",
    "# Function to translate text from German to English\n",
    "def translate_text(text, source_lang=\"de\", target_lang=\"en\"):\n",
    "    if text.strip():  # Only translate non-empty paragraphs\n",
    "        return GoogleTranslator(source=source_lang, target=target_lang).translate(text)\n",
    "    return text\n",
    "\n",
    "# Load the input Word document\n",
    "input_path = input_path  # Replace with your file path\n",
    "doc = Document(input_path)\n",
    "\n",
    "# Calculate the number of paragraphs\n",
    "total_paragraphs = len(doc.paragraphs)\n",
    "half_paragraphs = total_paragraphs // 2  # Define half the paragraphs\n",
    "\n",
    "# Translate the first half\n",
    "output_path_first_half = output_path_first_half  # Replace with your desired output path\n",
    "translated_doc = Document()\n",
    "\n",
    "for i in range(half_paragraphs):\n",
    "    paragraph = doc.paragraphs[i].text\n",
    "    translated_paragraph = translate_text(paragraph)  # Translate to English\n",
    "    translated_doc.add_paragraph(translated_paragraph)\n",
    "\n",
    "# Save the translated first half\n",
    "translated_doc.save(output_path_first_half)\n",
    "\n",
    "# Translate the second half\n",
    "output_path_second_half = output_path_second_half  # Replace with your desired output path\n",
    "translated_doc_second_half = Document()\n",
    "\n",
    "for i in range(half_paragraphs, total_paragraphs):\n",
    "    paragraph = doc.paragraphs[i].text\n",
    "    translated_paragraph = translate_text(paragraph)  # Translate to English\n",
    "    translated_doc_second_half.add_paragraph(translated_paragraph)\n",
    "\n",
    "# Save the translated second half\n",
    "translated_doc_second_half.save(output_path_second_half)\n",
    "\n",
    "print(\"Translation completed. Files saved as:\")\n",
    "print(f\"First half: {output_path_first_half}\")\n",
    "print(f\"Second half: {output_path_second_half}\")\n"
   ]
  }
 ],
 "metadata": {
  "kernelspec": {
   "display_name": "classify",
   "language": "python",
   "name": "python3"
  },
  "language_info": {
   "codemirror_mode": {
    "name": "ipython",
    "version": 3
   },
   "file_extension": ".py",
   "mimetype": "text/x-python",
   "name": "python",
   "nbconvert_exporter": "python",
   "pygments_lexer": "ipython3",
   "version": "3.11.9"
  }
 },
 "nbformat": 4,
 "nbformat_minor": 2
}
