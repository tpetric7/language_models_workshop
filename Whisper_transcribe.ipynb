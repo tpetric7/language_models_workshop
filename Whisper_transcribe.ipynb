{
  "nbformat": 4,
  "nbformat_minor": 0,
  "metadata": {
    "colab": {
      "provenance": [],
      "gpuType": "T4"
    },
    "kernelspec": {
      "name": "python3",
      "display_name": "Python 3"
    },
    "language_info": {
      "name": "python"
    },
    "accelerator": "GPU"
  },
  "cells": [
    {
      "cell_type": "markdown",
      "source": [
        "# Transkripcija z modelom OpenAI Whisper\n",
        "\n",
        "## Prompt\n",
        "\n",
        "Uporabnikov opis zaželenega programa: Write a Python script: install and import necessary modules for choosing audio files and playing them, then transcribe the audio file with OpenAI's Whisper model using a large multilingual, and last download the transcript.\n"
      ],
      "metadata": {
        "id": "jLSaOaESBJXU"
      }
    },
    {
      "cell_type": "markdown",
      "source": [
        "## Namestitev knjižnic"
      ],
      "metadata": {
        "id": "DFbeGOhXBpxL"
      }
    },
    {
      "cell_type": "code",
      "source": [
        "!pip install -q openai-whisper\n",
        "!pip install -q gradio\n",
        "!pip install -q pydub\n"
      ],
      "metadata": {
        "id": "2bCtKuL6BV3T"
      },
      "execution_count": 1,
      "outputs": []
    },
    {
      "cell_type": "markdown",
      "source": [
        "## Priklic programskih modulov"
      ],
      "metadata": {
        "id": "FkAIDdBPB6u3"
      }
    },
    {
      "cell_type": "code",
      "source": [
        "import whisper\n",
        "import gradio as gr\n",
        "from pydub import AudioSegment\n",
        "import os\n",
        "import tempfile\n"
      ],
      "metadata": {
        "id": "CL9fhksrB-Ka"
      },
      "execution_count": 2,
      "outputs": []
    },
    {
      "cell_type": "markdown",
      "source": [
        "## Priklic modela za transkripcijo"
      ],
      "metadata": {
        "id": "dhy6r3ihCFS8"
      }
    },
    {
      "cell_type": "code",
      "source": [
        "import torch\n",
        "\n",
        "# Load the Whisper model and move it to GPU explicitly\n",
        "device = \"cuda\" if torch.cuda.is_available() else \"cpu\"\n",
        "model = whisper.load_model(\"large-v3\").to(device)\n"
      ],
      "metadata": {
        "colab": {
          "base_uri": "https://localhost:8080/"
        },
        "id": "zxGRcrLhFk3u",
        "outputId": "a2081dd8-5509-41dd-acbd-ca9d7d309eba"
      },
      "execution_count": 3,
      "outputs": [
        {
          "output_type": "stream",
          "name": "stderr",
          "text": [
            "/usr/local/lib/python3.11/dist-packages/whisper/__init__.py:150: FutureWarning: You are using `torch.load` with `weights_only=False` (the current default value), which uses the default pickle module implicitly. It is possible to construct malicious pickle data which will execute arbitrary code during unpickling (See https://github.com/pytorch/pytorch/blob/main/SECURITY.md#untrusted-models for more details). In a future release, the default value for `weights_only` will be flipped to `True`. This limits the functions that could be executed during unpickling. Arbitrary objects will no longer be allowed to be loaded via this mode unless they are explicitly allowlisted by the user via `torch.serialization.add_safe_globals`. We recommend you start setting `weights_only=True` for any use case where you don't have full control of the loaded file. Please open an issue on GitHub for any issues related to this experimental feature.\n",
            "  checkpoint = torch.load(fp, map_location=device)\n"
          ]
        }
      ]
    },
    {
      "cell_type": "code",
      "source": [
        "import torch\n",
        "print(\"GPU available:\", torch.cuda.is_available())\n",
        "print(\"Device name:\", torch.cuda.get_device_name(0) if torch.cuda.is_available() else \"CPU\")\n"
      ],
      "metadata": {
        "colab": {
          "base_uri": "https://localhost:8080/"
        },
        "id": "Mcl2KgqKI0DZ",
        "outputId": "8fe18e8d-2351-480d-8f85-c960feeee8b9"
      },
      "execution_count": 8,
      "outputs": [
        {
          "output_type": "stream",
          "name": "stdout",
          "text": [
            "GPU available: True\n",
            "Device name: Tesla T4\n"
          ]
        }
      ]
    },
    {
      "cell_type": "markdown",
      "source": [
        "## Funkcija za transkripcijo"
      ],
      "metadata": {
        "id": "h-Kp32aUCqki"
      }
    },
    {
      "cell_type": "code",
      "source": [
        "def transcribe_audio(audio_file):\n",
        "    \"\"\"Transcribes audio using Whisper and returns the transcript.\"\"\"\n",
        "\n",
        "    temp_audio_path = None\n",
        "    temp_transcript_path = None\n",
        "    try:\n",
        "        # Pretvori zvok v pravilen format\n",
        "        audio = AudioSegment.from_file(audio_file)\n",
        "        audio = audio.set_frame_rate(16000)\n",
        "        audio = audio.set_channels(1)\n",
        "        with tempfile.NamedTemporaryFile(suffix=\".wav\", delete=False) as temp_audio_file:\n",
        "            audio.export(temp_audio_file.name, format=\"wav\")\n",
        "            temp_audio_path = temp_audio_file.name\n",
        "\n",
        "        # Transkripcija zvoka\n",
        "        result = model.transcribe(temp_audio_path, fp16=True)\n",
        "        transcript = result[\"text\"]\n",
        "\n",
        "        # Ustvari začasno datoteko za prenos transkripta\n",
        "        with tempfile.NamedTemporaryFile(suffix=\".txt\", delete=False, mode=\"w\") as temp_transcript_file:\n",
        "            temp_transcript_file.write(transcript)\n",
        "            temp_transcript_path = temp_transcript_file.name\n",
        "\n",
        "        # Počisti začasne datoteke za zvok\n",
        "        if temp_audio_path:\n",
        "            os.remove(temp_audio_path)\n",
        "\n",
        "        return transcript, temp_transcript_path  # Transkript in pot do datoteke\n",
        "    except Exception as e:\n",
        "        # Počisti začasne datoteke v primeru napake\n",
        "        if temp_audio_path:\n",
        "            os.remove(temp_audio_path)\n",
        "        if temp_transcript_path:\n",
        "            os.remove(temp_transcript_path)\n",
        "        return f\"Error: {e}\", None\n"
      ],
      "metadata": {
        "id": "Ci32ZMBmCxlF"
      },
      "execution_count": 15,
      "outputs": []
    },
    {
      "cell_type": "markdown",
      "source": [
        "## Uporabniški vmesnik"
      ],
      "metadata": {
        "id": "N8b273wQC2kE"
      }
    },
    {
      "cell_type": "code",
      "execution_count": null,
      "metadata": {
        "colab": {
          "base_uri": "https://localhost:8080/",
          "height": 647
        },
        "id": "XTq_ST0p7Dgm",
        "outputId": "70589d74-f280-4dc2-aead-372ead0c8098"
      },
      "outputs": [
        {
          "output_type": "stream",
          "name": "stdout",
          "text": [
            "Running Gradio in a Colab notebook requires sharing enabled. Automatically setting `share=True` (you can turn this off by setting `share=False` in `launch()` explicitly).\n",
            "\n",
            "Colab notebook detected. This cell will run indefinitely so that you can see errors and logs. To turn off, set debug=False in launch().\n",
            "* Running on public URL: https://8002757e7fd990d39e.gradio.live\n",
            "\n",
            "This share link expires in 72 hours. For free permanent hosting and GPU upgrades, run `gradio deploy` from the terminal in the working directory to deploy to Hugging Face Spaces (https://huggingface.co/spaces)\n"
          ]
        },
        {
          "output_type": "display_data",
          "data": {
            "text/plain": [
              "<IPython.core.display.HTML object>"
            ],
            "text/html": [
              "<div><iframe src=\"https://8002757e7fd990d39e.gradio.live\" width=\"100%\" height=\"500\" allow=\"autoplay; camera; microphone; clipboard-read; clipboard-write;\" frameborder=\"0\" allowfullscreen></iframe></div>"
            ]
          },
          "metadata": {}
        }
      ],
      "source": [
        "# Create Gradio interface\n",
        "iface = gr.Interface(\n",
        "    fn=transcribe_audio,\n",
        "    inputs=gr.Audio(type=\"filepath\"),\n",
        "    outputs=[\n",
        "        gr.Textbox(label=\"Transcript\"),\n",
        "        gr.File(label=\"Download Transcript\"),\n",
        "    ],\n",
        "    title=\"Audio Transcription\",\n",
        "    description=\"Transcribe audio using OpenAI's Whisper model.\",\n",
        ")\n",
        "\n",
        "iface.launch(debug=True)\n"
      ]
    },
    {
      "cell_type": "markdown",
      "source": [
        "Write a Python script: install and import necessary modules for choosing audio files and playing them, then transcribe the audio file with OpenAI's Whisper model using a large multilingual, and last download the transcript."
      ],
      "metadata": {
        "id": "GUOvRd6384jX"
      }
    }
  ]
}