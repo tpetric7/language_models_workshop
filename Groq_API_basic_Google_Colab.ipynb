{
  "cells": [
    {
      "cell_type": "markdown",
      "metadata": {
        "id": "eAb9IOdWyYG6"
      },
      "source": [
        "# GROQ API"
      ]
    },
    {
      "cell_type": "markdown",
      "metadata": {
        "id": "zTv_1fQiye1e"
      },
      "source": [
        "## Namestitev programskih modulov"
      ]
    },
    {
      "cell_type": "code",
      "execution_count": null,
      "metadata": {
        "colab": {
          "base_uri": "https://localhost:8080/"
        },
        "id": "M7NYeamutuSR",
        "outputId": "630e8d07-8a80-44e7-8885-6553efcdd0b0"
      },
      "outputs": [],
      "source": [
        "!pip install groq"
      ]
    },
    {
      "cell_type": "markdown",
      "metadata": {
        "id": "XmY3m2PXykRl"
      },
      "source": [
        "## Priklic programskih modulov"
      ]
    },
    {
      "cell_type": "code",
      "execution_count": null,
      "metadata": {
        "colab": {
          "base_uri": "https://localhost:8080/"
        },
        "id": "QfuPZ95Ot_JY",
        "outputId": "358380c0-b884-475e-b0c2-0bd895bb6775"
      },
      "outputs": [],
      "source": [
        "import os\n",
        "from groq import Groq\n"
      ]
    },
    {
      "cell_type": "markdown",
      "metadata": {
        "id": "eDblhwv6yEvb"
      },
      "source": [
        "## Ključ za Groq API\n",
        "\n",
        "Najprej vpiši ključ v Googlove 'skrivnosti' (secrets) - klikni ključ na levi strani za vpis in uveljavitev v tej beležnici!"
      ]
    },
    {
      "cell_type": "code",
      "execution_count": 18,
      "metadata": {
        "id": "dY7bxneZxIn8"
      },
      "outputs": [],
      "source": [
        "from google.colab import userdata\n",
        "# #Store your API Key in Colab's userdata\n",
        "# userdata.set('GROQ_API_KEY', 'YOUR_ACTUAL_API_KEY')\n",
        "# Retrieve it like so:\n",
        "my_api_key = userdata.get('GROQ_API_KEY')\n",
        "client = Groq(api_key=my_api_key)"
      ]
    },
    {
      "cell_type": "markdown",
      "metadata": {
        "id": "KNAEYUrwzJtI"
      },
      "source": [
        "## Priklic predloge in modela"
      ]
    },
    {
      "cell_type": "markdown",
      "metadata": {
        "id": "qAgAzESW620C"
      },
      "source": [
        "### Osnovna različica"
      ]
    },
    {
      "cell_type": "code",
      "execution_count": 20,
      "metadata": {
        "id": "qtL_RpdCzUv7"
      },
      "outputs": [],
      "source": [
        "chat_completion = client.chat.completions.create(\n",
        "    messages=[\n",
        "        {\n",
        "            \"role\": \"user\",\n",
        "            \"content\": \"Name me five cities in Slovenia with the largest population.\",\n",
        "        }\n",
        "    ],\n",
        "    model = \"llama-3.3-70b-versatile\"\n",
        ")"
      ]
    },
    {
      "cell_type": "markdown",
      "metadata": {
        "id": "87xFHcTQ68dm"
      },
      "source": [
        "### S sistemskim sporočilom\n",
        "\n",
        "Če želimo vplivati na način odgovora:"
      ]
    },
    {
      "cell_type": "code",
      "execution_count": 29,
      "metadata": {
        "id": "kc94df2i7KAI"
      },
      "outputs": [],
      "source": [
        "chat_completion = client.chat.completions.create(\n",
        "    messages=[\n",
        "        {\n",
        "            \"role\": \"system\",\n",
        "            \"content\": \"You are an expert in geography and will provide accurate and concise answers about populations and cities.\",\n",
        "        },\n",
        "        {\n",
        "            \"role\": \"user\",\n",
        "            \"content\": \"Name me five cities in Slovenia with the largest population.\",\n",
        "        }\n",
        "    ],\n",
        "    model=\"llama-3.3-70b-versatile\",\n",
        "    temperature=0.7,\n",
        "    max_tokens=1000\n",
        ")\n"
      ]
    },
    {
      "cell_type": "markdown",
      "metadata": {
        "id": "TZGOM8pB0xWG"
      },
      "source": [
        "## Izpis odgovora"
      ]
    },
    {
      "cell_type": "code",
      "execution_count": null,
      "metadata": {
        "colab": {
          "base_uri": "https://localhost:8080/"
        },
        "id": "00ORZBQd0067",
        "outputId": "c487d9c9-89c7-463f-ba71-fcf321d13280"
      },
      "outputs": [],
      "source": [
        "response = chat_completion.choices[0].message.content\n",
        "print(response)"
      ]
    },
    {
      "cell_type": "markdown",
      "metadata": {
        "id": "D4EFk8vp1-i4"
      },
      "source": [
        "## Prenos odgovora na lokalni računalnik"
      ]
    },
    {
      "cell_type": "code",
      "execution_count": null,
      "metadata": {
        "colab": {
          "base_uri": "https://localhost:8080/",
          "height": 17
        },
        "id": "pL0MbxtY2GKq",
        "outputId": "e09088eb-29e8-4ef9-987d-f4b3b3808d9a"
      },
      "outputs": [],
      "source": [
        "# Save response to a text file\n",
        "with open('response.txt', 'w', encoding='utf-8') as file:\n",
        "    file.write(response)\n",
        "\n",
        "from google.colab import files\n",
        "\n",
        "# Download the file\n",
        "files.download('response.txt')  # Replace with 'response.json' if saving as JSON\n"
      ]
    },
    {
      "cell_type": "markdown",
      "metadata": {
        "id": "aE6yi6cL4W0G"
      },
      "source": [
        "Če potrebujete strukturiran izpis:"
      ]
    },
    {
      "cell_type": "code",
      "execution_count": null,
      "metadata": {
        "colab": {
          "base_uri": "https://localhost:8080/",
          "height": 17
        },
        "id": "oHX7gsad4dKg",
        "outputId": "5de0040f-41bb-494d-c0f7-efed0c3462fa"
      },
      "outputs": [],
      "source": [
        "# Save response to a JSON file\n",
        "import json\n",
        "with open('response.json', 'w', encoding='utf-8') as file:\n",
        "    json.dump(response, file, ensure_ascii=False, indent=4)\n",
        "# Download the file\n",
        "files.download('response.json')  # Replace with 'response.txt' if saving as TXT\n"
      ]
    }
  ],
  "metadata": {
    "colab": {
      "provenance": []
    },
    "kernelspec": {
      "display_name": "Python 3",
      "name": "python3"
    },
    "language_info": {
      "name": "python"
    }
  },
  "nbformat": 4,
  "nbformat_minor": 0
}
