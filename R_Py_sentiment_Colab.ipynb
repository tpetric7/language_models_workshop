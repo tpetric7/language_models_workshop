{
  "nbformat": 4,
  "nbformat_minor": 0,
  "metadata": {
    "colab": {
      "provenance": []
    },
    "kernelspec": {
      "name": "ir",
      "display_name": "R"
    },
    "language_info": {
      "name": "R"
    }
  },
  "cells": [
    {
      "cell_type": "markdown",
      "source": [
        "# Ocena razpoloženja (sentimenta)\n",
        "\n",
        "Sentimentno analizo bomo opravili v računalniškem jeziku R, vendar ob podpori modela s transformersko arhitekturo, ki ga prikličemo iz Pythonovega okolja."
      ],
      "metadata": {
        "id": "Ec__rA9IeMW2"
      }
    },
    {
      "cell_type": "markdown",
      "source": [
        "## Priprava Pythonovega virtualnega okolja"
      ],
      "metadata": {
        "id": "LLzO_9AZeX83"
      }
    },
    {
      "cell_type": "markdown",
      "source": [
        "V virtualnem operacijskem sistemu Linux Googlovega kolaboratorija je treba najprej pripraviti Pythonovo virtualno okolje in namestiti Pythonove module, na katere se lahko sklicujejo funkcije v računalniškem jeziku R.\n",
        "\n",
        "V nevirtualnih operacijskih sistemih je priprava preprostejša."
      ],
      "metadata": {
        "id": "3CNNP6HnegMR"
      }
    },
    {
      "cell_type": "code",
      "source": [
        "# If needed, run shell commands in R via system()\n",
        "system(\"which python\")\n",
        "system(\"python --version\")\n",
        "system(\"sudo apt-get update -y\")\n",
        "system(\"sudo apt-get install -y python3-dev\")\n",
        "system(\"sudo apt-get install -y python3-venv\")\n"
      ],
      "metadata": {
        "id": "uXM5MRWySjHa"
      },
      "execution_count": 1,
      "outputs": []
    },
    {
      "cell_type": "markdown",
      "source": [
        "## R knjižnica reticulate\n",
        "\n",
        "Knjižnica reticulate je vmesnik za delo s Pythonom. Knjižnico namestimo z ukazom install.packages(), ki je značilen za R-ovo sinttakso. Prikličemo jo pa s funkcijo library()."
      ],
      "metadata": {
        "id": "gG-oPSYjYuVA"
      }
    },
    {
      "cell_type": "code",
      "source": [
        "install.packages(\"reticulate\")\n",
        "library(reticulate)\n"
      ],
      "metadata": {
        "colab": {
          "base_uri": "https://localhost:8080/"
        },
        "id": "UcRGpu8mRDtK",
        "outputId": "063f9357-7db1-40e8-f4a5-d697d335745a"
      },
      "execution_count": 2,
      "outputs": [
        {
          "output_type": "stream",
          "name": "stderr",
          "text": [
            "Installing package into ‘/usr/local/lib/R/site-library’\n",
            "(as ‘lib’ is unspecified)\n",
            "\n"
          ]
        }
      ]
    },
    {
      "cell_type": "markdown",
      "source": [
        "## Ustvarjanje Pythonovega okolja za R"
      ],
      "metadata": {
        "id": "Gg4pnzu3akvM"
      }
    },
    {
      "cell_type": "code",
      "source": [
        "# virtualenv_create(\"bertopic\", python = \"/usr/local/bin/python\")\n",
        "system(\"python3 -m venv /root/.virtualenvs/bertopic\")\n",
        "\n"
      ],
      "metadata": {
        "id": "V0rmbTcEReHT"
      },
      "execution_count": 3,
      "outputs": []
    },
    {
      "cell_type": "code",
      "source": [
        "system(\"pip install virtualenv\")\n",
        "system(\"virtualenv /root/.virtualenvs/bertopic\")\n"
      ],
      "metadata": {
        "id": "0uwcwz0Dlt3o"
      },
      "execution_count": 4,
      "outputs": []
    },
    {
      "cell_type": "markdown",
      "source": [
        "## Namestitev Pythonovih knjižnic\n",
        "\n",
        "Najprej s funkcijo use_virtualenv() aktiviramo zgoraj pripravljeno Pythonovo okolje \"bertopic\". Potem s py_install() nameščamo vse potrebne Pythonove knjižnice (module)."
      ],
      "metadata": {
        "id": "7qzhyJHAa7ld"
      }
    },
    {
      "cell_type": "code",
      "source": [
        "library(reticulate)\n",
        "use_virtualenv(\"bertopic\", required = TRUE)\n",
        "py_install(\"pandas\", envname = \"bertopic\")\n",
        "py_install(c(\"numpy\", \"matplotlib\"), envname = \"bertopic\")\n",
        "py_install(\"transformers\", envname = \"bertopic\")\n",
        "py_install(\"python-docx\", envname = \"bertopic\")\n"
      ],
      "metadata": {
        "colab": {
          "base_uri": "https://localhost:8080/"
        },
        "id": "XcV2AB-3UphO",
        "outputId": "6ae5a7e2-e900-4ea9-9562-a368b921f8bf"
      },
      "execution_count": 5,
      "outputs": [
        {
          "output_type": "stream",
          "name": "stdout",
          "text": [
            "Using virtual environment 'bertopic' ...\n"
          ]
        },
        {
          "output_type": "stream",
          "name": "stderr",
          "text": [
            "+ /root/.virtualenvs/bertopic/bin/python -m pip install --upgrade --no-user pandas\n",
            "\n"
          ]
        },
        {
          "output_type": "stream",
          "name": "stdout",
          "text": [
            "Using virtual environment 'bertopic' ...\n"
          ]
        },
        {
          "output_type": "stream",
          "name": "stderr",
          "text": [
            "+ /root/.virtualenvs/bertopic/bin/python -m pip install --upgrade --no-user numpy matplotlib\n",
            "\n"
          ]
        },
        {
          "output_type": "stream",
          "name": "stdout",
          "text": [
            "Using virtual environment 'bertopic' ...\n"
          ]
        },
        {
          "output_type": "stream",
          "name": "stderr",
          "text": [
            "+ /root/.virtualenvs/bertopic/bin/python -m pip install --upgrade --no-user transformers\n",
            "\n"
          ]
        },
        {
          "output_type": "stream",
          "name": "stdout",
          "text": [
            "Using virtual environment 'bertopic' ...\n"
          ]
        },
        {
          "output_type": "stream",
          "name": "stderr",
          "text": [
            "+ /root/.virtualenvs/bertopic/bin/python -m pip install --upgrade --no-user python-docx\n",
            "\n"
          ]
        }
      ]
    },
    {
      "cell_type": "code",
      "source": [
        "system(\"pip install torch torchvision torchaudio --index-url https://download.pytorch.org/whl/cu118\")\n",
        "system(\"pip install transformers\")\n",
        "system(\"pip install sentencepiece\")\n",
        "system(\"pip install protobuf\")"
      ],
      "metadata": {
        "id": "W-gfsU82mb9A"
      },
      "execution_count": 6,
      "outputs": []
    },
    {
      "cell_type": "markdown",
      "source": [
        "## Priklic Pythonovih knjižnic"
      ],
      "metadata": {
        "id": "FI6OmCBHboE1"
      }
    },
    {
      "cell_type": "code",
      "source": [
        "# Import necessary Python modules\n",
        "# Inicializacija knjižnic\n",
        "re <- import(\"re\")\n",
        "datetime <- import(\"datetime\")\n",
        "docx <- import(\"docx\")\n",
        "Document <- docx$Document\n",
        "pd <- import(\"pandas\")\n",
        "np <- import(\"numpy\")\n",
        "transformers <- import(\"transformers\")\n",
        "pipeline <- transformers$pipeline\n"
      ],
      "metadata": {
        "id": "hYD4on-yWHrI"
      },
      "execution_count": 7,
      "outputs": []
    },
    {
      "cell_type": "markdown",
      "source": [
        "## Namestitev knjižnic R"
      ],
      "metadata": {
        "id": "v54ix_HGcKOW"
      }
    },
    {
      "cell_type": "code",
      "source": [
        "install.packages(c(\"tidyverse\", \"tidytext\"))"
      ],
      "metadata": {
        "colab": {
          "base_uri": "https://localhost:8080/"
        },
        "id": "KwHLlG05XrRe",
        "outputId": "74e44cd2-6c2a-4bda-c0ec-bd8d4a8e29e3"
      },
      "execution_count": 8,
      "outputs": [
        {
          "output_type": "stream",
          "name": "stderr",
          "text": [
            "Installing packages into ‘/usr/local/lib/R/site-library’\n",
            "(as ‘lib’ is unspecified)\n",
            "\n"
          ]
        }
      ]
    },
    {
      "cell_type": "markdown",
      "source": [
        "## Priklic knjižnic R"
      ],
      "metadata": {
        "id": "SRmAjE57dMLr"
      }
    },
    {
      "cell_type": "code",
      "source": [
        "library(tidyverse)\n",
        "library(tidytext)\n"
      ],
      "metadata": {
        "colab": {
          "base_uri": "https://localhost:8080/"
        },
        "id": "D6AtOcQ3XU19",
        "outputId": "ed1bd4ea-e213-4f2b-a7cc-00b9dbeac015"
      },
      "execution_count": 9,
      "outputs": [
        {
          "output_type": "stream",
          "name": "stderr",
          "text": [
            "── \u001b[1mAttaching core tidyverse packages\u001b[22m ──────────────────────── tidyverse 2.0.0 ──\n",
            "\u001b[32m✔\u001b[39m \u001b[34mdplyr    \u001b[39m 1.1.4     \u001b[32m✔\u001b[39m \u001b[34mreadr    \u001b[39m 2.1.5\n",
            "\u001b[32m✔\u001b[39m \u001b[34mforcats  \u001b[39m 1.0.0     \u001b[32m✔\u001b[39m \u001b[34mstringr  \u001b[39m 1.5.1\n",
            "\u001b[32m✔\u001b[39m \u001b[34mggplot2  \u001b[39m 3.5.1     \u001b[32m✔\u001b[39m \u001b[34mtibble   \u001b[39m 3.2.1\n",
            "\u001b[32m✔\u001b[39m \u001b[34mlubridate\u001b[39m 1.9.4     \u001b[32m✔\u001b[39m \u001b[34mtidyr    \u001b[39m 1.3.1\n",
            "\u001b[32m✔\u001b[39m \u001b[34mpurrr    \u001b[39m 1.0.2     \n",
            "── \u001b[1mConflicts\u001b[22m ────────────────────────────────────────── tidyverse_conflicts() ──\n",
            "\u001b[31m✖\u001b[39m \u001b[34mdplyr\u001b[39m::\u001b[32mfilter()\u001b[39m masks \u001b[34mstats\u001b[39m::filter()\n",
            "\u001b[31m✖\u001b[39m \u001b[34mdplyr\u001b[39m::\u001b[32mlag()\u001b[39m    masks \u001b[34mstats\u001b[39m::lag()\n",
            "\u001b[36mℹ\u001b[39m Use the conflicted package (\u001b[3m\u001b[34m<http://conflicted.r-lib.org/>\u001b[39m\u001b[23m) to force all conflicts to become errors\n"
          ]
        }
      ]
    },
    {
      "cell_type": "markdown",
      "source": [
        "## Branje besedila"
      ],
      "metadata": {
        "id": "_ri-oPunk-qu"
      }
    },
    {
      "cell_type": "code",
      "source": [
        "input_folder <- \"/content/\"\n",
        "input_file <- \"Sporocilo sodelavcem univerze o kibernapadu.txt\"\n",
        "text <- read_lines(file.path(input_folder, input_file), locale = locale(encoding = 'UTF-8'))\n",
        "cat(head(text, 5), sep = \"\\n\")"
      ],
      "metadata": {
        "colab": {
          "base_uri": "https://localhost:8080/"
        },
        "id": "qU5hXT-CdB59",
        "outputId": "9216d99d-b58f-4ec5-c981-9d69eeaa7496"
      },
      "execution_count": 10,
      "outputs": [
        {
          "output_type": "stream",
          "name": "stdout",
          "text": [
            "Spoštovane sodelavke in sodelavci!\n",
            " \n",
            "23.10.2024 je bil v večernih urah izveden kibernetski napad z izsiljevalsko programsko kodo na vso informacijsko infrastrukturo Univerze v Mariboru, s čimer so bile onemogočene vse storitve, ki so nam tekoče na voljo, kot so: elektronska pošta, okolje spletne učilnice, spletne strani, digitalna identiteta, uporaba akademskega, kadrovskega in finančnega informacijskega sistema, uporaba orodja MS-Teams, storitev OneDrive in ostale. Natančnega vektorja napada kljub podrobni forenzični analizi neodvisnih forenzičnih strokovnjakov v tem trenutku še ni mogoče določiti, pri čemer pa je znan najverjetnejši prvo napadeni strežnik, na katerem je napadalec pustil tudi sporočilo o komunikacijskem kanalu, preko katerega ga lahko kontaktiramo. Kanal ni bil uporabljen, Univerza v Mariboru napadalca po tem kanalu, ki je zahteval namestitev posebne programske opreme, ni kontaktirala. Pri tem je pomembno poudariti, da vzrok napada ni bila menjava požarnega zidu in da smo imeli na UM ustrezno in po pravilih urejen sistem varovanja naše informacijsko-komunikacijske infrastrukture in sistem varovanih kopij podatkov. \n",
            "Z izvedenim napadom so bile prekinjene vse ustaljene poti elektronskega komuniciranja za podajanje relevantnih informacij in obveščanja akademske skupnosti, smo pa v vodstvu UM takoj pričeli z obveščanjem vodstev članic in organizirali vse potrebno, da so 24.10.2024 ter v vseh nadaljnjih dneh nemoteno potekali predvsem pedagoški, raziskovalni in kolikor je bilo mogoče tudi drugi delovni procesi. V samem procesu analize stanja po izvedenem napadu, zavarovanju digitalnih artefaktov in načrtovanju ponovne vzpostavitve sistema je bilo v dneh, ki so sledili, opravljeno izjemno delo s strani pristojnih IKT-strokovnjakov na RCUM in IKT-koordinatorjev na članicah, ki so se trudili sistem čim prej vrniti v prvotno stanje ter neumorno delali tudi ob vikendih in med prazničnimi dnevi. Pri tem so pomagali tudi sodelavci strokovnih služb, ki so organizirali in ponovno vzpostavili delovne procese. Za vso opravljeno požrtvovalno in predano delo se vsem iskreno zahvaljujem. Takoj po dogodku so nam priskočile na pomoč tudi številne zunanje institucije s svojimi strokovnjaki, ki so nesebično ponudili pomoč, za kar se jim posebej zahvaljujem. \n",
            "Pomembna informacija tako za zaposlene kot za študente UM je, da dosedanji podatki, zbrani iz različnih virov, nakazujejo, da do iznosa osebnih podatkov ni prišlo. Univerza v Mariboru doslej tudi ni prejela kakšne koli informacije ali grožnje, ki bi kazala na to, da so bili podatki odtujeni.\n"
          ]
        }
      ]
    },
    {
      "cell_type": "markdown",
      "source": [
        "## Branje nezaželenih besed\n",
        "\n",
        "Če potrebno, bomo izločili funkcijske besede, ki ne prispevajo k tematiki."
      ],
      "metadata": {
        "id": "SwjN2sEylEsa"
      }
    },
    {
      "cell_type": "code",
      "source": [
        "input_folder <- \"/content/\"\n",
        "input_file <- \"all_stopwords.txt\"\n",
        "all_stopwords <- read_lines(file.path(input_folder, input_file))"
      ],
      "metadata": {
        "id": "Qpgr2CaveF--"
      },
      "execution_count": 11,
      "outputs": []
    },
    {
      "cell_type": "markdown",
      "source": [
        "## Razdelitev na povedi\n",
        "\n",
        "Naš model najbolje deluje s povedmi. Zato razdelimo besedilo na povedi, bistveno merilo za segmentacijo pa so končna ločila."
      ],
      "metadata": {
        "id": "6I6FcdQ0lX6X"
      }
    },
    {
      "cell_type": "code",
      "source": [
        "txt <- tibble(text = text)\n",
        "sents <- txt %>%\n",
        "  unnest_sentences(sentences, text, to_lower = FALSE)\n",
        "sentences <- str_squish(sents$sentences)\n",
        "head(sentences)"
      ],
      "metadata": {
        "colab": {
          "base_uri": "https://localhost:8080/",
          "height": 191
        },
        "id": "vgNOKsYAeRJE",
        "outputId": "9f5ddcd5-984b-41ad-c356-39967af31d16"
      },
      "execution_count": 12,
      "outputs": [
        {
          "output_type": "display_data",
          "data": {
            "text/html": [
              "<style>\n",
              ".list-inline {list-style: none; margin:0; padding: 0}\n",
              ".list-inline>li {display: inline-block}\n",
              ".list-inline>li:not(:last-child)::after {content: \"\\00b7\"; padding: 0 .5ex}\n",
              "</style>\n",
              "<ol class=list-inline><li>'Spoštovane sodelavke in sodelavci!'</li><li>''</li><li>'23.10.2024 je bil v večernih urah izveden kibernetski napad z izsiljevalsko programsko kodo na vso informacijsko infrastrukturo Univerze v Mariboru, s čimer so bile onemogočene vse storitve, ki so nam tekoče na voljo, kot so: elektronska pošta, okolje spletne učilnice, spletne strani, digitalna identiteta, uporaba akademskega, kadrovskega in finančnega informacijskega sistema, uporaba orodja MS-Teams, storitev OneDrive in ostale.'</li><li>'Natančnega vektorja napada kljub podrobni forenzični analizi neodvisnih forenzičnih strokovnjakov v tem trenutku še ni mogoče določiti, pri čemer pa je znan najverjetnejši prvo napadeni strežnik, na katerem je napadalec pustil tudi sporočilo o komunikacijskem kanalu, preko katerega ga lahko kontaktiramo.'</li><li>'Kanal ni bil uporabljen, Univerza v Mariboru napadalca po tem kanalu, ki je zahteval namestitev posebne programske opreme, ni kontaktirala.'</li><li>'Pri tem je pomembno poudariti, da vzrok napada ni bila menjava požarnega zidu in da smo imeli na UM ustrezno in po pravilih urejen sistem varovanja naše informacijsko-komunikacijske infrastrukture in sistem varovanih kopij podatkov.'</li></ol>\n"
            ],
            "text/markdown": "1. 'Spoštovane sodelavke in sodelavci!'\n2. ''\n3. '23.10.2024 je bil v večernih urah izveden kibernetski napad z izsiljevalsko programsko kodo na vso informacijsko infrastrukturo Univerze v Mariboru, s čimer so bile onemogočene vse storitve, ki so nam tekoče na voljo, kot so: elektronska pošta, okolje spletne učilnice, spletne strani, digitalna identiteta, uporaba akademskega, kadrovskega in finančnega informacijskega sistema, uporaba orodja MS-Teams, storitev OneDrive in ostale.'\n4. 'Natančnega vektorja napada kljub podrobni forenzični analizi neodvisnih forenzičnih strokovnjakov v tem trenutku še ni mogoče določiti, pri čemer pa je znan najverjetnejši prvo napadeni strežnik, na katerem je napadalec pustil tudi sporočilo o komunikacijskem kanalu, preko katerega ga lahko kontaktiramo.'\n5. 'Kanal ni bil uporabljen, Univerza v Mariboru napadalca po tem kanalu, ki je zahteval namestitev posebne programske opreme, ni kontaktirala.'\n6. 'Pri tem je pomembno poudariti, da vzrok napada ni bila menjava požarnega zidu in da smo imeli na UM ustrezno in po pravilih urejen sistem varovanja naše informacijsko-komunikacijske infrastrukture in sistem varovanih kopij podatkov.'\n\n\n",
            "text/latex": "\\begin{enumerate*}\n\\item 'Spoštovane sodelavke in sodelavci!'\n\\item ''\n\\item '23.10.2024 je bil v večernih urah izveden kibernetski napad z izsiljevalsko programsko kodo na vso informacijsko infrastrukturo Univerze v Mariboru, s čimer so bile onemogočene vse storitve, ki so nam tekoče na voljo, kot so: elektronska pošta, okolje spletne učilnice, spletne strani, digitalna identiteta, uporaba akademskega, kadrovskega in finančnega informacijskega sistema, uporaba orodja MS-Teams, storitev OneDrive in ostale.'\n\\item 'Natančnega vektorja napada kljub podrobni forenzični analizi neodvisnih forenzičnih strokovnjakov v tem trenutku še ni mogoče določiti, pri čemer pa je znan najverjetnejši prvo napadeni strežnik, na katerem je napadalec pustil tudi sporočilo o komunikacijskem kanalu, preko katerega ga lahko kontaktiramo.'\n\\item 'Kanal ni bil uporabljen, Univerza v Mariboru napadalca po tem kanalu, ki je zahteval namestitev posebne programske opreme, ni kontaktirala.'\n\\item 'Pri tem je pomembno poudariti, da vzrok napada ni bila menjava požarnega zidu in da smo imeli na UM ustrezno in po pravilih urejen sistem varovanja naše informacijsko-komunikacijske infrastrukture in sistem varovanih kopij podatkov.'\n\\end{enumerate*}\n",
            "text/plain": [
              "[1] \"Spoštovane sodelavke in sodelavci!\"                                                                                                                                                                                                                                                                                                                                                                                                               \n",
              "[2] \"\"                                                                                                                                                                                                                                                                                                                                                                                                                                                 \n",
              "[3] \"23.10.2024 je bil v večernih urah izveden kibernetski napad z izsiljevalsko programsko kodo na vso informacijsko infrastrukturo Univerze v Mariboru, s čimer so bile onemogočene vse storitve, ki so nam tekoče na voljo, kot so: elektronska pošta, okolje spletne učilnice, spletne strani, digitalna identiteta, uporaba akademskega, kadrovskega in finančnega informacijskega sistema, uporaba orodja MS-Teams, storitev OneDrive in ostale.\"\n",
              "[4] \"Natančnega vektorja napada kljub podrobni forenzični analizi neodvisnih forenzičnih strokovnjakov v tem trenutku še ni mogoče določiti, pri čemer pa je znan najverjetnejši prvo napadeni strežnik, na katerem je napadalec pustil tudi sporočilo o komunikacijskem kanalu, preko katerega ga lahko kontaktiramo.\"                                                                                                                                \n",
              "[5] \"Kanal ni bil uporabljen, Univerza v Mariboru napadalca po tem kanalu, ki je zahteval namestitev posebne programske opreme, ni kontaktirala.\"                                                                                                                                                                                                                                                                                                      \n",
              "[6] \"Pri tem je pomembno poudariti, da vzrok napada ni bila menjava požarnega zidu in da smo imeli na UM ustrezno in po pravilih urejen sistem varovanja naše informacijsko-komunikacijske infrastrukture in sistem varovanih kopij podatkov.\"                                                                                                                                                                                                         "
            ]
          },
          "metadata": {}
        }
      ]
    },
    {
      "cell_type": "markdown",
      "source": [
        "## Priklic modela za sentimentno analizo"
      ],
      "metadata": {
        "id": "t93rNI7zmCID"
      }
    },
    {
      "cell_type": "code",
      "source": [
        "# Naloži model sentimentne analize\n",
        "sentiment_analysis <- pipeline('sentiment-analysis', model = 'cardiffnlp/twitter-xlm-roberta-base-sentiment')\n"
      ],
      "metadata": {
        "id": "d1s8MUvimI5m"
      },
      "execution_count": 15,
      "outputs": []
    },
    {
      "cell_type": "markdown",
      "source": [
        "## Analiza razpoloženja (sentimenta)"
      ],
      "metadata": {
        "id": "2eaGqICvpdAE"
      }
    },
    {
      "cell_type": "code",
      "source": [
        "# Analiziraj sentiment\n",
        "results <- lapply(sentences, function(sentence) {\n",
        "  # sentiment <- py_to_r(sentiment_analysis(sentence))[[1]]\n",
        "  sentiment <- sentiment_analysis(sentence)[[1]]\n",
        "  list(sentence = sentence, label = sentiment$label, score = sentiment$score)\n",
        "})\n",
        "\n"
      ],
      "metadata": {
        "id": "lPZU4jFYee68"
      },
      "execution_count": 16,
      "outputs": []
    },
    {
      "cell_type": "code",
      "source": [
        "head(results)"
      ],
      "metadata": {
        "colab": {
          "base_uri": "https://localhost:8080/",
          "height": 774
        },
        "id": "QoqquS6zpwL5",
        "outputId": "6becca29-eeb2-4ba4-a715-75c51c883a3d"
      },
      "execution_count": 20,
      "outputs": [
        {
          "output_type": "display_data",
          "data": {
            "text/html": [
              "<ol>\n",
              "\t<li><dl>\n",
              "\t<dt>$sentence</dt>\n",
              "\t\t<dd>'Spoštovane sodelavke in sodelavci!'</dd>\n",
              "\t<dt>$label</dt>\n",
              "\t\t<dd>'negative'</dd>\n",
              "\t<dt>$score</dt>\n",
              "\t\t<dd>0.445899963378906</dd>\n",
              "</dl>\n",
              "</li>\n",
              "\t<li><dl>\n",
              "\t<dt>$sentence</dt>\n",
              "\t\t<dd>''</dd>\n",
              "\t<dt>$label</dt>\n",
              "\t\t<dd>'negative'</dd>\n",
              "\t<dt>$score</dt>\n",
              "\t\t<dd>0.347299516201019</dd>\n",
              "</dl>\n",
              "</li>\n",
              "\t<li><dl>\n",
              "\t<dt>$sentence</dt>\n",
              "\t\t<dd>'23.10.2024 je bil v večernih urah izveden kibernetski napad z izsiljevalsko programsko kodo na vso informacijsko infrastrukturo Univerze v Mariboru, s čimer so bile onemogočene vse storitve, ki so nam tekoče na voljo, kot so: elektronska pošta, okolje spletne učilnice, spletne strani, digitalna identiteta, uporaba akademskega, kadrovskega in finančnega informacijskega sistema, uporaba orodja MS-Teams, storitev OneDrive in ostale.'</dd>\n",
              "\t<dt>$label</dt>\n",
              "\t\t<dd>'neutral'</dd>\n",
              "\t<dt>$score</dt>\n",
              "\t\t<dd>0.83770477771759</dd>\n",
              "</dl>\n",
              "</li>\n",
              "\t<li><dl>\n",
              "\t<dt>$sentence</dt>\n",
              "\t\t<dd>'Natančnega vektorja napada kljub podrobni forenzični analizi neodvisnih forenzičnih strokovnjakov v tem trenutku še ni mogoče določiti, pri čemer pa je znan najverjetnejši prvo napadeni strežnik, na katerem je napadalec pustil tudi sporočilo o komunikacijskem kanalu, preko katerega ga lahko kontaktiramo.'</dd>\n",
              "\t<dt>$label</dt>\n",
              "\t\t<dd>'neutral'</dd>\n",
              "\t<dt>$score</dt>\n",
              "\t\t<dd>0.611867785453796</dd>\n",
              "</dl>\n",
              "</li>\n",
              "\t<li><dl>\n",
              "\t<dt>$sentence</dt>\n",
              "\t\t<dd>'Kanal ni bil uporabljen, Univerza v Mariboru napadalca po tem kanalu, ki je zahteval namestitev posebne programske opreme, ni kontaktirala.'</dd>\n",
              "\t<dt>$label</dt>\n",
              "\t\t<dd>'neutral'</dd>\n",
              "\t<dt>$score</dt>\n",
              "\t\t<dd>0.506673514842987</dd>\n",
              "</dl>\n",
              "</li>\n",
              "\t<li><dl>\n",
              "\t<dt>$sentence</dt>\n",
              "\t\t<dd>'Pri tem je pomembno poudariti, da vzrok napada ni bila menjava požarnega zidu in da smo imeli na UM ustrezno in po pravilih urejen sistem varovanja naše informacijsko-komunikacijske infrastrukture in sistem varovanih kopij podatkov.'</dd>\n",
              "\t<dt>$label</dt>\n",
              "\t\t<dd>'neutral'</dd>\n",
              "\t<dt>$score</dt>\n",
              "\t\t<dd>0.649395227432251</dd>\n",
              "</dl>\n",
              "</li>\n",
              "</ol>\n"
            ],
            "text/markdown": "1. $sentence\n:   'Spoštovane sodelavke in sodelavci!'\n$label\n:   'negative'\n$score\n:   0.445899963378906\n\n\n\n2. $sentence\n:   ''\n$label\n:   'negative'\n$score\n:   0.347299516201019\n\n\n\n3. $sentence\n:   '23.10.2024 je bil v večernih urah izveden kibernetski napad z izsiljevalsko programsko kodo na vso informacijsko infrastrukturo Univerze v Mariboru, s čimer so bile onemogočene vse storitve, ki so nam tekoče na voljo, kot so: elektronska pošta, okolje spletne učilnice, spletne strani, digitalna identiteta, uporaba akademskega, kadrovskega in finančnega informacijskega sistema, uporaba orodja MS-Teams, storitev OneDrive in ostale.'\n$label\n:   'neutral'\n$score\n:   0.83770477771759\n\n\n\n4. $sentence\n:   'Natančnega vektorja napada kljub podrobni forenzični analizi neodvisnih forenzičnih strokovnjakov v tem trenutku še ni mogoče določiti, pri čemer pa je znan najverjetnejši prvo napadeni strežnik, na katerem je napadalec pustil tudi sporočilo o komunikacijskem kanalu, preko katerega ga lahko kontaktiramo.'\n$label\n:   'neutral'\n$score\n:   0.611867785453796\n\n\n\n5. $sentence\n:   'Kanal ni bil uporabljen, Univerza v Mariboru napadalca po tem kanalu, ki je zahteval namestitev posebne programske opreme, ni kontaktirala.'\n$label\n:   'neutral'\n$score\n:   0.506673514842987\n\n\n\n6. $sentence\n:   'Pri tem je pomembno poudariti, da vzrok napada ni bila menjava požarnega zidu in da smo imeli na UM ustrezno in po pravilih urejen sistem varovanja naše informacijsko-komunikacijske infrastrukture in sistem varovanih kopij podatkov.'\n$label\n:   'neutral'\n$score\n:   0.649395227432251\n\n\n\n\n\n",
            "text/latex": "\\begin{enumerate}\n\\item \\begin{description}\n\\item[\\$sentence] 'Spoštovane sodelavke in sodelavci!'\n\\item[\\$label] 'negative'\n\\item[\\$score] 0.445899963378906\n\\end{description}\n\n\\item \\begin{description}\n\\item[\\$sentence] ''\n\\item[\\$label] 'negative'\n\\item[\\$score] 0.347299516201019\n\\end{description}\n\n\\item \\begin{description}\n\\item[\\$sentence] '23.10.2024 je bil v večernih urah izveden kibernetski napad z izsiljevalsko programsko kodo na vso informacijsko infrastrukturo Univerze v Mariboru, s čimer so bile onemogočene vse storitve, ki so nam tekoče na voljo, kot so: elektronska pošta, okolje spletne učilnice, spletne strani, digitalna identiteta, uporaba akademskega, kadrovskega in finančnega informacijskega sistema, uporaba orodja MS-Teams, storitev OneDrive in ostale.'\n\\item[\\$label] 'neutral'\n\\item[\\$score] 0.83770477771759\n\\end{description}\n\n\\item \\begin{description}\n\\item[\\$sentence] 'Natančnega vektorja napada kljub podrobni forenzični analizi neodvisnih forenzičnih strokovnjakov v tem trenutku še ni mogoče določiti, pri čemer pa je znan najverjetnejši prvo napadeni strežnik, na katerem je napadalec pustil tudi sporočilo o komunikacijskem kanalu, preko katerega ga lahko kontaktiramo.'\n\\item[\\$label] 'neutral'\n\\item[\\$score] 0.611867785453796\n\\end{description}\n\n\\item \\begin{description}\n\\item[\\$sentence] 'Kanal ni bil uporabljen, Univerza v Mariboru napadalca po tem kanalu, ki je zahteval namestitev posebne programske opreme, ni kontaktirala.'\n\\item[\\$label] 'neutral'\n\\item[\\$score] 0.506673514842987\n\\end{description}\n\n\\item \\begin{description}\n\\item[\\$sentence] 'Pri tem je pomembno poudariti, da vzrok napada ni bila menjava požarnega zidu in da smo imeli na UM ustrezno in po pravilih urejen sistem varovanja naše informacijsko-komunikacijske infrastrukture in sistem varovanih kopij podatkov.'\n\\item[\\$label] 'neutral'\n\\item[\\$score] 0.649395227432251\n\\end{description}\n\n\\end{enumerate}\n",
            "text/plain": [
              "[[1]]\n",
              "[[1]]$sentence\n",
              "[1] \"Spoštovane sodelavke in sodelavci!\"\n",
              "\n",
              "[[1]]$label\n",
              "[1] \"negative\"\n",
              "\n",
              "[[1]]$score\n",
              "[1] 0.4459\n",
              "\n",
              "\n",
              "[[2]]\n",
              "[[2]]$sentence\n",
              "[1] \"\"\n",
              "\n",
              "[[2]]$label\n",
              "[1] \"negative\"\n",
              "\n",
              "[[2]]$score\n",
              "[1] 0.3472995\n",
              "\n",
              "\n",
              "[[3]]\n",
              "[[3]]$sentence\n",
              "[1] \"23.10.2024 je bil v večernih urah izveden kibernetski napad z izsiljevalsko programsko kodo na vso informacijsko infrastrukturo Univerze v Mariboru, s čimer so bile onemogočene vse storitve, ki so nam tekoče na voljo, kot so: elektronska pošta, okolje spletne učilnice, spletne strani, digitalna identiteta, uporaba akademskega, kadrovskega in finančnega informacijskega sistema, uporaba orodja MS-Teams, storitev OneDrive in ostale.\"\n",
              "\n",
              "[[3]]$label\n",
              "[1] \"neutral\"\n",
              "\n",
              "[[3]]$score\n",
              "[1] 0.8377048\n",
              "\n",
              "\n",
              "[[4]]\n",
              "[[4]]$sentence\n",
              "[1] \"Natančnega vektorja napada kljub podrobni forenzični analizi neodvisnih forenzičnih strokovnjakov v tem trenutku še ni mogoče določiti, pri čemer pa je znan najverjetnejši prvo napadeni strežnik, na katerem je napadalec pustil tudi sporočilo o komunikacijskem kanalu, preko katerega ga lahko kontaktiramo.\"\n",
              "\n",
              "[[4]]$label\n",
              "[1] \"neutral\"\n",
              "\n",
              "[[4]]$score\n",
              "[1] 0.6118678\n",
              "\n",
              "\n",
              "[[5]]\n",
              "[[5]]$sentence\n",
              "[1] \"Kanal ni bil uporabljen, Univerza v Mariboru napadalca po tem kanalu, ki je zahteval namestitev posebne programske opreme, ni kontaktirala.\"\n",
              "\n",
              "[[5]]$label\n",
              "[1] \"neutral\"\n",
              "\n",
              "[[5]]$score\n",
              "[1] 0.5066735\n",
              "\n",
              "\n",
              "[[6]]\n",
              "[[6]]$sentence\n",
              "[1] \"Pri tem je pomembno poudariti, da vzrok napada ni bila menjava požarnega zidu in da smo imeli na UM ustrezno in po pravilih urejen sistem varovanja naše informacijsko-komunikacijske infrastrukture in sistem varovanih kopij podatkov.\"\n",
              "\n",
              "[[6]]$label\n",
              "[1] \"neutral\"\n",
              "\n",
              "[[6]]$score\n",
              "[1] 0.6493952\n",
              "\n"
            ]
          },
          "metadata": {}
        }
      ]
    },
    {
      "cell_type": "markdown",
      "source": [
        "## Pretvorba v podatkovni niz"
      ],
      "metadata": {
        "id": "x2mTUqH-sEDG"
      }
    },
    {
      "cell_type": "code",
      "source": [
        "# Convert results to a data.frame\n",
        "results_df <- do.call(rbind, lapply(results, as.data.frame))\n",
        "rownames(results_df) <- NULL  # Remove row names\n",
        "head(results_df)\n"
      ],
      "metadata": {
        "colab": {
          "base_uri": "https://localhost:8080/",
          "height": 408
        },
        "id": "qQ7ZYuzHsH_Y",
        "outputId": "ddb8d00a-e909-473b-f04e-edec4110fa48"
      },
      "execution_count": 26,
      "outputs": [
        {
          "output_type": "display_data",
          "data": {
            "text/html": [
              "<table class=\"dataframe\">\n",
              "<caption>A data.frame: 6 × 3</caption>\n",
              "<thead>\n",
              "\t<tr><th></th><th scope=col>sentence</th><th scope=col>label</th><th scope=col>score</th></tr>\n",
              "\t<tr><th></th><th scope=col>&lt;chr&gt;</th><th scope=col>&lt;chr&gt;</th><th scope=col>&lt;dbl&gt;</th></tr>\n",
              "</thead>\n",
              "<tbody>\n",
              "\t<tr><th scope=row>1</th><td>Spoštovane sodelavke in sodelavci!                                                                                                                                                                                                                                                                                                                                                                                                               </td><td>negative</td><td>0.4459000</td></tr>\n",
              "\t<tr><th scope=row>2</th><td>                                                                                                                                                                                                                                                                                                                                                                                                                                                 </td><td>negative</td><td>0.3472995</td></tr>\n",
              "\t<tr><th scope=row>3</th><td>23.10.2024 je bil v večernih urah izveden kibernetski napad z izsiljevalsko programsko kodo na vso informacijsko infrastrukturo Univerze v Mariboru, s čimer so bile onemogočene vse storitve, ki so nam tekoče na voljo, kot so: elektronska pošta, okolje spletne učilnice, spletne strani, digitalna identiteta, uporaba akademskega, kadrovskega in finančnega informacijskega sistema, uporaba orodja MS-Teams, storitev OneDrive in ostale.</td><td>neutral </td><td>0.8377048</td></tr>\n",
              "\t<tr><th scope=row>4</th><td>Natančnega vektorja napada kljub podrobni forenzični analizi neodvisnih forenzičnih strokovnjakov v tem trenutku še ni mogoče določiti, pri čemer pa je znan najverjetnejši prvo napadeni strežnik, na katerem je napadalec pustil tudi sporočilo o komunikacijskem kanalu, preko katerega ga lahko kontaktiramo.                                                                                                                                </td><td>neutral </td><td>0.6118678</td></tr>\n",
              "\t<tr><th scope=row>5</th><td>Kanal ni bil uporabljen, Univerza v Mariboru napadalca po tem kanalu, ki je zahteval namestitev posebne programske opreme, ni kontaktirala.                                                                                                                                                                                                                                                                                                      </td><td>neutral </td><td>0.5066735</td></tr>\n",
              "\t<tr><th scope=row>6</th><td>Pri tem je pomembno poudariti, da vzrok napada ni bila menjava požarnega zidu in da smo imeli na UM ustrezno in po pravilih urejen sistem varovanja naše informacijsko-komunikacijske infrastrukture in sistem varovanih kopij podatkov.                                                                                                                                                                                                         </td><td>neutral </td><td>0.6493952</td></tr>\n",
              "</tbody>\n",
              "</table>\n"
            ],
            "text/markdown": "\nA data.frame: 6 × 3\n\n| <!--/--> | sentence &lt;chr&gt; | label &lt;chr&gt; | score &lt;dbl&gt; |\n|---|---|---|---|\n| 1 | Spoštovane sodelavke in sodelavci!                                                                                                                                                                                                                                                                                                                                                                                                                | negative | 0.4459000 |\n| 2 | <!----> | negative | 0.3472995 |\n| 3 | 23.10.2024 je bil v večernih urah izveden kibernetski napad z izsiljevalsko programsko kodo na vso informacijsko infrastrukturo Univerze v Mariboru, s čimer so bile onemogočene vse storitve, ki so nam tekoče na voljo, kot so: elektronska pošta, okolje spletne učilnice, spletne strani, digitalna identiteta, uporaba akademskega, kadrovskega in finančnega informacijskega sistema, uporaba orodja MS-Teams, storitev OneDrive in ostale. | neutral  | 0.8377048 |\n| 4 | Natančnega vektorja napada kljub podrobni forenzični analizi neodvisnih forenzičnih strokovnjakov v tem trenutku še ni mogoče določiti, pri čemer pa je znan najverjetnejši prvo napadeni strežnik, na katerem je napadalec pustil tudi sporočilo o komunikacijskem kanalu, preko katerega ga lahko kontaktiramo.                                                                                                                                 | neutral  | 0.6118678 |\n| 5 | Kanal ni bil uporabljen, Univerza v Mariboru napadalca po tem kanalu, ki je zahteval namestitev posebne programske opreme, ni kontaktirala.                                                                                                                                                                                                                                                                                                       | neutral  | 0.5066735 |\n| 6 | Pri tem je pomembno poudariti, da vzrok napada ni bila menjava požarnega zidu in da smo imeli na UM ustrezno in po pravilih urejen sistem varovanja naše informacijsko-komunikacijske infrastrukture in sistem varovanih kopij podatkov.                                                                                                                                                                                                          | neutral  | 0.6493952 |\n\n",
            "text/latex": "A data.frame: 6 × 3\n\\begin{tabular}{r|lll}\n  & sentence & label & score\\\\\n  & <chr> & <chr> & <dbl>\\\\\n\\hline\n\t1 & Spoštovane sodelavke in sodelavci!                                                                                                                                                                                                                                                                                                                                                                                                                & negative & 0.4459000\\\\\n\t2 &                                                                                                                                                                                                                                                                                                                                                                                                                                                   & negative & 0.3472995\\\\\n\t3 & 23.10.2024 je bil v večernih urah izveden kibernetski napad z izsiljevalsko programsko kodo na vso informacijsko infrastrukturo Univerze v Mariboru, s čimer so bile onemogočene vse storitve, ki so nam tekoče na voljo, kot so: elektronska pošta, okolje spletne učilnice, spletne strani, digitalna identiteta, uporaba akademskega, kadrovskega in finančnega informacijskega sistema, uporaba orodja MS-Teams, storitev OneDrive in ostale. & neutral  & 0.8377048\\\\\n\t4 & Natančnega vektorja napada kljub podrobni forenzični analizi neodvisnih forenzičnih strokovnjakov v tem trenutku še ni mogoče določiti, pri čemer pa je znan najverjetnejši prvo napadeni strežnik, na katerem je napadalec pustil tudi sporočilo o komunikacijskem kanalu, preko katerega ga lahko kontaktiramo.                                                                                                                                 & neutral  & 0.6118678\\\\\n\t5 & Kanal ni bil uporabljen, Univerza v Mariboru napadalca po tem kanalu, ki je zahteval namestitev posebne programske opreme, ni kontaktirala.                                                                                                                                                                                                                                                                                                       & neutral  & 0.5066735\\\\\n\t6 & Pri tem je pomembno poudariti, da vzrok napada ni bila menjava požarnega zidu in da smo imeli na UM ustrezno in po pravilih urejen sistem varovanja naše informacijsko-komunikacijske infrastrukture in sistem varovanih kopij podatkov.                                                                                                                                                                                                          & neutral  & 0.6493952\\\\\n\\end{tabular}\n",
            "text/plain": [
              "  sentence                                                                                                                                                                                                                                                                                                                                                                                                                                         \n",
              "1 Spoštovane sodelavke in sodelavci!                                                                                                                                                                                                                                                                                                                                                                                                               \n",
              "2                                                                                                                                                                                                                                                                                                                                                                                                                                                  \n",
              "3 23.10.2024 je bil v večernih urah izveden kibernetski napad z izsiljevalsko programsko kodo na vso informacijsko infrastrukturo Univerze v Mariboru, s čimer so bile onemogočene vse storitve, ki so nam tekoče na voljo, kot so: elektronska pošta, okolje spletne učilnice, spletne strani, digitalna identiteta, uporaba akademskega, kadrovskega in finančnega informacijskega sistema, uporaba orodja MS-Teams, storitev OneDrive in ostale.\n",
              "4 Natančnega vektorja napada kljub podrobni forenzični analizi neodvisnih forenzičnih strokovnjakov v tem trenutku še ni mogoče določiti, pri čemer pa je znan najverjetnejši prvo napadeni strežnik, na katerem je napadalec pustil tudi sporočilo o komunikacijskem kanalu, preko katerega ga lahko kontaktiramo.                                                                                                                                \n",
              "5 Kanal ni bil uporabljen, Univerza v Mariboru napadalca po tem kanalu, ki je zahteval namestitev posebne programske opreme, ni kontaktirala.                                                                                                                                                                                                                                                                                                      \n",
              "6 Pri tem je pomembno poudariti, da vzrok napada ni bila menjava požarnega zidu in da smo imeli na UM ustrezno in po pravilih urejen sistem varovanja naše informacijsko-komunikacijske infrastrukture in sistem varovanih kopij podatkov.                                                                                                                                                                                                         \n",
              "  label    score    \n",
              "1 negative 0.4459000\n",
              "2 negative 0.3472995\n",
              "3 neutral  0.8377048\n",
              "4 neutral  0.6118678\n",
              "5 neutral  0.5066735\n",
              "6 neutral  0.6493952"
            ]
          },
          "metadata": {}
        }
      ]
    },
    {
      "cell_type": "code",
      "source": [
        "write.csv(results_df, file = \"results.csv\", row.names = FALSE)\n"
      ],
      "metadata": {
        "id": "wKGYZf5RscUu"
      },
      "execution_count": 38,
      "outputs": []
    },
    {
      "cell_type": "markdown",
      "source": [
        "## Dodeljevanje barv"
      ],
      "metadata": {
        "id": "sWEFCmlfqNVL"
      }
    },
    {
      "cell_type": "code",
      "source": [
        "# Map sentiment labels to colors\n",
        "get_color <- function(label) {\n",
        "  if (label == \"POSITIVE\") {\n",
        "    return(\"green\")\n",
        "  } else if (label == \"NEGATIVE\") {\n",
        "    return(\"red\")\n",
        "  } else {\n",
        "    return(\"gray\")\n",
        "  }\n",
        "}\n"
      ],
      "metadata": {
        "id": "3zHKMCESl1Cq"
      },
      "execution_count": 21,
      "outputs": []
    },
    {
      "cell_type": "markdown",
      "source": [
        "## Predloga spletne strani"
      ],
      "metadata": {
        "id": "ICqVYECgqZ1w"
      }
    },
    {
      "cell_type": "code",
      "source": [
        "# Ustvari HTML vsebino\n",
        "html_content <- \"<!DOCTYPE html>\n",
        "<html>\n",
        "<head>\n",
        "    <title>Sentiment Analysis</title>\n",
        "    <style>\n",
        "        body { font-family: Arial, sans-serif; line-height: 1.8; margin: 20px; }\n",
        "        .positive { color: green; }\n",
        "        .neutral { color: gray; }\n",
        "        .negative { color: red; }\n",
        "    </style>\n",
        "</head>\n",
        "<body>\n",
        "<h1>Sentiment Analysis Results</h1>\n",
        "<p>Below are the sentences from the document, colored based on their sentiment:</p>\n",
        "\"\n",
        "\n"
      ],
      "metadata": {
        "id": "7mfdCmUrl6XL"
      },
      "execution_count": 22,
      "outputs": []
    },
    {
      "cell_type": "markdown",
      "source": [
        "## Dodeljevanje povedi barvam"
      ],
      "metadata": {
        "id": "oi3PFpTAqjb_"
      }
    },
    {
      "cell_type": "code",
      "source": [
        "# Dodaj povedi v HTML vsebino\n",
        "for (result in results) {\n",
        "  color_class <- tolower(result$label)\n",
        "  html_content <- paste0(html_content, \"<p class='\", color_class, \"'>\", result$sentence, \"</p>\\n\")\n",
        "}\n"
      ],
      "metadata": {
        "id": "ev_c6eBtmBpT"
      },
      "execution_count": 23,
      "outputs": []
    },
    {
      "cell_type": "code",
      "source": [
        "# Zaključi HTML vsebino\n",
        "html_content <- paste0(html_content, \"</body></html>\")\n"
      ],
      "metadata": {
        "id": "KnYrIpUPmXql"
      },
      "execution_count": 24,
      "outputs": []
    },
    {
      "cell_type": "markdown",
      "source": [
        "## Shrani HTML datoteko"
      ],
      "metadata": {
        "id": "0I5senAPwX7Y"
      }
    },
    {
      "cell_type": "code",
      "source": [
        "# Shrani HTML datoteko\n",
        "output_file <- \"sentiment_analysis_colored.html\"\n",
        "writeLines(html_content, output_file)\n",
        "\n",
        "cat(\"HTML file saved as\", output_file, \". Open it in a browser to view the results.\\n\")\n"
      ],
      "metadata": {
        "id": "WvjQOwPvnFng",
        "colab": {
          "base_uri": "https://localhost:8080/"
        },
        "outputId": "30dc2ae1-2593-4606-c71d-85a9666f9d71"
      },
      "execution_count": 25,
      "outputs": [
        {
          "output_type": "stream",
          "name": "stdout",
          "text": [
            "HTML file saved as sentiment_analysis_colored.html . Open it in a browser to view the results.\n"
          ]
        }
      ]
    }
  ]
}